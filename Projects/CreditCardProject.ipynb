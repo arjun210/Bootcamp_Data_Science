{
  "cells": [
    {
      "cell_type": "code",
      "execution_count": 1,
      "metadata": {
        "colab": {
          "base_uri": "https://localhost:8080/"
        },
        "id": "wgcUAm-JEDsj",
        "outputId": "58390015-92cc-4029-ff5b-61184e91084d"
      },
      "outputs": [
        {
          "output_type": "stream",
          "name": "stdout",
          "text": [
            "Mounted at /content/drive\n"
          ]
        }
      ],
      "source": [
        "from google.colab import drive\n",
        "\n",
        "drive.mount('/content/drive')"
      ]
    },
    {
      "cell_type": "code",
      "execution_count": 2,
      "metadata": {
        "id": "UusyQw4TP_RG"
      },
      "outputs": [],
      "source": [
        "import pandas as pd"
      ]
    },
    {
      "cell_type": "code",
      "execution_count": 3,
      "metadata": {
        "colab": {
          "base_uri": "https://localhost:8080/",
          "height": 487
        },
        "id": "Q9tiA05JEJY_",
        "outputId": "24fa9928-16e1-46f6-a828-201940d32284"
      },
      "outputs": [
        {
          "output_type": "execute_result",
          "data": {
            "text/plain": [
              "        SK_ID_CURR  TARGET NAME_CONTRACT_TYPE CODE_GENDER FLAG_OWN_CAR  \\\n",
              "0           100002       1         Cash loans           M            N   \n",
              "1           100003       0         Cash loans           F            N   \n",
              "2           100004       0    Revolving loans           M            Y   \n",
              "3           100006       0         Cash loans           F            N   \n",
              "4           100007       0         Cash loans           M            N   \n",
              "...            ...     ...                ...         ...          ...   \n",
              "307506      456251       0         Cash loans           M            N   \n",
              "307507      456252       0         Cash loans           F            N   \n",
              "307508      456253       0         Cash loans           F            N   \n",
              "307509      456254       1         Cash loans           F            N   \n",
              "307510      456255       0         Cash loans           F            N   \n",
              "\n",
              "       FLAG_OWN_REALTY  CNT_CHILDREN  AMT_INCOME_TOTAL  AMT_CREDIT  \\\n",
              "0                    Y             0          202500.0    406597.5   \n",
              "1                    N             0          270000.0   1293502.5   \n",
              "2                    Y             0           67500.0    135000.0   \n",
              "3                    Y             0          135000.0    312682.5   \n",
              "4                    Y             0          121500.0    513000.0   \n",
              "...                ...           ...               ...         ...   \n",
              "307506               N             0          157500.0    254700.0   \n",
              "307507               Y             0           72000.0    269550.0   \n",
              "307508               Y             0          153000.0    677664.0   \n",
              "307509               Y             0          171000.0    370107.0   \n",
              "307510               N             0          157500.0    675000.0   \n",
              "\n",
              "        AMT_ANNUITY  ...  FLAG_DOCUMENT_18 FLAG_DOCUMENT_19 FLAG_DOCUMENT_20  \\\n",
              "0           24700.5  ...                 0                0                0   \n",
              "1           35698.5  ...                 0                0                0   \n",
              "2            6750.0  ...                 0                0                0   \n",
              "3           29686.5  ...                 0                0                0   \n",
              "4           21865.5  ...                 0                0                0   \n",
              "...             ...  ...               ...              ...              ...   \n",
              "307506      27558.0  ...                 0                0                0   \n",
              "307507      12001.5  ...                 0                0                0   \n",
              "307508      29979.0  ...                 0                0                0   \n",
              "307509      20205.0  ...                 0                0                0   \n",
              "307510      49117.5  ...                 0                0                0   \n",
              "\n",
              "       FLAG_DOCUMENT_21 AMT_REQ_CREDIT_BUREAU_HOUR AMT_REQ_CREDIT_BUREAU_DAY  \\\n",
              "0                     0                        0.0                       0.0   \n",
              "1                     0                        0.0                       0.0   \n",
              "2                     0                        0.0                       0.0   \n",
              "3                     0                        NaN                       NaN   \n",
              "4                     0                        0.0                       0.0   \n",
              "...                 ...                        ...                       ...   \n",
              "307506                0                        NaN                       NaN   \n",
              "307507                0                        NaN                       NaN   \n",
              "307508                0                        1.0                       0.0   \n",
              "307509                0                        0.0                       0.0   \n",
              "307510                0                        0.0                       0.0   \n",
              "\n",
              "        AMT_REQ_CREDIT_BUREAU_WEEK  AMT_REQ_CREDIT_BUREAU_MON  \\\n",
              "0                              0.0                        0.0   \n",
              "1                              0.0                        0.0   \n",
              "2                              0.0                        0.0   \n",
              "3                              NaN                        NaN   \n",
              "4                              0.0                        0.0   \n",
              "...                            ...                        ...   \n",
              "307506                         NaN                        NaN   \n",
              "307507                         NaN                        NaN   \n",
              "307508                         0.0                        1.0   \n",
              "307509                         0.0                        0.0   \n",
              "307510                         0.0                        2.0   \n",
              "\n",
              "        AMT_REQ_CREDIT_BUREAU_QRT  AMT_REQ_CREDIT_BUREAU_YEAR  \n",
              "0                             0.0                         1.0  \n",
              "1                             0.0                         0.0  \n",
              "2                             0.0                         0.0  \n",
              "3                             NaN                         NaN  \n",
              "4                             0.0                         0.0  \n",
              "...                           ...                         ...  \n",
              "307506                        NaN                         NaN  \n",
              "307507                        NaN                         NaN  \n",
              "307508                        0.0                         1.0  \n",
              "307509                        0.0                         0.0  \n",
              "307510                        0.0                         1.0  \n",
              "\n",
              "[307511 rows x 122 columns]"
            ],
            "text/html": [
              "\n",
              "  <div id=\"df-a2ca4e2c-6937-4ffc-94bd-54fbe7ea052d\">\n",
              "    <div class=\"colab-df-container\">\n",
              "      <div>\n",
              "<style scoped>\n",
              "    .dataframe tbody tr th:only-of-type {\n",
              "        vertical-align: middle;\n",
              "    }\n",
              "\n",
              "    .dataframe tbody tr th {\n",
              "        vertical-align: top;\n",
              "    }\n",
              "\n",
              "    .dataframe thead th {\n",
              "        text-align: right;\n",
              "    }\n",
              "</style>\n",
              "<table border=\"1\" class=\"dataframe\">\n",
              "  <thead>\n",
              "    <tr style=\"text-align: right;\">\n",
              "      <th></th>\n",
              "      <th>SK_ID_CURR</th>\n",
              "      <th>TARGET</th>\n",
              "      <th>NAME_CONTRACT_TYPE</th>\n",
              "      <th>CODE_GENDER</th>\n",
              "      <th>FLAG_OWN_CAR</th>\n",
              "      <th>FLAG_OWN_REALTY</th>\n",
              "      <th>CNT_CHILDREN</th>\n",
              "      <th>AMT_INCOME_TOTAL</th>\n",
              "      <th>AMT_CREDIT</th>\n",
              "      <th>AMT_ANNUITY</th>\n",
              "      <th>...</th>\n",
              "      <th>FLAG_DOCUMENT_18</th>\n",
              "      <th>FLAG_DOCUMENT_19</th>\n",
              "      <th>FLAG_DOCUMENT_20</th>\n",
              "      <th>FLAG_DOCUMENT_21</th>\n",
              "      <th>AMT_REQ_CREDIT_BUREAU_HOUR</th>\n",
              "      <th>AMT_REQ_CREDIT_BUREAU_DAY</th>\n",
              "      <th>AMT_REQ_CREDIT_BUREAU_WEEK</th>\n",
              "      <th>AMT_REQ_CREDIT_BUREAU_MON</th>\n",
              "      <th>AMT_REQ_CREDIT_BUREAU_QRT</th>\n",
              "      <th>AMT_REQ_CREDIT_BUREAU_YEAR</th>\n",
              "    </tr>\n",
              "  </thead>\n",
              "  <tbody>\n",
              "    <tr>\n",
              "      <th>0</th>\n",
              "      <td>100002</td>\n",
              "      <td>1</td>\n",
              "      <td>Cash loans</td>\n",
              "      <td>M</td>\n",
              "      <td>N</td>\n",
              "      <td>Y</td>\n",
              "      <td>0</td>\n",
              "      <td>202500.0</td>\n",
              "      <td>406597.5</td>\n",
              "      <td>24700.5</td>\n",
              "      <td>...</td>\n",
              "      <td>0</td>\n",
              "      <td>0</td>\n",
              "      <td>0</td>\n",
              "      <td>0</td>\n",
              "      <td>0.0</td>\n",
              "      <td>0.0</td>\n",
              "      <td>0.0</td>\n",
              "      <td>0.0</td>\n",
              "      <td>0.0</td>\n",
              "      <td>1.0</td>\n",
              "    </tr>\n",
              "    <tr>\n",
              "      <th>1</th>\n",
              "      <td>100003</td>\n",
              "      <td>0</td>\n",
              "      <td>Cash loans</td>\n",
              "      <td>F</td>\n",
              "      <td>N</td>\n",
              "      <td>N</td>\n",
              "      <td>0</td>\n",
              "      <td>270000.0</td>\n",
              "      <td>1293502.5</td>\n",
              "      <td>35698.5</td>\n",
              "      <td>...</td>\n",
              "      <td>0</td>\n",
              "      <td>0</td>\n",
              "      <td>0</td>\n",
              "      <td>0</td>\n",
              "      <td>0.0</td>\n",
              "      <td>0.0</td>\n",
              "      <td>0.0</td>\n",
              "      <td>0.0</td>\n",
              "      <td>0.0</td>\n",
              "      <td>0.0</td>\n",
              "    </tr>\n",
              "    <tr>\n",
              "      <th>2</th>\n",
              "      <td>100004</td>\n",
              "      <td>0</td>\n",
              "      <td>Revolving loans</td>\n",
              "      <td>M</td>\n",
              "      <td>Y</td>\n",
              "      <td>Y</td>\n",
              "      <td>0</td>\n",
              "      <td>67500.0</td>\n",
              "      <td>135000.0</td>\n",
              "      <td>6750.0</td>\n",
              "      <td>...</td>\n",
              "      <td>0</td>\n",
              "      <td>0</td>\n",
              "      <td>0</td>\n",
              "      <td>0</td>\n",
              "      <td>0.0</td>\n",
              "      <td>0.0</td>\n",
              "      <td>0.0</td>\n",
              "      <td>0.0</td>\n",
              "      <td>0.0</td>\n",
              "      <td>0.0</td>\n",
              "    </tr>\n",
              "    <tr>\n",
              "      <th>3</th>\n",
              "      <td>100006</td>\n",
              "      <td>0</td>\n",
              "      <td>Cash loans</td>\n",
              "      <td>F</td>\n",
              "      <td>N</td>\n",
              "      <td>Y</td>\n",
              "      <td>0</td>\n",
              "      <td>135000.0</td>\n",
              "      <td>312682.5</td>\n",
              "      <td>29686.5</td>\n",
              "      <td>...</td>\n",
              "      <td>0</td>\n",
              "      <td>0</td>\n",
              "      <td>0</td>\n",
              "      <td>0</td>\n",
              "      <td>NaN</td>\n",
              "      <td>NaN</td>\n",
              "      <td>NaN</td>\n",
              "      <td>NaN</td>\n",
              "      <td>NaN</td>\n",
              "      <td>NaN</td>\n",
              "    </tr>\n",
              "    <tr>\n",
              "      <th>4</th>\n",
              "      <td>100007</td>\n",
              "      <td>0</td>\n",
              "      <td>Cash loans</td>\n",
              "      <td>M</td>\n",
              "      <td>N</td>\n",
              "      <td>Y</td>\n",
              "      <td>0</td>\n",
              "      <td>121500.0</td>\n",
              "      <td>513000.0</td>\n",
              "      <td>21865.5</td>\n",
              "      <td>...</td>\n",
              "      <td>0</td>\n",
              "      <td>0</td>\n",
              "      <td>0</td>\n",
              "      <td>0</td>\n",
              "      <td>0.0</td>\n",
              "      <td>0.0</td>\n",
              "      <td>0.0</td>\n",
              "      <td>0.0</td>\n",
              "      <td>0.0</td>\n",
              "      <td>0.0</td>\n",
              "    </tr>\n",
              "    <tr>\n",
              "      <th>...</th>\n",
              "      <td>...</td>\n",
              "      <td>...</td>\n",
              "      <td>...</td>\n",
              "      <td>...</td>\n",
              "      <td>...</td>\n",
              "      <td>...</td>\n",
              "      <td>...</td>\n",
              "      <td>...</td>\n",
              "      <td>...</td>\n",
              "      <td>...</td>\n",
              "      <td>...</td>\n",
              "      <td>...</td>\n",
              "      <td>...</td>\n",
              "      <td>...</td>\n",
              "      <td>...</td>\n",
              "      <td>...</td>\n",
              "      <td>...</td>\n",
              "      <td>...</td>\n",
              "      <td>...</td>\n",
              "      <td>...</td>\n",
              "      <td>...</td>\n",
              "    </tr>\n",
              "    <tr>\n",
              "      <th>307506</th>\n",
              "      <td>456251</td>\n",
              "      <td>0</td>\n",
              "      <td>Cash loans</td>\n",
              "      <td>M</td>\n",
              "      <td>N</td>\n",
              "      <td>N</td>\n",
              "      <td>0</td>\n",
              "      <td>157500.0</td>\n",
              "      <td>254700.0</td>\n",
              "      <td>27558.0</td>\n",
              "      <td>...</td>\n",
              "      <td>0</td>\n",
              "      <td>0</td>\n",
              "      <td>0</td>\n",
              "      <td>0</td>\n",
              "      <td>NaN</td>\n",
              "      <td>NaN</td>\n",
              "      <td>NaN</td>\n",
              "      <td>NaN</td>\n",
              "      <td>NaN</td>\n",
              "      <td>NaN</td>\n",
              "    </tr>\n",
              "    <tr>\n",
              "      <th>307507</th>\n",
              "      <td>456252</td>\n",
              "      <td>0</td>\n",
              "      <td>Cash loans</td>\n",
              "      <td>F</td>\n",
              "      <td>N</td>\n",
              "      <td>Y</td>\n",
              "      <td>0</td>\n",
              "      <td>72000.0</td>\n",
              "      <td>269550.0</td>\n",
              "      <td>12001.5</td>\n",
              "      <td>...</td>\n",
              "      <td>0</td>\n",
              "      <td>0</td>\n",
              "      <td>0</td>\n",
              "      <td>0</td>\n",
              "      <td>NaN</td>\n",
              "      <td>NaN</td>\n",
              "      <td>NaN</td>\n",
              "      <td>NaN</td>\n",
              "      <td>NaN</td>\n",
              "      <td>NaN</td>\n",
              "    </tr>\n",
              "    <tr>\n",
              "      <th>307508</th>\n",
              "      <td>456253</td>\n",
              "      <td>0</td>\n",
              "      <td>Cash loans</td>\n",
              "      <td>F</td>\n",
              "      <td>N</td>\n",
              "      <td>Y</td>\n",
              "      <td>0</td>\n",
              "      <td>153000.0</td>\n",
              "      <td>677664.0</td>\n",
              "      <td>29979.0</td>\n",
              "      <td>...</td>\n",
              "      <td>0</td>\n",
              "      <td>0</td>\n",
              "      <td>0</td>\n",
              "      <td>0</td>\n",
              "      <td>1.0</td>\n",
              "      <td>0.0</td>\n",
              "      <td>0.0</td>\n",
              "      <td>1.0</td>\n",
              "      <td>0.0</td>\n",
              "      <td>1.0</td>\n",
              "    </tr>\n",
              "    <tr>\n",
              "      <th>307509</th>\n",
              "      <td>456254</td>\n",
              "      <td>1</td>\n",
              "      <td>Cash loans</td>\n",
              "      <td>F</td>\n",
              "      <td>N</td>\n",
              "      <td>Y</td>\n",
              "      <td>0</td>\n",
              "      <td>171000.0</td>\n",
              "      <td>370107.0</td>\n",
              "      <td>20205.0</td>\n",
              "      <td>...</td>\n",
              "      <td>0</td>\n",
              "      <td>0</td>\n",
              "      <td>0</td>\n",
              "      <td>0</td>\n",
              "      <td>0.0</td>\n",
              "      <td>0.0</td>\n",
              "      <td>0.0</td>\n",
              "      <td>0.0</td>\n",
              "      <td>0.0</td>\n",
              "      <td>0.0</td>\n",
              "    </tr>\n",
              "    <tr>\n",
              "      <th>307510</th>\n",
              "      <td>456255</td>\n",
              "      <td>0</td>\n",
              "      <td>Cash loans</td>\n",
              "      <td>F</td>\n",
              "      <td>N</td>\n",
              "      <td>N</td>\n",
              "      <td>0</td>\n",
              "      <td>157500.0</td>\n",
              "      <td>675000.0</td>\n",
              "      <td>49117.5</td>\n",
              "      <td>...</td>\n",
              "      <td>0</td>\n",
              "      <td>0</td>\n",
              "      <td>0</td>\n",
              "      <td>0</td>\n",
              "      <td>0.0</td>\n",
              "      <td>0.0</td>\n",
              "      <td>0.0</td>\n",
              "      <td>2.0</td>\n",
              "      <td>0.0</td>\n",
              "      <td>1.0</td>\n",
              "    </tr>\n",
              "  </tbody>\n",
              "</table>\n",
              "<p>307511 rows × 122 columns</p>\n",
              "</div>\n",
              "      <button class=\"colab-df-convert\" onclick=\"convertToInteractive('df-a2ca4e2c-6937-4ffc-94bd-54fbe7ea052d')\"\n",
              "              title=\"Convert this dataframe to an interactive table.\"\n",
              "              style=\"display:none;\">\n",
              "        \n",
              "  <svg xmlns=\"http://www.w3.org/2000/svg\" height=\"24px\"viewBox=\"0 0 24 24\"\n",
              "       width=\"24px\">\n",
              "    <path d=\"M0 0h24v24H0V0z\" fill=\"none\"/>\n",
              "    <path d=\"M18.56 5.44l.94 2.06.94-2.06 2.06-.94-2.06-.94-.94-2.06-.94 2.06-2.06.94zm-11 1L8.5 8.5l.94-2.06 2.06-.94-2.06-.94L8.5 2.5l-.94 2.06-2.06.94zm10 10l.94 2.06.94-2.06 2.06-.94-2.06-.94-.94-2.06-.94 2.06-2.06.94z\"/><path d=\"M17.41 7.96l-1.37-1.37c-.4-.4-.92-.59-1.43-.59-.52 0-1.04.2-1.43.59L10.3 9.45l-7.72 7.72c-.78.78-.78 2.05 0 2.83L4 21.41c.39.39.9.59 1.41.59.51 0 1.02-.2 1.41-.59l7.78-7.78 2.81-2.81c.8-.78.8-2.07 0-2.86zM5.41 20L4 18.59l7.72-7.72 1.47 1.35L5.41 20z\"/>\n",
              "  </svg>\n",
              "      </button>\n",
              "      \n",
              "  <style>\n",
              "    .colab-df-container {\n",
              "      display:flex;\n",
              "      flex-wrap:wrap;\n",
              "      gap: 12px;\n",
              "    }\n",
              "\n",
              "    .colab-df-convert {\n",
              "      background-color: #E8F0FE;\n",
              "      border: none;\n",
              "      border-radius: 50%;\n",
              "      cursor: pointer;\n",
              "      display: none;\n",
              "      fill: #1967D2;\n",
              "      height: 32px;\n",
              "      padding: 0 0 0 0;\n",
              "      width: 32px;\n",
              "    }\n",
              "\n",
              "    .colab-df-convert:hover {\n",
              "      background-color: #E2EBFA;\n",
              "      box-shadow: 0px 1px 2px rgba(60, 64, 67, 0.3), 0px 1px 3px 1px rgba(60, 64, 67, 0.15);\n",
              "      fill: #174EA6;\n",
              "    }\n",
              "\n",
              "    [theme=dark] .colab-df-convert {\n",
              "      background-color: #3B4455;\n",
              "      fill: #D2E3FC;\n",
              "    }\n",
              "\n",
              "    [theme=dark] .colab-df-convert:hover {\n",
              "      background-color: #434B5C;\n",
              "      box-shadow: 0px 1px 3px 1px rgba(0, 0, 0, 0.15);\n",
              "      filter: drop-shadow(0px 1px 2px rgba(0, 0, 0, 0.3));\n",
              "      fill: #FFFFFF;\n",
              "    }\n",
              "  </style>\n",
              "\n",
              "      <script>\n",
              "        const buttonEl =\n",
              "          document.querySelector('#df-a2ca4e2c-6937-4ffc-94bd-54fbe7ea052d button.colab-df-convert');\n",
              "        buttonEl.style.display =\n",
              "          google.colab.kernel.accessAllowed ? 'block' : 'none';\n",
              "\n",
              "        async function convertToInteractive(key) {\n",
              "          const element = document.querySelector('#df-a2ca4e2c-6937-4ffc-94bd-54fbe7ea052d');\n",
              "          const dataTable =\n",
              "            await google.colab.kernel.invokeFunction('convertToInteractive',\n",
              "                                                     [key], {});\n",
              "          if (!dataTable) return;\n",
              "\n",
              "          const docLinkHtml = 'Like what you see? Visit the ' +\n",
              "            '<a target=\"_blank\" href=https://colab.research.google.com/notebooks/data_table.ipynb>data table notebook</a>'\n",
              "            + ' to learn more about interactive tables.';\n",
              "          element.innerHTML = '';\n",
              "          dataTable['output_type'] = 'display_data';\n",
              "          await google.colab.output.renderOutput(dataTable, element);\n",
              "          const docLink = document.createElement('div');\n",
              "          docLink.innerHTML = docLinkHtml;\n",
              "          element.appendChild(docLink);\n",
              "        }\n",
              "      </script>\n",
              "    </div>\n",
              "  </div>\n",
              "  "
            ]
          },
          "metadata": {},
          "execution_count": 3
        }
      ],
      "source": [
        "df=pd.read_csv('/content/drive/MyDrive/application_data.csv')\n",
        "df"
      ]
    },
    {
      "cell_type": "code",
      "execution_count": null,
      "metadata": {
        "id": "y2yTfIpMINSZ"
      },
      "outputs": [],
      "source": []
    },
    {
      "cell_type": "markdown",
      "metadata": {
        "id": "_rLw16AoKb4e"
      },
      "source": [
        "# Finding out categorical **values**"
      ]
    },
    {
      "cell_type": "code",
      "execution_count": 4,
      "metadata": {
        "colab": {
          "base_uri": "https://localhost:8080/"
        },
        "id": "xlLRii80INVI",
        "outputId": "6613978e-0d84-4be2-d8ba-fd4d0ab19525"
      },
      "outputs": [
        {
          "output_type": "stream",
          "name": "stdout",
          "text": [
            "Index(['NAME_CONTRACT_TYPE', 'CODE_GENDER', 'FLAG_OWN_CAR', 'FLAG_OWN_REALTY',\n",
            "       'NAME_TYPE_SUITE', 'NAME_INCOME_TYPE', 'NAME_EDUCATION_TYPE',\n",
            "       'NAME_FAMILY_STATUS', 'NAME_HOUSING_TYPE', 'OCCUPATION_TYPE',\n",
            "       'WEEKDAY_APPR_PROCESS_START', 'ORGANIZATION_TYPE', 'FONDKAPREMONT_MODE',\n",
            "       'HOUSETYPE_MODE', 'WALLSMATERIAL_MODE', 'EMERGENCYSTATE_MODE'],\n",
            "      dtype='object')\n"
          ]
        },
        {
          "output_type": "execute_result",
          "data": {
            "text/plain": [
              "(16,)"
            ]
          },
          "metadata": {},
          "execution_count": 4
        }
      ],
      "source": [
        "# Check the data types of each column\n",
        "data_types = df.dtypes\n",
        "\n",
        "# Select columns with categorical variables\n",
        "categorical_columns = data_types[data_types == 'object'].index\n",
        "\n",
        "# Print the categorical columns\n",
        "print(categorical_columns)\n",
        "categorical_columns.shape"
      ]
    },
    {
      "cell_type": "code",
      "execution_count": null,
      "metadata": {
        "colab": {
          "base_uri": "https://localhost:8080/"
        },
        "id": "s6AlwtJOIspY",
        "outputId": "ca7add97-1725-4a91-9115-e877d2a8bfc6"
      },
      "outputs": [
        {
          "data": {
            "text/plain": [
              "(16,)"
            ]
          },
          "execution_count": 54,
          "metadata": {},
          "output_type": "execute_result"
        }
      ],
      "source": [
        "categorical_columns.shape"
      ]
    },
    {
      "cell_type": "markdown",
      "metadata": {
        "id": "Umag2BXAKrJ4"
      },
      "source": [
        "# Find Count of instances in 0 and 1 **class**"
      ]
    },
    {
      "cell_type": "code",
      "execution_count": 5,
      "metadata": {
        "colab": {
          "base_uri": "https://localhost:8080/"
        },
        "id": "mDAafiKLJRYI",
        "outputId": "83f5183f-6db6-4f40-b2bc-cff8f6e04c2b"
      },
      "outputs": [
        {
          "output_type": "stream",
          "name": "stdout",
          "text": [
            "0    282686\n",
            "1     24825\n",
            "Name: TARGET, dtype: int64\n"
          ]
        }
      ],
      "source": [
        "\n",
        "# Specify the column of interest\n",
        "column_name = 'TARGET'\n",
        "\n",
        "# Count the instances in '0' and '1' class\n",
        "class_counts = df[column_name].value_counts()\n",
        "\n",
        "# Print the counts\n",
        "print(class_counts)"
      ]
    },
    {
      "cell_type": "code",
      "execution_count": 6,
      "metadata": {
        "colab": {
          "base_uri": "https://localhost:8080/",
          "height": 467
        },
        "id": "nPnCpLbBLoa5",
        "outputId": "add3078b-1185-4ab3-dcfa-30dbe259e603"
      },
      "outputs": [
        {
          "output_type": "display_data",
          "data": {
            "text/plain": [
              "<Figure size 640x480 with 1 Axes>"
            ],
            "image/png": "[encoded data removed]"
          },
          "metadata": {}
        }
      ],
      "source": [
        "import matplotlib.pyplot as plt\n",
        "\n",
        "\n",
        "\n",
        "# Create a bar plot\n",
        "class_counts.plot(kind='bar')\n",
        "\n",
        "# Set labels and title\n",
        "plt.xlabel('Class')\n",
        "plt.ylabel('Count')\n",
        "plt.title('Count of Instances in Class 0 and Class 1')\n",
        "\n",
        "# Display the plot\n",
        "plt.show()"
      ]
    },
    {
      "cell_type": "markdown",
      "metadata": {
        "id": "sAwoBcJtKwcB"
      },
      "source": [
        "# Find % of instances in 0 and 1 **class**"
      ]
    },
    {
      "cell_type": "code",
      "execution_count": 7,
      "metadata": {
        "colab": {
          "base_uri": "https://localhost:8080/"
        },
        "id": "ZSLULolpK7pz",
        "outputId": "b657f1b9-9e75-4710-d8bd-870091edcbb6"
      },
      "outputs": [
        {
          "output_type": "stream",
          "name": "stdout",
          "text": [
            "0    91.927118\n",
            "1     8.072882\n",
            "Name: TARGET, dtype: float64\n"
          ]
        }
      ],
      "source": [
        "\n",
        "# Calculate the percentage of instances in '0' and '1' class\n",
        "class_counts = df[column_name].value_counts()\n",
        "total_instances = class_counts.sum()\n",
        "\n",
        "class_percentages = class_counts / total_instances * 100\n",
        "\n",
        "# Print the percentages\n",
        "print(class_percentages)"
      ]
    },
    {
      "cell_type": "markdown",
      "metadata": {
        "id": "_SsArlcxLeeX"
      },
      "source": [
        "# Bar **Chart**"
      ]
    },
    {
      "cell_type": "code",
      "execution_count": 8,
      "metadata": {
        "colab": {
          "base_uri": "https://localhost:8080/",
          "height": 467
        },
        "id": "XwFasY9iLSTw",
        "outputId": "3794dfb3-c5fb-4079-c10f-366b533a2d4d"
      },
      "outputs": [
        {
          "output_type": "display_data",
          "data": {
            "text/plain": [
              "<Figure size 640x480 with 1 Axes>"
            ],
            "image/png": "[encoded data removed]"
          },
          "metadata": {}
        }
      ],
      "source": [
        "import matplotlib.pyplot as plt\n",
        "\n",
        "\n",
        "\n",
        "# Create a bar plot\n",
        "class_percentages.plot(kind='bar')\n",
        "\n",
        "# Set labels and title\n",
        "plt.xlabel('Class')\n",
        "plt.ylabel('Percentage')\n",
        "plt.title('Percentage of Instances in Class 0 and Class 1')\n",
        "\n",
        "# Display the plot\n",
        "plt.show()"
      ]
    },
    {
      "cell_type": "markdown",
      "metadata": {
        "id": "MNPLZkHvL1sE"
      },
      "source": [
        "# Find unique values in each **column**"
      ]
    },
    {
      "cell_type": "code",
      "execution_count": 9,
      "metadata": {
        "colab": {
          "base_uri": "https://localhost:8080/"
        },
        "id": "LF1yOZd9LzCl",
        "outputId": "b437188a-2937-4e9c-abdb-df307a3911f5"
      },
      "outputs": [
        {
          "output_type": "stream",
          "name": "stdout",
          "text": [
            "SK_ID_CURR 307511\n",
            "TARGET 2\n",
            "NAME_CONTRACT_TYPE 2\n",
            "CODE_GENDER 3\n",
            "FLAG_OWN_CAR 2\n",
            "FLAG_OWN_REALTY 2\n",
            "CNT_CHILDREN 15\n",
            "AMT_INCOME_TOTAL 2548\n",
            "AMT_CREDIT 5603\n",
            "AMT_ANNUITY 13673\n",
            "AMT_GOODS_PRICE 1003\n",
            "NAME_TYPE_SUITE 8\n",
            "NAME_INCOME_TYPE 8\n",
            "NAME_EDUCATION_TYPE 5\n",
            "NAME_FAMILY_STATUS 6\n",
            "NAME_HOUSING_TYPE 6\n",
            "REGION_POPULATION_RELATIVE 81\n",
            "DAYS_BIRTH 17460\n",
            "DAYS_EMPLOYED 12574\n",
            "DAYS_REGISTRATION 15688\n",
            "DAYS_ID_PUBLISH 6168\n",
            "OWN_CAR_AGE 63\n",
            "FLAG_MOBIL 2\n",
            "FLAG_EMP_PHONE 2\n",
            "FLAG_WORK_PHONE 2\n",
            "FLAG_CONT_MOBILE 2\n",
            "FLAG_PHONE 2\n",
            "FLAG_EMAIL 2\n",
            "OCCUPATION_TYPE 19\n",
            "CNT_FAM_MEMBERS 18\n",
            "REGION_RATING_CLIENT 3\n",
            "REGION_RATING_CLIENT_W_CITY 3\n",
            "WEEKDAY_APPR_PROCESS_START 7\n",
            "HOUR_APPR_PROCESS_START 24\n",
            "REG_REGION_NOT_LIVE_REGION 2\n",
            "REG_REGION_NOT_WORK_REGION 2\n",
            "LIVE_REGION_NOT_WORK_REGION 2\n",
            "REG_CITY_NOT_LIVE_CITY 2\n",
            "REG_CITY_NOT_WORK_CITY 2\n",
            "LIVE_CITY_NOT_WORK_CITY 2\n",
            "ORGANIZATION_TYPE 58\n",
            "EXT_SOURCE_1 114585\n",
            "EXT_SOURCE_2 119832\n",
            "EXT_SOURCE_3 815\n",
            "APARTMENTS_AVG 2340\n",
            "BASEMENTAREA_AVG 3781\n",
            "YEARS_BEGINEXPLUATATION_AVG 286\n",
            "YEARS_BUILD_AVG 150\n",
            "COMMONAREA_AVG 3182\n",
            "ELEVATORS_AVG 258\n",
            "ENTRANCES_AVG 286\n",
            "FLOORSMAX_AVG 404\n",
            "FLOORSMIN_AVG 306\n",
            "LANDAREA_AVG 3528\n",
            "LIVINGAPARTMENTS_AVG 1869\n",
            "LIVINGAREA_AVG 5200\n",
            "NONLIVINGAPARTMENTS_AVG 387\n",
            "NONLIVINGAREA_AVG 3291\n",
            "APARTMENTS_MODE 761\n",
            "BASEMENTAREA_MODE 3842\n",
            "YEARS_BEGINEXPLUATATION_MODE 222\n",
            "YEARS_BUILD_MODE 155\n",
            "COMMONAREA_MODE 3129\n",
            "ELEVATORS_MODE 27\n",
            "ENTRANCES_MODE 31\n",
            "FLOORSMAX_MODE 26\n",
            "FLOORSMIN_MODE 26\n",
            "LANDAREA_MODE 3564\n",
            "LIVINGAPARTMENTS_MODE 737\n",
            "LIVINGAREA_MODE 5302\n",
            "NONLIVINGAPARTMENTS_MODE 168\n",
            "NONLIVINGAREA_MODE 3328\n",
            "APARTMENTS_MEDI 1149\n",
            "BASEMENTAREA_MEDI 3773\n",
            "YEARS_BEGINEXPLUATATION_MEDI 246\n",
            "YEARS_BUILD_MEDI 152\n",
            "COMMONAREA_MEDI 3203\n",
            "ELEVATORS_MEDI 47\n",
            "ENTRANCES_MEDI 47\n",
            "FLOORSMAX_MEDI 50\n",
            "FLOORSMIN_MEDI 48\n",
            "LANDAREA_MEDI 3561\n",
            "LIVINGAPARTMENTS_MEDI 1098\n",
            "LIVINGAREA_MEDI 5282\n",
            "NONLIVINGAPARTMENTS_MEDI 215\n",
            "NONLIVINGAREA_MEDI 3324\n",
            "FONDKAPREMONT_MODE 5\n",
            "HOUSETYPE_MODE 4\n",
            "TOTALAREA_MODE 5117\n",
            "WALLSMATERIAL_MODE 8\n",
            "EMERGENCYSTATE_MODE 3\n",
            "OBS_30_CNT_SOCIAL_CIRCLE 34\n",
            "DEF_30_CNT_SOCIAL_CIRCLE 11\n",
            "OBS_60_CNT_SOCIAL_CIRCLE 34\n",
            "DEF_60_CNT_SOCIAL_CIRCLE 10\n",
            "DAYS_LAST_PHONE_CHANGE 3774\n",
            "FLAG_DOCUMENT_2 2\n",
            "FLAG_DOCUMENT_3 2\n",
            "FLAG_DOCUMENT_4 2\n",
            "FLAG_DOCUMENT_5 2\n",
            "FLAG_DOCUMENT_6 2\n",
            "FLAG_DOCUMENT_7 2\n",
            "FLAG_DOCUMENT_8 2\n",
            "FLAG_DOCUMENT_9 2\n",
            "FLAG_DOCUMENT_10 2\n",
            "FLAG_DOCUMENT_11 2\n",
            "FLAG_DOCUMENT_12 2\n",
            "FLAG_DOCUMENT_13 2\n",
            "FLAG_DOCUMENT_14 2\n",
            "FLAG_DOCUMENT_15 2\n",
            "FLAG_DOCUMENT_16 2\n",
            "FLAG_DOCUMENT_17 2\n",
            "FLAG_DOCUMENT_18 2\n",
            "FLAG_DOCUMENT_19 2\n",
            "FLAG_DOCUMENT_20 2\n",
            "FLAG_DOCUMENT_21 2\n",
            "AMT_REQ_CREDIT_BUREAU_HOUR 6\n",
            "AMT_REQ_CREDIT_BUREAU_DAY 10\n",
            "AMT_REQ_CREDIT_BUREAU_WEEK 10\n",
            "AMT_REQ_CREDIT_BUREAU_MON 25\n",
            "AMT_REQ_CREDIT_BUREAU_QRT 12\n",
            "AMT_REQ_CREDIT_BUREAU_YEAR 26\n"
          ]
        }
      ],
      "source": [
        "# How many unique values in each column\n",
        "column_names=list(df.columns)\n",
        "for k in column_names:\n",
        "  print(k, df[k].unique().shape[0])"
      ]
    },
    {
      "cell_type": "markdown",
      "metadata": {
        "id": "2HoQCQSWNdMa"
      },
      "source": [
        "# Find how many nan values in each **column**"
      ]
    },
    {
      "cell_type": "code",
      "execution_count": 10,
      "metadata": {
        "colab": {
          "base_uri": "https://localhost:8080/"
        },
        "id": "8YtQCMymNY7p",
        "outputId": "dd4c20b0-234c-4bcf-e873-a1aaa48308ae"
      },
      "outputs": [
        {
          "output_type": "execute_result",
          "data": {
            "text/plain": [
              "SK_ID_CURR                        0\n",
              "TARGET                            0\n",
              "NAME_CONTRACT_TYPE                0\n",
              "CODE_GENDER                       0\n",
              "FLAG_OWN_CAR                      0\n",
              "                              ...  \n",
              "AMT_REQ_CREDIT_BUREAU_DAY     41519\n",
              "AMT_REQ_CREDIT_BUREAU_WEEK    41519\n",
              "AMT_REQ_CREDIT_BUREAU_MON     41519\n",
              "AMT_REQ_CREDIT_BUREAU_QRT     41519\n",
              "AMT_REQ_CREDIT_BUREAU_YEAR    41519\n",
              "Length: 122, dtype: int64"
            ]
          },
          "metadata": {},
          "execution_count": 10
        }
      ],
      "source": [
        "df.isna().sum()"
      ]
    },
    {
      "cell_type": "code",
      "execution_count": 11,
      "metadata": {
        "colab": {
          "base_uri": "https://localhost:8080/"
        },
        "id": "SUd9Dt1GMlha",
        "outputId": "37870452-357a-4d18-d740-7a124877858a"
      },
      "outputs": [
        {
          "output_type": "stream",
          "name": "stdout",
          "text": [
            "SK_ID_CURR 0.0\n",
            "TARGET 0.0\n",
            "NAME_CONTRACT_TYPE 0.0\n",
            "CODE_GENDER 0.0\n",
            "FLAG_OWN_CAR 0.0\n",
            "FLAG_OWN_REALTY 0.0\n",
            "CNT_CHILDREN 0.0\n",
            "AMT_INCOME_TOTAL 0.0\n",
            "AMT_CREDIT 0.0\n",
            "AMT_ANNUITY 0.0039022994299390914\n",
            "AMT_GOODS_PRICE 0.09040327012692229\n",
            "NAME_TYPE_SUITE 0.42014757195677555\n",
            "NAME_INCOME_TYPE 0.0\n",
            "NAME_EDUCATION_TYPE 0.0\n",
            "NAME_FAMILY_STATUS 0.0\n",
            "NAME_HOUSING_TYPE 0.0\n",
            "REGION_POPULATION_RELATIVE 0.0\n",
            "DAYS_BIRTH 0.0\n",
            "DAYS_EMPLOYED 0.0\n",
            "DAYS_REGISTRATION 0.0\n",
            "DAYS_ID_PUBLISH 0.0\n",
            "OWN_CAR_AGE 65.9908100848425\n",
            "FLAG_MOBIL 0.0\n",
            "FLAG_EMP_PHONE 0.0\n",
            "FLAG_WORK_PHONE 0.0\n",
            "FLAG_CONT_MOBILE 0.0\n",
            "FLAG_PHONE 0.0\n",
            "FLAG_EMAIL 0.0\n",
            "OCCUPATION_TYPE 31.345545362604916\n",
            "CNT_FAM_MEMBERS 0.000650383238323182\n",
            "REGION_RATING_CLIENT 0.0\n",
            "REGION_RATING_CLIENT_W_CITY 0.0\n",
            "WEEKDAY_APPR_PROCESS_START 0.0\n",
            "HOUR_APPR_PROCESS_START 0.0\n",
            "REG_REGION_NOT_LIVE_REGION 0.0\n",
            "REG_REGION_NOT_WORK_REGION 0.0\n",
            "LIVE_REGION_NOT_WORK_REGION 0.0\n",
            "REG_CITY_NOT_LIVE_CITY 0.0\n",
            "REG_CITY_NOT_WORK_CITY 0.0\n",
            "LIVE_CITY_NOT_WORK_CITY 0.0\n",
            "ORGANIZATION_TYPE 0.0\n",
            "EXT_SOURCE_1 56.38107254699832\n",
            "EXT_SOURCE_2 0.21462646864665003\n",
            "EXT_SOURCE_3 19.825307062186393\n",
            "APARTMENTS_AVG 50.749729277977046\n",
            "BASEMENTAREA_AVG 58.515955526794166\n",
            "YEARS_BEGINEXPLUATATION_AVG 48.781019215572776\n",
            "YEARS_BUILD_AVG 66.49778381911541\n",
            "COMMONAREA_AVG 69.87229725115525\n",
            "ELEVATORS_AVG 53.29597965601231\n",
            "ENTRANCES_AVG 50.34876801155081\n",
            "FLOORSMAX_AVG 49.76082156410665\n",
            "FLOORSMIN_AVG 67.84862980511267\n",
            "LANDAREA_AVG 59.376737742714894\n",
            "LIVINGAPARTMENTS_AVG 68.35495315614726\n",
            "LIVINGAREA_AVG 50.193326417591564\n",
            "NONLIVINGAPARTMENTS_AVG 69.43296337366793\n",
            "NONLIVINGAREA_AVG 55.17916432257708\n",
            "APARTMENTS_MODE 50.749729277977046\n",
            "BASEMENTAREA_MODE 58.515955526794166\n",
            "YEARS_BEGINEXPLUATATION_MODE 48.781019215572776\n",
            "YEARS_BUILD_MODE 66.49778381911541\n",
            "COMMONAREA_MODE 69.87229725115525\n",
            "ELEVATORS_MODE 53.29597965601231\n",
            "ENTRANCES_MODE 50.34876801155081\n",
            "FLOORSMAX_MODE 49.76082156410665\n",
            "FLOORSMIN_MODE 67.84862980511267\n",
            "LANDAREA_MODE 59.376737742714894\n",
            "LIVINGAPARTMENTS_MODE 68.35495315614726\n",
            "LIVINGAREA_MODE 50.193326417591564\n",
            "NONLIVINGAPARTMENTS_MODE 69.43296337366793\n",
            "NONLIVINGAREA_MODE 55.17916432257708\n",
            "APARTMENTS_MEDI 50.749729277977046\n",
            "BASEMENTAREA_MEDI 58.515955526794166\n",
            "YEARS_BEGINEXPLUATATION_MEDI 48.781019215572776\n",
            "YEARS_BUILD_MEDI 66.49778381911541\n",
            "COMMONAREA_MEDI 69.87229725115525\n",
            "ELEVATORS_MEDI 53.29597965601231\n",
            "ENTRANCES_MEDI 50.34876801155081\n",
            "FLOORSMAX_MEDI 49.76082156410665\n",
            "FLOORSMIN_MEDI 67.84862980511267\n",
            "LANDAREA_MEDI 59.376737742714894\n",
            "LIVINGAPARTMENTS_MEDI 68.35495315614726\n",
            "LIVINGAREA_MEDI 50.193326417591564\n",
            "NONLIVINGAPARTMENTS_MEDI 69.43296337366793\n",
            "NONLIVINGAREA_MEDI 55.17916432257708\n",
            "FONDKAPREMONT_MODE 68.38617155158677\n",
            "HOUSETYPE_MODE 50.176091261776\n",
            "TOTALAREA_MODE 48.26851722377411\n",
            "WALLSMATERIAL_MODE 50.8407829313423\n",
            "EMERGENCYSTATE_MODE 47.39830445089769\n",
            "OBS_30_CNT_SOCIAL_CIRCLE 0.3320206431639844\n",
            "DEF_30_CNT_SOCIAL_CIRCLE 0.3320206431639844\n",
            "OBS_60_CNT_SOCIAL_CIRCLE 0.3320206431639844\n",
            "DEF_60_CNT_SOCIAL_CIRCLE 0.3320206431639844\n",
            "DAYS_LAST_PHONE_CHANGE 0.000325191619161591\n",
            "FLAG_DOCUMENT_2 0.0\n",
            "FLAG_DOCUMENT_3 0.0\n",
            "FLAG_DOCUMENT_4 0.0\n",
            "FLAG_DOCUMENT_5 0.0\n",
            "FLAG_DOCUMENT_6 0.0\n",
            "FLAG_DOCUMENT_7 0.0\n",
            "FLAG_DOCUMENT_8 0.0\n",
            "FLAG_DOCUMENT_9 0.0\n",
            "FLAG_DOCUMENT_10 0.0\n",
            "FLAG_DOCUMENT_11 0.0\n",
            "FLAG_DOCUMENT_12 0.0\n",
            "FLAG_DOCUMENT_13 0.0\n",
            "FLAG_DOCUMENT_14 0.0\n",
            "FLAG_DOCUMENT_15 0.0\n",
            "FLAG_DOCUMENT_16 0.0\n",
            "FLAG_DOCUMENT_17 0.0\n",
            "FLAG_DOCUMENT_18 0.0\n",
            "FLAG_DOCUMENT_19 0.0\n",
            "FLAG_DOCUMENT_20 0.0\n",
            "FLAG_DOCUMENT_21 0.0\n",
            "AMT_REQ_CREDIT_BUREAU_HOUR 13.501630835970095\n",
            "AMT_REQ_CREDIT_BUREAU_DAY 13.501630835970095\n",
            "AMT_REQ_CREDIT_BUREAU_WEEK 13.501630835970095\n",
            "AMT_REQ_CREDIT_BUREAU_MON 13.501630835970095\n",
            "AMT_REQ_CREDIT_BUREAU_QRT 13.501630835970095\n",
            "AMT_REQ_CREDIT_BUREAU_YEAR 13.501630835970095\n"
          ]
        }
      ],
      "source": [
        "# Question 6\n",
        "df_missing_value_percentage = 100*df.isnull().sum()/len(df)\n",
        "for k in range(df_missing_value_percentage.shape[0]):\n",
        "  print(column_names[k],df_missing_value_percentage.iloc[k])"
      ]
    },
    {
      "cell_type": "markdown",
      "metadata": {
        "id": "wRpnk2keNwGb"
      },
      "source": [
        "# Preprocessing for each column differently according to the nan values in each column"
      ]
    },
    {
      "cell_type": "code",
      "execution_count": 12,
      "metadata": {
        "id": "foU79vV2Ofkx"
      },
      "outputs": [],
      "source": [
        "# Drop columns which have more than 50 % of missing value\n",
        "missing_value_percentage = 100 * df.isnull().sum() / len(df)\n",
        "columns_to_drop = missing_value_percentage[missing_value_percentage > 50].index\n",
        "df.drop(columns=columns_to_drop, inplace=True)"
      ]
    },
    {
      "cell_type": "code",
      "execution_count": null,
      "metadata": {
        "colab": {
          "base_uri": "https://localhost:8080/"
        },
        "id": "NJxUjg7HPJKG",
        "outputId": "4f0cc020-c2ca-4be9-eada-57c087d122e9"
      },
      "outputs": [
        {
          "data": {
            "text/plain": [
              "(307511, 81)"
            ]
          },
          "execution_count": 14,
          "metadata": {},
          "output_type": "execute_result"
        }
      ],
      "source": [
        "df.shape"
      ]
    },
    {
      "cell_type": "code",
      "execution_count": 13,
      "metadata": {
        "colab": {
          "base_uri": "https://localhost:8080/"
        },
        "id": "Ja4k9pv0P3Qg",
        "outputId": "68ea9245-367a-4a41-bc78-350545c63d7d"
      },
      "outputs": [
        {
          "output_type": "execute_result",
          "data": {
            "text/plain": [
              "SK_ID_CURR                        0\n",
              "TARGET                            0\n",
              "NAME_CONTRACT_TYPE                0\n",
              "CODE_GENDER                       0\n",
              "FLAG_OWN_CAR                      0\n",
              "                              ...  \n",
              "AMT_REQ_CREDIT_BUREAU_DAY     41519\n",
              "AMT_REQ_CREDIT_BUREAU_WEEK    41519\n",
              "AMT_REQ_CREDIT_BUREAU_MON     41519\n",
              "AMT_REQ_CREDIT_BUREAU_QRT     41519\n",
              "AMT_REQ_CREDIT_BUREAU_YEAR    41519\n",
              "Length: 81, dtype: int64"
            ]
          },
          "metadata": {},
          "execution_count": 13
        }
      ],
      "source": [
        "df.isna().sum()"
      ]
    },
    {
      "cell_type": "code",
      "execution_count": 14,
      "metadata": {
        "colab": {
          "base_uri": "https://localhost:8080/"
        },
        "id": "eRN4k5LyPX05",
        "outputId": "3e06ef20-ebd2-4cd0-cecc-0590d314b12d"
      },
      "outputs": [
        {
          "output_type": "stream",
          "name": "stdout",
          "text": [
            "SK_ID_CURR 0.0\n",
            "TARGET 0.0\n",
            "NAME_CONTRACT_TYPE 0.0\n",
            "CODE_GENDER 0.0\n",
            "FLAG_OWN_CAR 0.0\n",
            "FLAG_OWN_REALTY 0.0\n",
            "CNT_CHILDREN 0.0\n",
            "AMT_INCOME_TOTAL 0.0\n",
            "AMT_CREDIT 0.0\n",
            "AMT_ANNUITY 0.0039022994299390914\n",
            "AMT_GOODS_PRICE 0.09040327012692229\n",
            "NAME_TYPE_SUITE 0.42014757195677555\n",
            "NAME_INCOME_TYPE 0.0\n",
            "NAME_EDUCATION_TYPE 0.0\n",
            "NAME_FAMILY_STATUS 0.0\n",
            "NAME_HOUSING_TYPE 0.0\n",
            "REGION_POPULATION_RELATIVE 0.0\n",
            "DAYS_BIRTH 0.0\n",
            "DAYS_EMPLOYED 0.0\n",
            "DAYS_REGISTRATION 0.0\n",
            "DAYS_ID_PUBLISH 0.0\n",
            "OWN_CAR_AGE 0.0\n",
            "FLAG_MOBIL 0.0\n",
            "FLAG_EMP_PHONE 0.0\n",
            "FLAG_WORK_PHONE 0.0\n",
            "FLAG_CONT_MOBILE 0.0\n",
            "FLAG_PHONE 0.0\n",
            "FLAG_EMAIL 31.345545362604916\n",
            "OCCUPATION_TYPE 0.000650383238323182\n",
            "CNT_FAM_MEMBERS 0.0\n",
            "REGION_RATING_CLIENT 0.0\n",
            "REGION_RATING_CLIENT_W_CITY 0.0\n",
            "WEEKDAY_APPR_PROCESS_START 0.0\n",
            "HOUR_APPR_PROCESS_START 0.0\n",
            "REG_REGION_NOT_LIVE_REGION 0.0\n",
            "REG_REGION_NOT_WORK_REGION 0.0\n",
            "LIVE_REGION_NOT_WORK_REGION 0.0\n",
            "REG_CITY_NOT_LIVE_CITY 0.0\n",
            "REG_CITY_NOT_WORK_CITY 0.0\n",
            "LIVE_CITY_NOT_WORK_CITY 0.0\n",
            "ORGANIZATION_TYPE 0.21462646864665003\n",
            "EXT_SOURCE_1 19.825307062186393\n",
            "EXT_SOURCE_2 48.781019215572776\n",
            "EXT_SOURCE_3 49.76082156410665\n",
            "APARTMENTS_AVG 48.781019215572776\n",
            "BASEMENTAREA_AVG 49.76082156410665\n",
            "YEARS_BEGINEXPLUATATION_AVG 48.781019215572776\n",
            "YEARS_BUILD_AVG 49.76082156410665\n",
            "COMMONAREA_AVG 48.26851722377411\n",
            "ELEVATORS_AVG 47.39830445089769\n",
            "ENTRANCES_AVG 0.3320206431639844\n",
            "FLOORSMAX_AVG 0.3320206431639844\n",
            "FLOORSMIN_AVG 0.3320206431639844\n",
            "LANDAREA_AVG 0.3320206431639844\n",
            "LIVINGAPARTMENTS_AVG 0.000325191619161591\n",
            "LIVINGAREA_AVG 0.0\n",
            "NONLIVINGAPARTMENTS_AVG 0.0\n",
            "NONLIVINGAREA_AVG 0.0\n",
            "APARTMENTS_MODE 0.0\n",
            "BASEMENTAREA_MODE 0.0\n",
            "YEARS_BEGINEXPLUATATION_MODE 0.0\n",
            "YEARS_BUILD_MODE 0.0\n",
            "COMMONAREA_MODE 0.0\n",
            "ELEVATORS_MODE 0.0\n",
            "ENTRANCES_MODE 0.0\n",
            "FLOORSMAX_MODE 0.0\n",
            "FLOORSMIN_MODE 0.0\n",
            "LANDAREA_MODE 0.0\n",
            "LIVINGAPARTMENTS_MODE 0.0\n",
            "LIVINGAREA_MODE 0.0\n",
            "NONLIVINGAPARTMENTS_MODE 0.0\n",
            "NONLIVINGAREA_MODE 0.0\n",
            "APARTMENTS_MEDI 0.0\n",
            "BASEMENTAREA_MEDI 0.0\n",
            "YEARS_BEGINEXPLUATATION_MEDI 0.0\n",
            "YEARS_BUILD_MEDI 13.501630835970095\n",
            "COMMONAREA_MEDI 13.501630835970095\n",
            "ELEVATORS_MEDI 13.501630835970095\n",
            "ENTRANCES_MEDI 13.501630835970095\n",
            "FLOORSMAX_MEDI 13.501630835970095\n",
            "FLOORSMIN_MEDI 13.501630835970095\n"
          ]
        }
      ],
      "source": [
        "#Again printing out the % of missing value in each column after dropping 50% missing NaN value column\n",
        "df_missing_value_percentage_1 = 100*df.isnull().sum()/len(df)\n",
        "for k in range(df_missing_value_percentage_1.shape[0]):\n",
        "  print(column_names[k],df_missing_value_percentage_1.iloc[k])"
      ]
    },
    {
      "cell_type": "code",
      "execution_count": 15,
      "metadata": {
        "colab": {
          "base_uri": "https://localhost:8080/"
        },
        "id": "QyEp9_9EZyQ4",
        "outputId": "b5701c18-c6c1-43fa-d0fa-544bbc182b10"
      },
      "outputs": [
        {
          "output_type": "stream",
          "name": "stdout",
          "text": [
            "FLOORSMAX_AVG 49.76082156410665\n",
            "FLOORSMAX_MODE 49.76082156410665\n",
            "FLOORSMAX_MEDI 49.76082156410665\n",
            "YEARS_BEGINEXPLUATATION_AVG 48.781019215572776\n",
            "YEARS_BEGINEXPLUATATION_MODE 48.781019215572776\n",
            "YEARS_BEGINEXPLUATATION_MEDI 48.781019215572776\n",
            "TOTALAREA_MODE 48.26851722377411\n",
            "EMERGENCYSTATE_MODE 47.39830445089769\n",
            "OCCUPATION_TYPE 31.345545362604916\n",
            "EXT_SOURCE_3 19.825307062186393\n",
            "AMT_REQ_CREDIT_BUREAU_YEAR 13.501630835970095\n",
            "AMT_REQ_CREDIT_BUREAU_HOUR 13.501630835970095\n",
            "AMT_REQ_CREDIT_BUREAU_DAY 13.501630835970095\n",
            "AMT_REQ_CREDIT_BUREAU_WEEK 13.501630835970095\n",
            "AMT_REQ_CREDIT_BUREAU_MON 13.501630835970095\n",
            "AMT_REQ_CREDIT_BUREAU_QRT 13.501630835970095\n",
            "NAME_TYPE_SUITE 0.42014757195677555\n",
            "DEF_30_CNT_SOCIAL_CIRCLE 0.3320206431639844\n",
            "OBS_60_CNT_SOCIAL_CIRCLE 0.3320206431639844\n",
            "DEF_60_CNT_SOCIAL_CIRCLE 0.3320206431639844\n",
            "OBS_30_CNT_SOCIAL_CIRCLE 0.3320206431639844\n",
            "EXT_SOURCE_2 0.21462646864665003\n",
            "AMT_GOODS_PRICE 0.09040327012692229\n",
            "AMT_ANNUITY 0.0039022994299390914\n",
            "CNT_FAM_MEMBERS 0.000650383238323182\n",
            "DAYS_LAST_PHONE_CHANGE 0.000325191619161591\n",
            "FLAG_OWN_CAR 0.0\n",
            "FLAG_OWN_REALTY 0.0\n",
            "NAME_CONTRACT_TYPE 0.0\n",
            "FLAG_DOCUMENT_2 0.0\n",
            "FLAG_DOCUMENT_3 0.0\n",
            "FLAG_DOCUMENT_4 0.0\n",
            "FLAG_DOCUMENT_5 0.0\n",
            "FLAG_DOCUMENT_6 0.0\n",
            "FLAG_DOCUMENT_7 0.0\n",
            "FLAG_DOCUMENT_8 0.0\n",
            "FLAG_DOCUMENT_9 0.0\n",
            "FLAG_DOCUMENT_10 0.0\n",
            "FLAG_DOCUMENT_11 0.0\n",
            "FLAG_DOCUMENT_12 0.0\n",
            "FLAG_DOCUMENT_13 0.0\n",
            "AMT_INCOME_TOTAL 0.0\n",
            "FLAG_DOCUMENT_15 0.0\n",
            "FLAG_DOCUMENT_16 0.0\n",
            "FLAG_DOCUMENT_17 0.0\n",
            "FLAG_DOCUMENT_18 0.0\n",
            "FLAG_DOCUMENT_19 0.0\n",
            "FLAG_DOCUMENT_20 0.0\n",
            "FLAG_DOCUMENT_21 0.0\n",
            "CNT_CHILDREN 0.0\n",
            "CODE_GENDER 0.0\n",
            "FLAG_DOCUMENT_14 0.0\n",
            "FLAG_EMP_PHONE 0.0\n",
            "AMT_CREDIT 0.0\n",
            "FLAG_WORK_PHONE 0.0\n",
            "FLAG_CONT_MOBILE 0.0\n",
            "FLAG_PHONE 0.0\n",
            "FLAG_EMAIL 0.0\n",
            "FLAG_MOBIL 0.0\n",
            "REGION_RATING_CLIENT 0.0\n",
            "REGION_RATING_CLIENT_W_CITY 0.0\n",
            "WEEKDAY_APPR_PROCESS_START 0.0\n",
            "HOUR_APPR_PROCESS_START 0.0\n",
            "REG_REGION_NOT_LIVE_REGION 0.0\n",
            "REG_REGION_NOT_WORK_REGION 0.0\n",
            "LIVE_REGION_NOT_WORK_REGION 0.0\n",
            "REG_CITY_NOT_LIVE_CITY 0.0\n",
            "REG_CITY_NOT_WORK_CITY 0.0\n",
            "LIVE_CITY_NOT_WORK_CITY 0.0\n",
            "ORGANIZATION_TYPE 0.0\n",
            "TARGET 0.0\n",
            "DAYS_ID_PUBLISH 0.0\n",
            "DAYS_REGISTRATION 0.0\n",
            "DAYS_EMPLOYED 0.0\n",
            "DAYS_BIRTH 0.0\n",
            "REGION_POPULATION_RELATIVE 0.0\n",
            "NAME_HOUSING_TYPE 0.0\n",
            "NAME_FAMILY_STATUS 0.0\n",
            "NAME_EDUCATION_TYPE 0.0\n",
            "NAME_INCOME_TYPE 0.0\n",
            "SK_ID_CURR 0.0\n"
          ]
        }
      ],
      "source": [
        "df_missing_value_percentage_1 = 100 * df.isnull().sum() / len(df)\n",
        "df_missing_value_percentage_sorted = df_missing_value_percentage_1.sort_values(ascending=False)\n",
        "\n",
        "for column_name, percentage in df_missing_value_percentage_sorted.items():\n",
        "    print(column_name, percentage)"
      ]
    },
    {
      "cell_type": "code",
      "execution_count": null,
      "metadata": {
        "colab": {
          "base_uri": "https://localhost:8080/",
          "height": 52
        },
        "id": "Xn6oMbgUW5VV",
        "outputId": "0096bb05-8bfe-4da4-a9bb-69b9a17d461a"
      },
      "outputs": [
        {
          "data": {
            "application/vnd.google.colaboratory.intrinsic+json": {
              "type": "string"
            },
            "text/plain": [
              "'df_missing_value_percentage_1 = 100 * df.isnull().sum() / len(df)\\ndf_missing_value_percentage_sorted = df_missing_value_percentage_1.sort_values(ascending=False)\\n\\nfor column_name, percentage in df_missing_value_percentage_sorted.items():\\n    print(column_name, percentage)'"
            ]
          },
          "execution_count": 24,
          "metadata": {},
          "output_type": "execute_result"
        }
      ],
      "source": [
        "'''df_missing_value_percentage_1 = 100 * df.isnull().sum() / len(df)\n",
        "df_missing_value_percentage_sorted = df_missing_value_percentage_1.sort_values(ascending=False)\n",
        "\n",
        "for column_name, percentage in df_missing_value_percentage_sorted.items():\n",
        "    print(column_name, percentage)'''"
      ]
    },
    {
      "cell_type": "code",
      "execution_count": null,
      "metadata": {
        "colab": {
          "base_uri": "https://localhost:8080/"
        },
        "id": "NF_mjU-bRCLL",
        "outputId": "2e901d6d-a933-4d04-89b2-aa6a43a5fb68"
      },
      "outputs": [
        {
          "data": {
            "text/plain": [
              "(307511, 81)"
            ]
          },
          "execution_count": 16,
          "metadata": {},
          "output_type": "execute_result"
        }
      ],
      "source": [
        "df.shape"
      ]
    },
    {
      "cell_type": "code",
      "execution_count": 16,
      "metadata": {
        "id": "kSpeEL5DScLr"
      },
      "outputs": [],
      "source": [
        "# Drop columns which have normalized score from external data source\n",
        "columns_to_drop = ['FLOORSMAX_AVG','FLOORSMAX_MODE','FLOORSMAX_MEDI','YEARS_BEGINEXPLUATATION_AVG','YEARS_BEGINEXPLUATATION_MODE','YEARS_BEGINEXPLUATATION_MEDI','TOTALAREA_MODE','EMERGENCYSTATE_MODE'] #'APARTMENTS_AVG', 'BASEMENTAREA_AVG','YEARS_BEGINEXPLUATATION_AVG','YEARS_BUILD_AVG']\n",
        "df1=df.drop(columns=columns_to_drop)"
      ]
    },
    {
      "cell_type": "code",
      "execution_count": null,
      "metadata": {
        "id": "4VFkWq85cDmj"
      },
      "outputs": [],
      "source": []
    },
    {
      "cell_type": "code",
      "execution_count": 17,
      "metadata": {
        "colab": {
          "base_uri": "https://localhost:8080/"
        },
        "id": "xayJDRnGWqPu",
        "outputId": "97e01e70-638a-4a18-f772-44c7bd68b4b5"
      },
      "outputs": [
        {
          "output_type": "stream",
          "name": "stdout",
          "text": [
            "Index(['SK_ID_CURR', 'TARGET', 'NAME_CONTRACT_TYPE', 'CODE_GENDER',\n",
            "       'FLAG_OWN_CAR', 'FLAG_OWN_REALTY', 'CNT_CHILDREN', 'AMT_INCOME_TOTAL',\n",
            "       'AMT_CREDIT', 'AMT_ANNUITY', 'AMT_GOODS_PRICE', 'NAME_TYPE_SUITE',\n",
            "       'NAME_INCOME_TYPE', 'NAME_EDUCATION_TYPE', 'NAME_FAMILY_STATUS',\n",
            "       'NAME_HOUSING_TYPE', 'REGION_POPULATION_RELATIVE', 'DAYS_BIRTH',\n",
            "       'DAYS_EMPLOYED', 'DAYS_REGISTRATION', 'DAYS_ID_PUBLISH', 'FLAG_MOBIL',\n",
            "       'FLAG_EMP_PHONE', 'FLAG_WORK_PHONE', 'FLAG_CONT_MOBILE', 'FLAG_PHONE',\n",
            "       'FLAG_EMAIL', 'OCCUPATION_TYPE', 'CNT_FAM_MEMBERS',\n",
            "       'REGION_RATING_CLIENT', 'REGION_RATING_CLIENT_W_CITY',\n",
            "       'WEEKDAY_APPR_PROCESS_START', 'HOUR_APPR_PROCESS_START',\n",
            "       'REG_REGION_NOT_LIVE_REGION', 'REG_REGION_NOT_WORK_REGION',\n",
            "       'LIVE_REGION_NOT_WORK_REGION', 'REG_CITY_NOT_LIVE_CITY',\n",
            "       'REG_CITY_NOT_WORK_CITY', 'LIVE_CITY_NOT_WORK_CITY',\n",
            "       'ORGANIZATION_TYPE', 'EXT_SOURCE_2', 'EXT_SOURCE_3',\n",
            "       'YEARS_BEGINEXPLUATATION_AVG', 'FLOORSMAX_AVG',\n",
            "       'YEARS_BEGINEXPLUATATION_MODE', 'FLOORSMAX_MODE',\n",
            "       'YEARS_BEGINEXPLUATATION_MEDI', 'FLOORSMAX_MEDI', 'TOTALAREA_MODE',\n",
            "       'EMERGENCYSTATE_MODE', 'OBS_30_CNT_SOCIAL_CIRCLE',\n",
            "       'DEF_30_CNT_SOCIAL_CIRCLE', 'OBS_60_CNT_SOCIAL_CIRCLE',\n",
            "       'DEF_60_CNT_SOCIAL_CIRCLE', 'DAYS_LAST_PHONE_CHANGE', 'FLAG_DOCUMENT_2',\n",
            "       'FLAG_DOCUMENT_3', 'FLAG_DOCUMENT_4', 'FLAG_DOCUMENT_5',\n",
            "       'FLAG_DOCUMENT_6', 'FLAG_DOCUMENT_7', 'FLAG_DOCUMENT_8',\n",
            "       'FLAG_DOCUMENT_9', 'FLAG_DOCUMENT_10', 'FLAG_DOCUMENT_11',\n",
            "       'FLAG_DOCUMENT_12', 'FLAG_DOCUMENT_13', 'FLAG_DOCUMENT_14',\n",
            "       'FLAG_DOCUMENT_15', 'FLAG_DOCUMENT_16', 'FLAG_DOCUMENT_17',\n",
            "       'FLAG_DOCUMENT_18', 'FLAG_DOCUMENT_19', 'FLAG_DOCUMENT_20',\n",
            "       'FLAG_DOCUMENT_21', 'AMT_REQ_CREDIT_BUREAU_HOUR',\n",
            "       'AMT_REQ_CREDIT_BUREAU_DAY', 'AMT_REQ_CREDIT_BUREAU_WEEK',\n",
            "       'AMT_REQ_CREDIT_BUREAU_MON', 'AMT_REQ_CREDIT_BUREAU_QRT',\n",
            "       'AMT_REQ_CREDIT_BUREAU_YEAR'],\n",
            "      dtype='object')\n",
            "['FLOORSMAX_AVG', 'FLOORSMAX_MODE', 'FLOORSMAX_MEDI', 'YEARS_BEGINEXPLUATATION_AVG', 'YEARS_BEGINEXPLUATATION_MODE', 'YEARS_BEGINEXPLUATATION_MEDI', 'TOTALAREA_MODE', 'EMERGENCYSTATE_MODE']\n"
          ]
        }
      ],
      "source": [
        "print(df.columns)\n",
        "print(columns_to_drop)"
      ]
    },
    {
      "cell_type": "code",
      "execution_count": null,
      "metadata": {
        "colab": {
          "base_uri": "https://localhost:8080/"
        },
        "id": "lD8pwgwCb3h5",
        "outputId": "843dbb2c-cbfd-45f0-ae6b-9212773343dc"
      },
      "outputs": [
        {
          "data": {
            "text/plain": [
              "(307511, 73)"
            ]
          },
          "execution_count": 20,
          "metadata": {},
          "output_type": "execute_result"
        }
      ],
      "source": [
        "df1.shape"
      ]
    },
    {
      "cell_type": "code",
      "execution_count": null,
      "metadata": {
        "id": "8bDDF__seh-9"
      },
      "outputs": [],
      "source": [
        "#9) Analysis of OCCUPATION_TYPE do a plot showing count of each category"
      ]
    },
    {
      "cell_type": "code",
      "execution_count": 18,
      "metadata": {
        "colab": {
          "base_uri": "https://localhost:8080/"
        },
        "id": "n6j3ED1dfJ3l",
        "outputId": "d64dc1d9-5b15-48c4-dc81-305a2d26fcb8"
      },
      "outputs": [
        {
          "output_type": "stream",
          "name": "stdout",
          "text": [
            "Laborers                 55186\n",
            "Sales staff              32102\n",
            "Core staff               27570\n",
            "Managers                 21371\n",
            "Drivers                  18603\n",
            "High skill tech staff    11380\n",
            "Accountants               9813\n",
            "Medicine staff            8537\n",
            "Security staff            6721\n",
            "Cooking staff             5946\n",
            "Cleaning staff            4653\n",
            "Private service staff     2652\n",
            "Low-skill Laborers        2093\n",
            "Waiters/barmen staff      1348\n",
            "Secretaries               1305\n",
            "Realty agents              751\n",
            "HR staff                   563\n",
            "IT staff                   526\n",
            "Name: OCCUPATION_TYPE, dtype: int64\n"
          ]
        }
      ],
      "source": [
        "\n",
        "# Specify the column of interest\n",
        "column_name = 'OCCUPATION_TYPE'\n",
        "\n",
        "# Count the instances in '0' and '1' class\n",
        "type_counts = df1[column_name].value_counts()\n",
        "\n",
        "# Print the counts\n",
        "print(type_counts)"
      ]
    },
    {
      "cell_type": "code",
      "execution_count": 19,
      "metadata": {
        "colab": {
          "base_uri": "https://localhost:8080/",
          "height": 604
        },
        "id": "pqui-wwOfhig",
        "outputId": "0c21e3f8-909c-469e-f891-9d0daa2a16b8"
      },
      "outputs": [
        {
          "output_type": "display_data",
          "data": {
            "text/plain": [
              "<Figure size 640x480 with 1 Axes>"
            ],
            "image/png": "[encoded data removed]"
          },
          "metadata": {}
        }
      ],
      "source": [
        "# Create a bar plot\n",
        "type_counts.plot(kind='bar')\n",
        "\n",
        "# Set labels and title\n",
        "plt.xlabel('Occupation_Type')\n",
        "plt.ylabel('Count')\n",
        "plt.title('Count of Occupation_Type')\n",
        "\n",
        "# Display the plot\n",
        "plt.show()"
      ]
    },
    {
      "cell_type": "code",
      "execution_count": null,
      "metadata": {
        "id": "0KS5Fx-NgBlj"
      },
      "outputs": [],
      "source": [
        "#10) which category comes the most in OCCUPATION_TYPE  column\n",
        "\n",
        "\n",
        "#From the bar graph, Laborers is the most in Occupation_Type."
      ]
    },
    {
      "cell_type": "code",
      "execution_count": null,
      "metadata": {
        "id": "VyOJMvCDgUTD"
      },
      "outputs": [],
      "source": [
        "#11) How many TARGET COLUMNS are 1 and 0 for most reoccurring category in OCCUPATION_TYPE   column"
      ]
    },
    {
      "cell_type": "code",
      "execution_count": 20,
      "metadata": {
        "colab": {
          "base_uri": "https://localhost:8080/"
        },
        "id": "Q-QefGKYgjfZ",
        "outputId": "76b03a0c-7331-4e44-dbdc-983564b51ef4"
      },
      "outputs": [
        {
          "output_type": "stream",
          "name": "stdout",
          "text": [
            "Laborers\n",
            "0    49348\n",
            "1     5838\n",
            "Name: TARGET, dtype: int64\n",
            "Count of TARGET column where OCCUPATION_TYPE is Laborers\n"
          ]
        }
      ],
      "source": [
        "most_recurring_category = df1['OCCUPATION_TYPE'].mode()[0]\n",
        "print(most_recurring_category)\n",
        "# Filter the DataFrame based on the most recurring category and count the target column values\n",
        "target_counts = df1[df1['OCCUPATION_TYPE'] == most_recurring_category]['TARGET'].value_counts()\n",
        "print(target_counts)\n",
        "print(\"Count of TARGET column where OCCUPATION_TYPE is\", most_recurring_category)"
      ]
    },
    {
      "cell_type": "code",
      "execution_count": null,
      "metadata": {
        "id": "KMIv2G9Jnweo"
      },
      "outputs": [],
      "source": [
        "#12) How many TARGET COLUMNS are 1 and have OCCUPATION_TYPE  column  as labourer"
      ]
    },
    {
      "cell_type": "code",
      "execution_count": 21,
      "metadata": {
        "colab": {
          "base_uri": "https://localhost:8080/"
        },
        "id": "vDkmKnK2ia_h",
        "outputId": "08674efb-f96a-4d72-f06c-631ab7950c93"
      },
      "outputs": [
        {
          "output_type": "stream",
          "name": "stdout",
          "text": [
            "The percentage is:  23.52\n"
          ]
        }
      ],
      "source": [
        "counts_of_Target_1=24825 #(from code above)\n",
        "counts_of_Laborerswith_Target1=5838\n",
        "per_1=(counts_of_Laborerswith_Target1/counts_of_Target_1)*100\n",
        "print(\"The percentage is: \",round(per_1,2))"
      ]
    },
    {
      "cell_type": "code",
      "execution_count": 22,
      "metadata": {
        "colab": {
          "base_uri": "https://localhost:8080/",
          "height": 428
        },
        "id": "7lHVPJEGp-Qq",
        "outputId": "5ad6e93a-536e-4b46-f815-181c14ba9f1d"
      },
      "outputs": [
        {
          "output_type": "display_data",
          "data": {
            "text/plain": [
              "<Figure size 640x480 with 1 Axes>"
            ],
            "image/png": "[encoded data removed]"
          },
          "metadata": {}
        }
      ],
      "source": [
        "#13) pie chart for counts of NAME_CONTRACT_TYPE and NAME_INCOME_TYPE and NAME_INCOME_TYPE\n",
        "\n",
        "value1_counts=df1['NAME_CONTRACT_TYPE'].value_counts()\n",
        "plt.pie(value1_counts, labels=value1_counts.index, autopct='%1.1f%%')\n",
        "plt.title('Pie Chart of NAME_CONTRACT_TYPE')\n",
        "plt.axis('equal')  # Equal aspect ratio ensures that pie is drawn as a circle\n",
        "plt.show()"
      ]
    },
    {
      "cell_type": "code",
      "execution_count": 23,
      "metadata": {
        "colab": {
          "base_uri": "https://localhost:8080/",
          "height": 428
        },
        "id": "k7tImvefnvEc",
        "outputId": "1c414e71-e4d1-4323-dcbc-ef89968e6e72"
      },
      "outputs": [
        {
          "output_type": "display_data",
          "data": {
            "text/plain": [
              "<Figure size 640x480 with 1 Axes>"
            ],
            "image/png": "[encoded data removed]"
          },
          "metadata": {}
        }
      ],
      "source": [
        "value2_counts=df1['NAME_INCOME_TYPE'].value_counts()\n",
        "plt.pie(value2_counts, labels=value2_counts.index, autopct='%1.1f%%')\n",
        "plt.title('Pie Chart of NAME_INCOME_TYPE')\n",
        "plt.axis('equal')  # Equal aspect ratio ensures that pie is drawn as a circle\n",
        "plt.show()"
      ]
    },
    {
      "cell_type": "code",
      "execution_count": 24,
      "metadata": {
        "colab": {
          "base_uri": "https://localhost:8080/",
          "height": 487
        },
        "id": "dESp6UEzMOE0",
        "outputId": "ba29afde-730a-4282-dfbe-8d6e0e65ef7e"
      },
      "outputs": [
        {
          "output_type": "execute_result",
          "data": {
            "text/plain": [
              "        SK_ID_CURR  TARGET NAME_CONTRACT_TYPE CODE_GENDER FLAG_OWN_CAR  \\\n",
              "0           100002       1         Cash loans           M            N   \n",
              "1           100003       0         Cash loans           F            N   \n",
              "2           100004       0    Revolving loans           M            Y   \n",
              "3           100006       0         Cash loans           F            N   \n",
              "4           100007       0         Cash loans           M            N   \n",
              "...            ...     ...                ...         ...          ...   \n",
              "307506      456251       0         Cash loans           M            N   \n",
              "307507      456252       0         Cash loans           F            N   \n",
              "307508      456253       0         Cash loans           F            N   \n",
              "307509      456254       1         Cash loans           F            N   \n",
              "307510      456255       0         Cash loans           F            N   \n",
              "\n",
              "       FLAG_OWN_REALTY  CNT_CHILDREN  AMT_INCOME_TOTAL  AMT_CREDIT  \\\n",
              "0                    Y             0          202500.0    406597.5   \n",
              "1                    N             0          270000.0   1293502.5   \n",
              "2                    Y             0           67500.0    135000.0   \n",
              "3                    Y             0          135000.0    312682.5   \n",
              "4                    Y             0          121500.0    513000.0   \n",
              "...                ...           ...               ...         ...   \n",
              "307506               N             0          157500.0    254700.0   \n",
              "307507               Y             0           72000.0    269550.0   \n",
              "307508               Y             0          153000.0    677664.0   \n",
              "307509               Y             0          171000.0    370107.0   \n",
              "307510               N             0          157500.0    675000.0   \n",
              "\n",
              "        AMT_ANNUITY  ...  FLAG_DOCUMENT_18 FLAG_DOCUMENT_19 FLAG_DOCUMENT_20  \\\n",
              "0           24700.5  ...                 0                0                0   \n",
              "1           35698.5  ...                 0                0                0   \n",
              "2            6750.0  ...                 0                0                0   \n",
              "3           29686.5  ...                 0                0                0   \n",
              "4           21865.5  ...                 0                0                0   \n",
              "...             ...  ...               ...              ...              ...   \n",
              "307506      27558.0  ...                 0                0                0   \n",
              "307507      12001.5  ...                 0                0                0   \n",
              "307508      29979.0  ...                 0                0                0   \n",
              "307509      20205.0  ...                 0                0                0   \n",
              "307510      49117.5  ...                 0                0                0   \n",
              "\n",
              "       FLAG_DOCUMENT_21 AMT_REQ_CREDIT_BUREAU_HOUR AMT_REQ_CREDIT_BUREAU_DAY  \\\n",
              "0                     0                        0.0                       0.0   \n",
              "1                     0                        0.0                       0.0   \n",
              "2                     0                        0.0                       0.0   \n",
              "3                     0                        NaN                       NaN   \n",
              "4                     0                        0.0                       0.0   \n",
              "...                 ...                        ...                       ...   \n",
              "307506                0                        NaN                       NaN   \n",
              "307507                0                        NaN                       NaN   \n",
              "307508                0                        1.0                       0.0   \n",
              "307509                0                        0.0                       0.0   \n",
              "307510                0                        0.0                       0.0   \n",
              "\n",
              "        AMT_REQ_CREDIT_BUREAU_WEEK  AMT_REQ_CREDIT_BUREAU_MON  \\\n",
              "0                              0.0                        0.0   \n",
              "1                              0.0                        0.0   \n",
              "2                              0.0                        0.0   \n",
              "3                              NaN                        NaN   \n",
              "4                              0.0                        0.0   \n",
              "...                            ...                        ...   \n",
              "307506                         NaN                        NaN   \n",
              "307507                         NaN                        NaN   \n",
              "307508                         0.0                        1.0   \n",
              "307509                         0.0                        0.0   \n",
              "307510                         0.0                        2.0   \n",
              "\n",
              "        AMT_REQ_CREDIT_BUREAU_QRT  AMT_REQ_CREDIT_BUREAU_YEAR  \n",
              "0                             0.0                         1.0  \n",
              "1                             0.0                         0.0  \n",
              "2                             0.0                         0.0  \n",
              "3                             NaN                         NaN  \n",
              "4                             0.0                         0.0  \n",
              "...                           ...                         ...  \n",
              "307506                        NaN                         NaN  \n",
              "307507                        NaN                         NaN  \n",
              "307508                        0.0                         1.0  \n",
              "307509                        0.0                         0.0  \n",
              "307510                        0.0                         1.0  \n",
              "\n",
              "[307511 rows x 73 columns]"
            ],
            "text/html": [
              "\n",
              "  <div id=\"df-8d234270-1517-4cfd-bb74-6812da0d8cf0\">\n",
              "    <div class=\"colab-df-container\">\n",
              "      <div>\n",
              "<style scoped>\n",
              "    .dataframe tbody tr th:only-of-type {\n",
              "        vertical-align: middle;\n",
              "    }\n",
              "\n",
              "    .dataframe tbody tr th {\n",
              "        vertical-align: top;\n",
              "    }\n",
              "\n",
              "    .dataframe thead th {\n",
              "        text-align: right;\n",
              "    }\n",
              "</style>\n",
              "<table border=\"1\" class=\"dataframe\">\n",
              "  <thead>\n",
              "    <tr style=\"text-align: right;\">\n",
              "      <th></th>\n",
              "      <th>SK_ID_CURR</th>\n",
              "      <th>TARGET</th>\n",
              "      <th>NAME_CONTRACT_TYPE</th>\n",
              "      <th>CODE_GENDER</th>\n",
              "      <th>FLAG_OWN_CAR</th>\n",
              "      <th>FLAG_OWN_REALTY</th>\n",
              "      <th>CNT_CHILDREN</th>\n",
              "      <th>AMT_INCOME_TOTAL</th>\n",
              "      <th>AMT_CREDIT</th>\n",
              "      <th>AMT_ANNUITY</th>\n",
              "      <th>...</th>\n",
              "      <th>FLAG_DOCUMENT_18</th>\n",
              "      <th>FLAG_DOCUMENT_19</th>\n",
              "      <th>FLAG_DOCUMENT_20</th>\n",
              "      <th>FLAG_DOCUMENT_21</th>\n",
              "      <th>AMT_REQ_CREDIT_BUREAU_HOUR</th>\n",
              "      <th>AMT_REQ_CREDIT_BUREAU_DAY</th>\n",
              "      <th>AMT_REQ_CREDIT_BUREAU_WEEK</th>\n",
              "      <th>AMT_REQ_CREDIT_BUREAU_MON</th>\n",
              "      <th>AMT_REQ_CREDIT_BUREAU_QRT</th>\n",
              "      <th>AMT_REQ_CREDIT_BUREAU_YEAR</th>\n",
              "    </tr>\n",
              "  </thead>\n",
              "  <tbody>\n",
              "    <tr>\n",
              "      <th>0</th>\n",
              "      <td>100002</td>\n",
              "      <td>1</td>\n",
              "      <td>Cash loans</td>\n",
              "      <td>M</td>\n",
              "      <td>N</td>\n",
              "      <td>Y</td>\n",
              "      <td>0</td>\n",
              "      <td>202500.0</td>\n",
              "      <td>406597.5</td>\n",
              "      <td>24700.5</td>\n",
              "      <td>...</td>\n",
              "      <td>0</td>\n",
              "      <td>0</td>\n",
              "      <td>0</td>\n",
              "      <td>0</td>\n",
              "      <td>0.0</td>\n",
              "      <td>0.0</td>\n",
              "      <td>0.0</td>\n",
              "      <td>0.0</td>\n",
              "      <td>0.0</td>\n",
              "      <td>1.0</td>\n",
              "    </tr>\n",
              "    <tr>\n",
              "      <th>1</th>\n",
              "      <td>100003</td>\n",
              "      <td>0</td>\n",
              "      <td>Cash loans</td>\n",
              "      <td>F</td>\n",
              "      <td>N</td>\n",
              "      <td>N</td>\n",
              "      <td>0</td>\n",
              "      <td>270000.0</td>\n",
              "      <td>1293502.5</td>\n",
              "      <td>35698.5</td>\n",
              "      <td>...</td>\n",
              "      <td>0</td>\n",
              "      <td>0</td>\n",
              "      <td>0</td>\n",
              "      <td>0</td>\n",
              "      <td>0.0</td>\n",
              "      <td>0.0</td>\n",
              "      <td>0.0</td>\n",
              "      <td>0.0</td>\n",
              "      <td>0.0</td>\n",
              "      <td>0.0</td>\n",
              "    </tr>\n",
              "    <tr>\n",
              "      <th>2</th>\n",
              "      <td>100004</td>\n",
              "      <td>0</td>\n",
              "      <td>Revolving loans</td>\n",
              "      <td>M</td>\n",
              "      <td>Y</td>\n",
              "      <td>Y</td>\n",
              "      <td>0</td>\n",
              "      <td>67500.0</td>\n",
              "      <td>135000.0</td>\n",
              "      <td>6750.0</td>\n",
              "      <td>...</td>\n",
              "      <td>0</td>\n",
              "      <td>0</td>\n",
              "      <td>0</td>\n",
              "      <td>0</td>\n",
              "      <td>0.0</td>\n",
              "      <td>0.0</td>\n",
              "      <td>0.0</td>\n",
              "      <td>0.0</td>\n",
              "      <td>0.0</td>\n",
              "      <td>0.0</td>\n",
              "    </tr>\n",
              "    <tr>\n",
              "      <th>3</th>\n",
              "      <td>100006</td>\n",
              "      <td>0</td>\n",
              "      <td>Cash loans</td>\n",
              "      <td>F</td>\n",
              "      <td>N</td>\n",
              "      <td>Y</td>\n",
              "      <td>0</td>\n",
              "      <td>135000.0</td>\n",
              "      <td>312682.5</td>\n",
              "      <td>29686.5</td>\n",
              "      <td>...</td>\n",
              "      <td>0</td>\n",
              "      <td>0</td>\n",
              "      <td>0</td>\n",
              "      <td>0</td>\n",
              "      <td>NaN</td>\n",
              "      <td>NaN</td>\n",
              "      <td>NaN</td>\n",
              "      <td>NaN</td>\n",
              "      <td>NaN</td>\n",
              "      <td>NaN</td>\n",
              "    </tr>\n",
              "    <tr>\n",
              "      <th>4</th>\n",
              "      <td>100007</td>\n",
              "      <td>0</td>\n",
              "      <td>Cash loans</td>\n",
              "      <td>M</td>\n",
              "      <td>N</td>\n",
              "      <td>Y</td>\n",
              "      <td>0</td>\n",
              "      <td>121500.0</td>\n",
              "      <td>513000.0</td>\n",
              "      <td>21865.5</td>\n",
              "      <td>...</td>\n",
              "      <td>0</td>\n",
              "      <td>0</td>\n",
              "      <td>0</td>\n",
              "      <td>0</td>\n",
              "      <td>0.0</td>\n",
              "      <td>0.0</td>\n",
              "      <td>0.0</td>\n",
              "      <td>0.0</td>\n",
              "      <td>0.0</td>\n",
              "      <td>0.0</td>\n",
              "    </tr>\n",
              "    <tr>\n",
              "      <th>...</th>\n",
              "      <td>...</td>\n",
              "      <td>...</td>\n",
              "      <td>...</td>\n",
              "      <td>...</td>\n",
              "      <td>...</td>\n",
              "      <td>...</td>\n",
              "      <td>...</td>\n",
              "      <td>...</td>\n",
              "      <td>...</td>\n",
              "      <td>...</td>\n",
              "      <td>...</td>\n",
              "      <td>...</td>\n",
              "      <td>...</td>\n",
              "      <td>...</td>\n",
              "      <td>...</td>\n",
              "      <td>...</td>\n",
              "      <td>...</td>\n",
              "      <td>...</td>\n",
              "      <td>...</td>\n",
              "      <td>...</td>\n",
              "      <td>...</td>\n",
              "    </tr>\n",
              "    <tr>\n",
              "      <th>307506</th>\n",
              "      <td>456251</td>\n",
              "      <td>0</td>\n",
              "      <td>Cash loans</td>\n",
              "      <td>M</td>\n",
              "      <td>N</td>\n",
              "      <td>N</td>\n",
              "      <td>0</td>\n",
              "      <td>157500.0</td>\n",
              "      <td>254700.0</td>\n",
              "      <td>27558.0</td>\n",
              "      <td>...</td>\n",
              "      <td>0</td>\n",
              "      <td>0</td>\n",
              "      <td>0</td>\n",
              "      <td>0</td>\n",
              "      <td>NaN</td>\n",
              "      <td>NaN</td>\n",
              "      <td>NaN</td>\n",
              "      <td>NaN</td>\n",
              "      <td>NaN</td>\n",
              "      <td>NaN</td>\n",
              "    </tr>\n",
              "    <tr>\n",
              "      <th>307507</th>\n",
              "      <td>456252</td>\n",
              "      <td>0</td>\n",
              "      <td>Cash loans</td>\n",
              "      <td>F</td>\n",
              "      <td>N</td>\n",
              "      <td>Y</td>\n",
              "      <td>0</td>\n",
              "      <td>72000.0</td>\n",
              "      <td>269550.0</td>\n",
              "      <td>12001.5</td>\n",
              "      <td>...</td>\n",
              "      <td>0</td>\n",
              "      <td>0</td>\n",
              "      <td>0</td>\n",
              "      <td>0</td>\n",
              "      <td>NaN</td>\n",
              "      <td>NaN</td>\n",
              "      <td>NaN</td>\n",
              "      <td>NaN</td>\n",
              "      <td>NaN</td>\n",
              "      <td>NaN</td>\n",
              "    </tr>\n",
              "    <tr>\n",
              "      <th>307508</th>\n",
              "      <td>456253</td>\n",
              "      <td>0</td>\n",
              "      <td>Cash loans</td>\n",
              "      <td>F</td>\n",
              "      <td>N</td>\n",
              "      <td>Y</td>\n",
              "      <td>0</td>\n",
              "      <td>153000.0</td>\n",
              "      <td>677664.0</td>\n",
              "      <td>29979.0</td>\n",
              "      <td>...</td>\n",
              "      <td>0</td>\n",
              "      <td>0</td>\n",
              "      <td>0</td>\n",
              "      <td>0</td>\n",
              "      <td>1.0</td>\n",
              "      <td>0.0</td>\n",
              "      <td>0.0</td>\n",
              "      <td>1.0</td>\n",
              "      <td>0.0</td>\n",
              "      <td>1.0</td>\n",
              "    </tr>\n",
              "    <tr>\n",
              "      <th>307509</th>\n",
              "      <td>456254</td>\n",
              "      <td>1</td>\n",
              "      <td>Cash loans</td>\n",
              "      <td>F</td>\n",
              "      <td>N</td>\n",
              "      <td>Y</td>\n",
              "      <td>0</td>\n",
              "      <td>171000.0</td>\n",
              "      <td>370107.0</td>\n",
              "      <td>20205.0</td>\n",
              "      <td>...</td>\n",
              "      <td>0</td>\n",
              "      <td>0</td>\n",
              "      <td>0</td>\n",
              "      <td>0</td>\n",
              "      <td>0.0</td>\n",
              "      <td>0.0</td>\n",
              "      <td>0.0</td>\n",
              "      <td>0.0</td>\n",
              "      <td>0.0</td>\n",
              "      <td>0.0</td>\n",
              "    </tr>\n",
              "    <tr>\n",
              "      <th>307510</th>\n",
              "      <td>456255</td>\n",
              "      <td>0</td>\n",
              "      <td>Cash loans</td>\n",
              "      <td>F</td>\n",
              "      <td>N</td>\n",
              "      <td>N</td>\n",
              "      <td>0</td>\n",
              "      <td>157500.0</td>\n",
              "      <td>675000.0</td>\n",
              "      <td>49117.5</td>\n",
              "      <td>...</td>\n",
              "      <td>0</td>\n",
              "      <td>0</td>\n",
              "      <td>0</td>\n",
              "      <td>0</td>\n",
              "      <td>0.0</td>\n",
              "      <td>0.0</td>\n",
              "      <td>0.0</td>\n",
              "      <td>2.0</td>\n",
              "      <td>0.0</td>\n",
              "      <td>1.0</td>\n",
              "    </tr>\n",
              "  </tbody>\n",
              "</table>\n",
              "<p>307511 rows × 73 columns</p>\n",
              "</div>\n",
              "      <button class=\"colab-df-convert\" onclick=\"convertToInteractive('df-8d234270-1517-4cfd-bb74-6812da0d8cf0')\"\n",
              "              title=\"Convert this dataframe to an interactive table.\"\n",
              "              style=\"display:none;\">\n",
              "        \n",
              "  <svg xmlns=\"http://www.w3.org/2000/svg\" height=\"24px\"viewBox=\"0 0 24 24\"\n",
              "       width=\"24px\">\n",
              "    <path d=\"M0 0h24v24H0V0z\" fill=\"none\"/>\n",
              "    <path d=\"M18.56 5.44l.94 2.06.94-2.06 2.06-.94-2.06-.94-.94-2.06-.94 2.06-2.06.94zm-11 1L8.5 8.5l.94-2.06 2.06-.94-2.06-.94L8.5 2.5l-.94 2.06-2.06.94zm10 10l.94 2.06.94-2.06 2.06-.94-2.06-.94-.94-2.06-.94 2.06-2.06.94z\"/><path d=\"M17.41 7.96l-1.37-1.37c-.4-.4-.92-.59-1.43-.59-.52 0-1.04.2-1.43.59L10.3 9.45l-7.72 7.72c-.78.78-.78 2.05 0 2.83L4 21.41c.39.39.9.59 1.41.59.51 0 1.02-.2 1.41-.59l7.78-7.78 2.81-2.81c.8-.78.8-2.07 0-2.86zM5.41 20L4 18.59l7.72-7.72 1.47 1.35L5.41 20z\"/>\n",
              "  </svg>\n",
              "      </button>\n",
              "      \n",
              "  <style>\n",
              "    .colab-df-container {\n",
              "      display:flex;\n",
              "      flex-wrap:wrap;\n",
              "      gap: 12px;\n",
              "    }\n",
              "\n",
              "    .colab-df-convert {\n",
              "      background-color: #E8F0FE;\n",
              "      border: none;\n",
              "      border-radius: 50%;\n",
              "      cursor: pointer;\n",
              "      display: none;\n",
              "      fill: #1967D2;\n",
              "      height: 32px;\n",
              "      padding: 0 0 0 0;\n",
              "      width: 32px;\n",
              "    }\n",
              "\n",
              "    .colab-df-convert:hover {\n",
              "      background-color: #E2EBFA;\n",
              "      box-shadow: 0px 1px 2px rgba(60, 64, 67, 0.3), 0px 1px 3px 1px rgba(60, 64, 67, 0.15);\n",
              "      fill: #174EA6;\n",
              "    }\n",
              "\n",
              "    [theme=dark] .colab-df-convert {\n",
              "      background-color: #3B4455;\n",
              "      fill: #D2E3FC;\n",
              "    }\n",
              "\n",
              "    [theme=dark] .colab-df-convert:hover {\n",
              "      background-color: #434B5C;\n",
              "      box-shadow: 0px 1px 3px 1px rgba(0, 0, 0, 0.15);\n",
              "      filter: drop-shadow(0px 1px 2px rgba(0, 0, 0, 0.3));\n",
              "      fill: #FFFFFF;\n",
              "    }\n",
              "  </style>\n",
              "\n",
              "      <script>\n",
              "        const buttonEl =\n",
              "          document.querySelector('#df-8d234270-1517-4cfd-bb74-6812da0d8cf0 button.colab-df-convert');\n",
              "        buttonEl.style.display =\n",
              "          google.colab.kernel.accessAllowed ? 'block' : 'none';\n",
              "\n",
              "        async function convertToInteractive(key) {\n",
              "          const element = document.querySelector('#df-8d234270-1517-4cfd-bb74-6812da0d8cf0');\n",
              "          const dataTable =\n",
              "            await google.colab.kernel.invokeFunction('convertToInteractive',\n",
              "                                                     [key], {});\n",
              "          if (!dataTable) return;\n",
              "\n",
              "          const docLinkHtml = 'Like what you see? Visit the ' +\n",
              "            '<a target=\"_blank\" href=https://colab.research.google.com/notebooks/data_table.ipynb>data table notebook</a>'\n",
              "            + ' to learn more about interactive tables.';\n",
              "          element.innerHTML = '';\n",
              "          dataTable['output_type'] = 'display_data';\n",
              "          await google.colab.output.renderOutput(dataTable, element);\n",
              "          const docLink = document.createElement('div');\n",
              "          docLink.innerHTML = docLinkHtml;\n",
              "          element.appendChild(docLink);\n",
              "        }\n",
              "      </script>\n",
              "    </div>\n",
              "  </div>\n",
              "  "
            ]
          },
          "metadata": {},
          "execution_count": 24
        }
      ],
      "source": [
        "df1"
      ]
    },
    {
      "cell_type": "code",
      "execution_count": null,
      "metadata": {
        "id": "4Lm7wapoYBqn"
      },
      "outputs": [],
      "source": []
    },
    {
      "cell_type": "code",
      "execution_count": null,
      "metadata": {
        "id": "ceB3YSSorQAA"
      },
      "outputs": [],
      "source": [
        "\n",
        "#14 Remove  occupation type column and fill remaining nan values with mode or median"
      ]
    },
    {
      "cell_type": "code",
      "execution_count": 25,
      "metadata": {
        "id": "0SfokL30_bDq"
      },
      "outputs": [],
      "source": [
        "df2 = df1.drop('OCCUPATION_TYPE', axis=1)\n"
      ]
    },
    {
      "cell_type": "code",
      "execution_count": 26,
      "metadata": {
        "colab": {
          "base_uri": "https://localhost:8080/",
          "height": 487
        },
        "id": "YGk_C4BRORqj",
        "outputId": "6fc47b55-6b58-4ddd-ac2a-664f40584e74"
      },
      "outputs": [
        {
          "output_type": "execute_result",
          "data": {
            "text/plain": [
              "        SK_ID_CURR  TARGET NAME_CONTRACT_TYPE CODE_GENDER FLAG_OWN_CAR  \\\n",
              "0           100002       1         Cash loans           M            N   \n",
              "1           100003       0         Cash loans           F            N   \n",
              "2           100004       0    Revolving loans           M            Y   \n",
              "3           100006       0         Cash loans           F            N   \n",
              "4           100007       0         Cash loans           M            N   \n",
              "...            ...     ...                ...         ...          ...   \n",
              "307506      456251       0         Cash loans           M            N   \n",
              "307507      456252       0         Cash loans           F            N   \n",
              "307508      456253       0         Cash loans           F            N   \n",
              "307509      456254       1         Cash loans           F            N   \n",
              "307510      456255       0         Cash loans           F            N   \n",
              "\n",
              "       FLAG_OWN_REALTY  CNT_CHILDREN  AMT_INCOME_TOTAL  AMT_CREDIT  \\\n",
              "0                    Y             0          202500.0    406597.5   \n",
              "1                    N             0          270000.0   1293502.5   \n",
              "2                    Y             0           67500.0    135000.0   \n",
              "3                    Y             0          135000.0    312682.5   \n",
              "4                    Y             0          121500.0    513000.0   \n",
              "...                ...           ...               ...         ...   \n",
              "307506               N             0          157500.0    254700.0   \n",
              "307507               Y             0           72000.0    269550.0   \n",
              "307508               Y             0          153000.0    677664.0   \n",
              "307509               Y             0          171000.0    370107.0   \n",
              "307510               N             0          157500.0    675000.0   \n",
              "\n",
              "        AMT_ANNUITY  ...  FLAG_DOCUMENT_18 FLAG_DOCUMENT_19 FLAG_DOCUMENT_20  \\\n",
              "0           24700.5  ...                 0                0                0   \n",
              "1           35698.5  ...                 0                0                0   \n",
              "2            6750.0  ...                 0                0                0   \n",
              "3           29686.5  ...                 0                0                0   \n",
              "4           21865.5  ...                 0                0                0   \n",
              "...             ...  ...               ...              ...              ...   \n",
              "307506      27558.0  ...                 0                0                0   \n",
              "307507      12001.5  ...                 0                0                0   \n",
              "307508      29979.0  ...                 0                0                0   \n",
              "307509      20205.0  ...                 0                0                0   \n",
              "307510      49117.5  ...                 0                0                0   \n",
              "\n",
              "       FLAG_DOCUMENT_21 AMT_REQ_CREDIT_BUREAU_HOUR AMT_REQ_CREDIT_BUREAU_DAY  \\\n",
              "0                     0                        0.0                       0.0   \n",
              "1                     0                        0.0                       0.0   \n",
              "2                     0                        0.0                       0.0   \n",
              "3                     0                        NaN                       NaN   \n",
              "4                     0                        0.0                       0.0   \n",
              "...                 ...                        ...                       ...   \n",
              "307506                0                        NaN                       NaN   \n",
              "307507                0                        NaN                       NaN   \n",
              "307508                0                        1.0                       0.0   \n",
              "307509                0                        0.0                       0.0   \n",
              "307510                0                        0.0                       0.0   \n",
              "\n",
              "        AMT_REQ_CREDIT_BUREAU_WEEK  AMT_REQ_CREDIT_BUREAU_MON  \\\n",
              "0                              0.0                        0.0   \n",
              "1                              0.0                        0.0   \n",
              "2                              0.0                        0.0   \n",
              "3                              NaN                        NaN   \n",
              "4                              0.0                        0.0   \n",
              "...                            ...                        ...   \n",
              "307506                         NaN                        NaN   \n",
              "307507                         NaN                        NaN   \n",
              "307508                         0.0                        1.0   \n",
              "307509                         0.0                        0.0   \n",
              "307510                         0.0                        2.0   \n",
              "\n",
              "        AMT_REQ_CREDIT_BUREAU_QRT  AMT_REQ_CREDIT_BUREAU_YEAR  \n",
              "0                             0.0                         1.0  \n",
              "1                             0.0                         0.0  \n",
              "2                             0.0                         0.0  \n",
              "3                             NaN                         NaN  \n",
              "4                             0.0                         0.0  \n",
              "...                           ...                         ...  \n",
              "307506                        NaN                         NaN  \n",
              "307507                        NaN                         NaN  \n",
              "307508                        0.0                         1.0  \n",
              "307509                        0.0                         0.0  \n",
              "307510                        0.0                         1.0  \n",
              "\n",
              "[307511 rows x 72 columns]"
            ],
            "text/html": [
              "\n",
              "  <div id=\"df-c44372fd-aefb-41ba-a248-0682341ce844\">\n",
              "    <div class=\"colab-df-container\">\n",
              "      <div>\n",
              "<style scoped>\n",
              "    .dataframe tbody tr th:only-of-type {\n",
              "        vertical-align: middle;\n",
              "    }\n",
              "\n",
              "    .dataframe tbody tr th {\n",
              "        vertical-align: top;\n",
              "    }\n",
              "\n",
              "    .dataframe thead th {\n",
              "        text-align: right;\n",
              "    }\n",
              "</style>\n",
              "<table border=\"1\" class=\"dataframe\">\n",
              "  <thead>\n",
              "    <tr style=\"text-align: right;\">\n",
              "      <th></th>\n",
              "      <th>SK_ID_CURR</th>\n",
              "      <th>TARGET</th>\n",
              "      <th>NAME_CONTRACT_TYPE</th>\n",
              "      <th>CODE_GENDER</th>\n",
              "      <th>FLAG_OWN_CAR</th>\n",
              "      <th>FLAG_OWN_REALTY</th>\n",
              "      <th>CNT_CHILDREN</th>\n",
              "      <th>AMT_INCOME_TOTAL</th>\n",
              "      <th>AMT_CREDIT</th>\n",
              "      <th>AMT_ANNUITY</th>\n",
              "      <th>...</th>\n",
              "      <th>FLAG_DOCUMENT_18</th>\n",
              "      <th>FLAG_DOCUMENT_19</th>\n",
              "      <th>FLAG_DOCUMENT_20</th>\n",
              "      <th>FLAG_DOCUMENT_21</th>\n",
              "      <th>AMT_REQ_CREDIT_BUREAU_HOUR</th>\n",
              "      <th>AMT_REQ_CREDIT_BUREAU_DAY</th>\n",
              "      <th>AMT_REQ_CREDIT_BUREAU_WEEK</th>\n",
              "      <th>AMT_REQ_CREDIT_BUREAU_MON</th>\n",
              "      <th>AMT_REQ_CREDIT_BUREAU_QRT</th>\n",
              "      <th>AMT_REQ_CREDIT_BUREAU_YEAR</th>\n",
              "    </tr>\n",
              "  </thead>\n",
              "  <tbody>\n",
              "    <tr>\n",
              "      <th>0</th>\n",
              "      <td>100002</td>\n",
              "      <td>1</td>\n",
              "      <td>Cash loans</td>\n",
              "      <td>M</td>\n",
              "      <td>N</td>\n",
              "      <td>Y</td>\n",
              "      <td>0</td>\n",
              "      <td>202500.0</td>\n",
              "      <td>406597.5</td>\n",
              "      <td>24700.5</td>\n",
              "      <td>...</td>\n",
              "      <td>0</td>\n",
              "      <td>0</td>\n",
              "      <td>0</td>\n",
              "      <td>0</td>\n",
              "      <td>0.0</td>\n",
              "      <td>0.0</td>\n",
              "      <td>0.0</td>\n",
              "      <td>0.0</td>\n",
              "      <td>0.0</td>\n",
              "      <td>1.0</td>\n",
              "    </tr>\n",
              "    <tr>\n",
              "      <th>1</th>\n",
              "      <td>100003</td>\n",
              "      <td>0</td>\n",
              "      <td>Cash loans</td>\n",
              "      <td>F</td>\n",
              "      <td>N</td>\n",
              "      <td>N</td>\n",
              "      <td>0</td>\n",
              "      <td>270000.0</td>\n",
              "      <td>1293502.5</td>\n",
              "      <td>35698.5</td>\n",
              "      <td>...</td>\n",
              "      <td>0</td>\n",
              "      <td>0</td>\n",
              "      <td>0</td>\n",
              "      <td>0</td>\n",
              "      <td>0.0</td>\n",
              "      <td>0.0</td>\n",
              "      <td>0.0</td>\n",
              "      <td>0.0</td>\n",
              "      <td>0.0</td>\n",
              "      <td>0.0</td>\n",
              "    </tr>\n",
              "    <tr>\n",
              "      <th>2</th>\n",
              "      <td>100004</td>\n",
              "      <td>0</td>\n",
              "      <td>Revolving loans</td>\n",
              "      <td>M</td>\n",
              "      <td>Y</td>\n",
              "      <td>Y</td>\n",
              "      <td>0</td>\n",
              "      <td>67500.0</td>\n",
              "      <td>135000.0</td>\n",
              "      <td>6750.0</td>\n",
              "      <td>...</td>\n",
              "      <td>0</td>\n",
              "      <td>0</td>\n",
              "      <td>0</td>\n",
              "      <td>0</td>\n",
              "      <td>0.0</td>\n",
              "      <td>0.0</td>\n",
              "      <td>0.0</td>\n",
              "      <td>0.0</td>\n",
              "      <td>0.0</td>\n",
              "      <td>0.0</td>\n",
              "    </tr>\n",
              "    <tr>\n",
              "      <th>3</th>\n",
              "      <td>100006</td>\n",
              "      <td>0</td>\n",
              "      <td>Cash loans</td>\n",
              "      <td>F</td>\n",
              "      <td>N</td>\n",
              "      <td>Y</td>\n",
              "      <td>0</td>\n",
              "      <td>135000.0</td>\n",
              "      <td>312682.5</td>\n",
              "      <td>29686.5</td>\n",
              "      <td>...</td>\n",
              "      <td>0</td>\n",
              "      <td>0</td>\n",
              "      <td>0</td>\n",
              "      <td>0</td>\n",
              "      <td>NaN</td>\n",
              "      <td>NaN</td>\n",
              "      <td>NaN</td>\n",
              "      <td>NaN</td>\n",
              "      <td>NaN</td>\n",
              "      <td>NaN</td>\n",
              "    </tr>\n",
              "    <tr>\n",
              "      <th>4</th>\n",
              "      <td>100007</td>\n",
              "      <td>0</td>\n",
              "      <td>Cash loans</td>\n",
              "      <td>M</td>\n",
              "      <td>N</td>\n",
              "      <td>Y</td>\n",
              "      <td>0</td>\n",
              "      <td>121500.0</td>\n",
              "      <td>513000.0</td>\n",
              "      <td>21865.5</td>\n",
              "      <td>...</td>\n",
              "      <td>0</td>\n",
              "      <td>0</td>\n",
              "      <td>0</td>\n",
              "      <td>0</td>\n",
              "      <td>0.0</td>\n",
              "      <td>0.0</td>\n",
              "      <td>0.0</td>\n",
              "      <td>0.0</td>\n",
              "      <td>0.0</td>\n",
              "      <td>0.0</td>\n",
              "    </tr>\n",
              "    <tr>\n",
              "      <th>...</th>\n",
              "      <td>...</td>\n",
              "      <td>...</td>\n",
              "      <td>...</td>\n",
              "      <td>...</td>\n",
              "      <td>...</td>\n",
              "      <td>...</td>\n",
              "      <td>...</td>\n",
              "      <td>...</td>\n",
              "      <td>...</td>\n",
              "      <td>...</td>\n",
              "      <td>...</td>\n",
              "      <td>...</td>\n",
              "      <td>...</td>\n",
              "      <td>...</td>\n",
              "      <td>...</td>\n",
              "      <td>...</td>\n",
              "      <td>...</td>\n",
              "      <td>...</td>\n",
              "      <td>...</td>\n",
              "      <td>...</td>\n",
              "      <td>...</td>\n",
              "    </tr>\n",
              "    <tr>\n",
              "      <th>307506</th>\n",
              "      <td>456251</td>\n",
              "      <td>0</td>\n",
              "      <td>Cash loans</td>\n",
              "      <td>M</td>\n",
              "      <td>N</td>\n",
              "      <td>N</td>\n",
              "      <td>0</td>\n",
              "      <td>157500.0</td>\n",
              "      <td>254700.0</td>\n",
              "      <td>27558.0</td>\n",
              "      <td>...</td>\n",
              "      <td>0</td>\n",
              "      <td>0</td>\n",
              "      <td>0</td>\n",
              "      <td>0</td>\n",
              "      <td>NaN</td>\n",
              "      <td>NaN</td>\n",
              "      <td>NaN</td>\n",
              "      <td>NaN</td>\n",
              "      <td>NaN</td>\n",
              "      <td>NaN</td>\n",
              "    </tr>\n",
              "    <tr>\n",
              "      <th>307507</th>\n",
              "      <td>456252</td>\n",
              "      <td>0</td>\n",
              "      <td>Cash loans</td>\n",
              "      <td>F</td>\n",
              "      <td>N</td>\n",
              "      <td>Y</td>\n",
              "      <td>0</td>\n",
              "      <td>72000.0</td>\n",
              "      <td>269550.0</td>\n",
              "      <td>12001.5</td>\n",
              "      <td>...</td>\n",
              "      <td>0</td>\n",
              "      <td>0</td>\n",
              "      <td>0</td>\n",
              "      <td>0</td>\n",
              "      <td>NaN</td>\n",
              "      <td>NaN</td>\n",
              "      <td>NaN</td>\n",
              "      <td>NaN</td>\n",
              "      <td>NaN</td>\n",
              "      <td>NaN</td>\n",
              "    </tr>\n",
              "    <tr>\n",
              "      <th>307508</th>\n",
              "      <td>456253</td>\n",
              "      <td>0</td>\n",
              "      <td>Cash loans</td>\n",
              "      <td>F</td>\n",
              "      <td>N</td>\n",
              "      <td>Y</td>\n",
              "      <td>0</td>\n",
              "      <td>153000.0</td>\n",
              "      <td>677664.0</td>\n",
              "      <td>29979.0</td>\n",
              "      <td>...</td>\n",
              "      <td>0</td>\n",
              "      <td>0</td>\n",
              "      <td>0</td>\n",
              "      <td>0</td>\n",
              "      <td>1.0</td>\n",
              "      <td>0.0</td>\n",
              "      <td>0.0</td>\n",
              "      <td>1.0</td>\n",
              "      <td>0.0</td>\n",
              "      <td>1.0</td>\n",
              "    </tr>\n",
              "    <tr>\n",
              "      <th>307509</th>\n",
              "      <td>456254</td>\n",
              "      <td>1</td>\n",
              "      <td>Cash loans</td>\n",
              "      <td>F</td>\n",
              "      <td>N</td>\n",
              "      <td>Y</td>\n",
              "      <td>0</td>\n",
              "      <td>171000.0</td>\n",
              "      <td>370107.0</td>\n",
              "      <td>20205.0</td>\n",
              "      <td>...</td>\n",
              "      <td>0</td>\n",
              "      <td>0</td>\n",
              "      <td>0</td>\n",
              "      <td>0</td>\n",
              "      <td>0.0</td>\n",
              "      <td>0.0</td>\n",
              "      <td>0.0</td>\n",
              "      <td>0.0</td>\n",
              "      <td>0.0</td>\n",
              "      <td>0.0</td>\n",
              "    </tr>\n",
              "    <tr>\n",
              "      <th>307510</th>\n",
              "      <td>456255</td>\n",
              "      <td>0</td>\n",
              "      <td>Cash loans</td>\n",
              "      <td>F</td>\n",
              "      <td>N</td>\n",
              "      <td>N</td>\n",
              "      <td>0</td>\n",
              "      <td>157500.0</td>\n",
              "      <td>675000.0</td>\n",
              "      <td>49117.5</td>\n",
              "      <td>...</td>\n",
              "      <td>0</td>\n",
              "      <td>0</td>\n",
              "      <td>0</td>\n",
              "      <td>0</td>\n",
              "      <td>0.0</td>\n",
              "      <td>0.0</td>\n",
              "      <td>0.0</td>\n",
              "      <td>2.0</td>\n",
              "      <td>0.0</td>\n",
              "      <td>1.0</td>\n",
              "    </tr>\n",
              "  </tbody>\n",
              "</table>\n",
              "<p>307511 rows × 72 columns</p>\n",
              "</div>\n",
              "      <button class=\"colab-df-convert\" onclick=\"convertToInteractive('df-c44372fd-aefb-41ba-a248-0682341ce844')\"\n",
              "              title=\"Convert this dataframe to an interactive table.\"\n",
              "              style=\"display:none;\">\n",
              "        \n",
              "  <svg xmlns=\"http://www.w3.org/2000/svg\" height=\"24px\"viewBox=\"0 0 24 24\"\n",
              "       width=\"24px\">\n",
              "    <path d=\"M0 0h24v24H0V0z\" fill=\"none\"/>\n",
              "    <path d=\"M18.56 5.44l.94 2.06.94-2.06 2.06-.94-2.06-.94-.94-2.06-.94 2.06-2.06.94zm-11 1L8.5 8.5l.94-2.06 2.06-.94-2.06-.94L8.5 2.5l-.94 2.06-2.06.94zm10 10l.94 2.06.94-2.06 2.06-.94-2.06-.94-.94-2.06-.94 2.06-2.06.94z\"/><path d=\"M17.41 7.96l-1.37-1.37c-.4-.4-.92-.59-1.43-.59-.52 0-1.04.2-1.43.59L10.3 9.45l-7.72 7.72c-.78.78-.78 2.05 0 2.83L4 21.41c.39.39.9.59 1.41.59.51 0 1.02-.2 1.41-.59l7.78-7.78 2.81-2.81c.8-.78.8-2.07 0-2.86zM5.41 20L4 18.59l7.72-7.72 1.47 1.35L5.41 20z\"/>\n",
              "  </svg>\n",
              "      </button>\n",
              "      \n",
              "  <style>\n",
              "    .colab-df-container {\n",
              "      display:flex;\n",
              "      flex-wrap:wrap;\n",
              "      gap: 12px;\n",
              "    }\n",
              "\n",
              "    .colab-df-convert {\n",
              "      background-color: #E8F0FE;\n",
              "      border: none;\n",
              "      border-radius: 50%;\n",
              "      cursor: pointer;\n",
              "      display: none;\n",
              "      fill: #1967D2;\n",
              "      height: 32px;\n",
              "      padding: 0 0 0 0;\n",
              "      width: 32px;\n",
              "    }\n",
              "\n",
              "    .colab-df-convert:hover {\n",
              "      background-color: #E2EBFA;\n",
              "      box-shadow: 0px 1px 2px rgba(60, 64, 67, 0.3), 0px 1px 3px 1px rgba(60, 64, 67, 0.15);\n",
              "      fill: #174EA6;\n",
              "    }\n",
              "\n",
              "    [theme=dark] .colab-df-convert {\n",
              "      background-color: #3B4455;\n",
              "      fill: #D2E3FC;\n",
              "    }\n",
              "\n",
              "    [theme=dark] .colab-df-convert:hover {\n",
              "      background-color: #434B5C;\n",
              "      box-shadow: 0px 1px 3px 1px rgba(0, 0, 0, 0.15);\n",
              "      filter: drop-shadow(0px 1px 2px rgba(0, 0, 0, 0.3));\n",
              "      fill: #FFFFFF;\n",
              "    }\n",
              "  </style>\n",
              "\n",
              "      <script>\n",
              "        const buttonEl =\n",
              "          document.querySelector('#df-c44372fd-aefb-41ba-a248-0682341ce844 button.colab-df-convert');\n",
              "        buttonEl.style.display =\n",
              "          google.colab.kernel.accessAllowed ? 'block' : 'none';\n",
              "\n",
              "        async function convertToInteractive(key) {\n",
              "          const element = document.querySelector('#df-c44372fd-aefb-41ba-a248-0682341ce844');\n",
              "          const dataTable =\n",
              "            await google.colab.kernel.invokeFunction('convertToInteractive',\n",
              "                                                     [key], {});\n",
              "          if (!dataTable) return;\n",
              "\n",
              "          const docLinkHtml = 'Like what you see? Visit the ' +\n",
              "            '<a target=\"_blank\" href=https://colab.research.google.com/notebooks/data_table.ipynb>data table notebook</a>'\n",
              "            + ' to learn more about interactive tables.';\n",
              "          element.innerHTML = '';\n",
              "          dataTable['output_type'] = 'display_data';\n",
              "          await google.colab.output.renderOutput(dataTable, element);\n",
              "          const docLink = document.createElement('div');\n",
              "          docLink.innerHTML = docLinkHtml;\n",
              "          element.appendChild(docLink);\n",
              "        }\n",
              "      </script>\n",
              "    </div>\n",
              "  </div>\n",
              "  "
            ]
          },
          "metadata": {},
          "execution_count": 26
        }
      ],
      "source": [
        "df2"
      ]
    },
    {
      "cell_type": "code",
      "execution_count": 27,
      "metadata": {
        "colab": {
          "base_uri": "https://localhost:8080/"
        },
        "id": "OIjTdi2SAdho",
        "outputId": "0c9de419-a552-466d-83fc-e72583aad0f3"
      },
      "outputs": [
        {
          "output_type": "stream",
          "name": "stdout",
          "text": [
            "['SK_ID_CURR', 'TARGET', 'CNT_CHILDREN', 'AMT_INCOME_TOTAL', 'AMT_CREDIT', 'AMT_ANNUITY', 'AMT_GOODS_PRICE', 'REGION_POPULATION_RELATIVE', 'DAYS_BIRTH', 'DAYS_EMPLOYED', 'DAYS_REGISTRATION', 'DAYS_ID_PUBLISH', 'FLAG_MOBIL', 'FLAG_EMP_PHONE', 'FLAG_WORK_PHONE', 'FLAG_CONT_MOBILE', 'FLAG_PHONE', 'FLAG_EMAIL', 'CNT_FAM_MEMBERS', 'REGION_RATING_CLIENT', 'REGION_RATING_CLIENT_W_CITY', 'HOUR_APPR_PROCESS_START', 'REG_REGION_NOT_LIVE_REGION', 'REG_REGION_NOT_WORK_REGION', 'LIVE_REGION_NOT_WORK_REGION', 'REG_CITY_NOT_LIVE_CITY', 'REG_CITY_NOT_WORK_CITY', 'LIVE_CITY_NOT_WORK_CITY', 'EXT_SOURCE_2', 'EXT_SOURCE_3', 'OBS_30_CNT_SOCIAL_CIRCLE', 'DEF_30_CNT_SOCIAL_CIRCLE', 'OBS_60_CNT_SOCIAL_CIRCLE', 'DEF_60_CNT_SOCIAL_CIRCLE', 'DAYS_LAST_PHONE_CHANGE', 'FLAG_DOCUMENT_2', 'FLAG_DOCUMENT_3', 'FLAG_DOCUMENT_4', 'FLAG_DOCUMENT_5', 'FLAG_DOCUMENT_6', 'FLAG_DOCUMENT_7', 'FLAG_DOCUMENT_8', 'FLAG_DOCUMENT_9', 'FLAG_DOCUMENT_10', 'FLAG_DOCUMENT_11', 'FLAG_DOCUMENT_12', 'FLAG_DOCUMENT_13', 'FLAG_DOCUMENT_14', 'FLAG_DOCUMENT_15', 'FLAG_DOCUMENT_16', 'FLAG_DOCUMENT_17', 'FLAG_DOCUMENT_18', 'FLAG_DOCUMENT_19', 'FLAG_DOCUMENT_20', 'FLAG_DOCUMENT_21', 'AMT_REQ_CREDIT_BUREAU_HOUR', 'AMT_REQ_CREDIT_BUREAU_DAY', 'AMT_REQ_CREDIT_BUREAU_WEEK', 'AMT_REQ_CREDIT_BUREAU_MON', 'AMT_REQ_CREDIT_BUREAU_QRT', 'AMT_REQ_CREDIT_BUREAU_YEAR']\n"
          ]
        }
      ],
      "source": [
        "\n",
        "# Identify numeric and non-numeric columns\n",
        "numeric_cols = df2.select_dtypes(include='number').columns.tolist()\n",
        "print(numeric_cols)"
      ]
    },
    {
      "cell_type": "code",
      "execution_count": 29,
      "metadata": {
        "id": "KZ9mllYzSjUC"
      },
      "outputs": [],
      "source": [
        "from sklearn.impute import SimpleImputer"
      ]
    },
    {
      "cell_type": "code",
      "execution_count": 30,
      "metadata": {
        "colab": {
          "base_uri": "https://localhost:8080/"
        },
        "id": "bWnki3kCSerG",
        "outputId": "728766be-0f2d-4db9-8000-bf7c9644e046"
      },
      "outputs": [
        {
          "output_type": "stream",
          "name": "stdout",
          "text": [
            "Unique values in SK_ID_CURR: [100002. 100003. 100004. ... 456253. 456254. 456255.]\n",
            "Unique values in TARGET: [1. 0.]\n",
            "Unique values in CNT_CHILDREN: [ 0.  1.  2.  3.  4.  7.  5.  6.  8.  9. 11. 12. 10. 19. 14.]\n",
            "Unique values in AMT_INCOME_TOTAL: [202500.  270000.   67500.  ...  96768.  546250.5 113062.5]\n",
            "Unique values in AMT_CREDIT: [ 406597.5 1293502.5  135000.  ...  181989.   743863.5 1391130. ]\n",
            "Unique values in AMT_ANNUITY: [24700.5 35698.5  6750.  ... 71986.5 58770.  77809.5]\n",
            "Unique values in AMT_GOODS_PRICE: [ 351000.  1129500.   135000.  ...  453465.   143977.5  743863.5]\n",
            "Unique values in REGION_POPULATION_RELATIVE: [0.018801 0.003541 0.010032 0.008019 0.028663 0.035792 0.003122 0.018634\n",
            " 0.019689 0.0228   0.015221 0.031329 0.016612 0.010006 0.020713 0.010966\n",
            " 0.04622  0.025164 0.006296 0.026392 0.018029 0.019101 0.030755 0.008575\n",
            " 0.01885  0.006207 0.009175 0.007305 0.007114 0.009334 0.022625 0.01452\n",
            " 0.006629 0.00733  0.032561 0.00496  0.072508 0.009657 0.02461  0.003069\n",
            " 0.020246 0.018209 0.009549 0.007274 0.002134 0.010276 0.003813 0.003818\n",
            " 0.00712  0.0105   0.010147 0.010643 0.008866 0.00702  0.002506 0.005313\n",
            " 0.006233 0.008474 0.005144 0.011657 0.008625 0.014464 0.004849 0.006008\n",
            " 0.00963  0.005002 0.006852 0.011703 0.006305 0.010556 0.00823  0.006671\n",
            " 0.002042 0.005084 0.008068 0.001333 0.001417 0.001276 0.000938 0.000533\n",
            " 0.00029 ]\n",
            "Unique values in DAYS_BIRTH: [ -9461. -16765. -19046. ...  -7951.  -7857. -25061.]\n",
            "Unique values in DAYS_EMPLOYED: [  -637.  -1188.   -225. ... -12971. -11084.  -8694.]\n",
            "Unique values in DAYS_REGISTRATION: [ -3648.  -1186.  -4260. ... -16396. -14558. -14798.]\n",
            "Unique values in DAYS_ID_PUBLISH: [-2120.  -291. -2531. ... -6194. -5854. -6211.]\n",
            "Unique values in FLAG_MOBIL: [1. 0.]\n",
            "Unique values in FLAG_EMP_PHONE: [1. 0.]\n",
            "Unique values in FLAG_WORK_PHONE: [0. 1.]\n",
            "Unique values in FLAG_CONT_MOBILE: [1. 0.]\n",
            "Unique values in FLAG_PHONE: [1. 0.]\n",
            "Unique values in FLAG_EMAIL: [0. 1.]\n",
            "Unique values in CNT_FAM_MEMBERS: [ 1.  2.  3.  4.  5.  6.  9.  7.  8. 10. 13. 14. 12. 20. 15. 16. 11.]\n",
            "Unique values in REGION_RATING_CLIENT: [2. 1. 3.]\n",
            "Unique values in REGION_RATING_CLIENT_W_CITY: [2. 1. 3.]\n",
            "Unique values in HOUR_APPR_PROCESS_START: [10. 11.  9. 17. 16. 14.  8. 15.  7. 13.  6. 12. 19.  3. 18. 21.  4.  5.\n",
            " 20. 22.  1.  2. 23.  0.]\n",
            "Unique values in REG_REGION_NOT_LIVE_REGION: [0. 1.]\n",
            "Unique values in REG_REGION_NOT_WORK_REGION: [0. 1.]\n",
            "Unique values in LIVE_REGION_NOT_WORK_REGION: [0. 1.]\n",
            "Unique values in REG_CITY_NOT_LIVE_CITY: [0. 1.]\n",
            "Unique values in REG_CITY_NOT_WORK_CITY: [0. 1.]\n",
            "Unique values in LIVE_CITY_NOT_WORK_CITY: [0. 1.]\n",
            "Unique values in EXT_SOURCE_2: [0.26294859 0.62224578 0.55591208 ... 0.13118876 0.26448565 0.2678342 ]\n",
            "Unique values in EXT_SOURCE_3: [1.39375780e-01 7.46300213e-01 7.29566691e-01 6.21226338e-01\n",
            " 4.92060094e-01 5.40654450e-01 7.51723715e-01 3.63945239e-01\n",
            " 6.52896552e-01 1.76652579e-01 7.70087070e-01 6.78567689e-01\n",
            " 6.21030378e-02 5.56727426e-01 4.77649155e-01 5.42445144e-01\n",
            " 3.58951229e-01 6.69056695e-01 5.65607981e-01 4.61482391e-01\n",
            " 1.90705948e-01 6.59405532e-01 5.24496446e-01 4.10102573e-01\n",
            " 7.98137231e-01 4.11848556e-01 7.54406173e-01 7.22392890e-01\n",
            " 6.05836265e-01 3.20163367e-01 3.99675616e-01 6.84827659e-01\n",
            " 4.75849909e-01 7.28141299e-01 4.66864006e-01 4.79448981e-01\n",
            " 3.09275356e-01 7.99296783e-01 7.01695774e-01 7.38019620e-01\n",
            " 7.01088438e-02 1.69428727e-01 5.13693766e-01 7.07699345e-01\n",
            " 3.39287700e-01 6.97146908e-01 4.34733249e-01 2.34015167e-01\n",
            " 9.50703958e-02 5.62060483e-01 4.29423684e-01 4.13596760e-01\n",
            " 8.32785025e-01 3.94495405e-01 5.97192427e-01 6.94092643e-01\n",
            " 1.98620045e-01 1.91821602e-01 4.08358853e-01 5.35276250e-01\n",
            " 4.52533559e-01 7.20944150e-01 6.44679455e-01 3.42528872e-01\n",
            " 8.24594971e-01 5.11891802e-01 6.41368257e-01 3.28063161e-01\n",
            " 2.28883417e-01 7.74985465e-02 7.89880347e-01 2.65049430e-01\n",
            " 7.10551247e-02 1.21408286e-01 5.81483706e-01 4.06617437e-01\n",
            " 6.73830078e-01 5.54946769e-01 5.74446617e-01 1.20641030e-01\n",
            " 5.72682505e-01 9.63186928e-02 6.83268831e-01 7.39411754e-01\n",
            " 7.55740050e-01 2.11550764e-01 9.20128094e-02 7.49021705e-01\n",
            " 3.53987608e-01 2.89611238e-01 3.17031779e-01 2.32724776e-01\n",
            " 8.12822607e-01 1.56639827e-01 1.61463080e-01 3.29655054e-01\n",
            " 8.16092360e-01 5.95456203e-01 4.17099668e-01 6.75413291e-01\n",
            " 4.43615308e-01 4.20610964e-01 7.95803133e-01 7.71361592e-01\n",
            " 5.19097338e-01 5.46023197e-01 7.88680775e-01 5.22697317e-01\n",
            " 5.08286991e-01 1.92942228e-01 3.03146374e-01 6.39707568e-01\n",
            " 2.76440695e-01 3.50695843e-01 2.69285800e-01 5.44234741e-01\n",
            " 5.49596502e-01 5.93717587e-01 7.06205110e-01 5.06484240e-01\n",
            " 7.44932185e-01 3.07736696e-01 4.27657370e-01 3.37672722e-01\n",
            " 6.07557300e-01 7.36622698e-01 3.44155007e-01 6.34705531e-01\n",
            " 2.97086612e-01 4.25892898e-01 7.59712182e-01 1.80887978e-01\n",
            " 6.09275667e-01 7.16570245e-01 2.18859082e-01 2.17628520e-01\n",
            " 6.54529280e-01 1.30947153e-01 3.80799683e-01 4.54321060e-01\n",
            " 7.42181612e-01 2.43186480e-01 1.96333966e-01 4.56109739e-01\n",
            " 7.30987370e-01 3.79100485e-01 5.20897599e-01 2.70707387e-01\n",
            " 6.95621930e-01 7.13631400e-01 6.31354537e-01 2.25086862e-01\n",
            " 4.48962273e-01 7.50375150e-01 1.83035167e-01 8.00451340e-01\n",
            " 5.28092751e-01 6.22922000e-01 7.58393062e-01 2.37916080e-01\n",
            " 3.31250865e-01 6.12704244e-01 4.63275328e-01 5.88487788e-01\n",
            " 3.15472155e-01 2.00926088e-01 5.16817674e-02 4.97468889e-01\n",
            " 4.38281374e-01 6.64248263e-01 4.95665829e-01 6.89479143e-01\n",
            " 5.77969119e-01 2.10350229e-01 6.38043528e-01 7.35220999e-01\n",
            " 6.29674251e-01 2.60855914e-01 4.70456116e-01 7.78904039e-01\n",
            " 1.73527430e-01 5.37069958e-01 5.17296581e-01 6.72242890e-01\n",
            " 6.00657537e-01 7.86266615e-01 2.63646813e-01 4.31191798e-01\n",
            " 4.65069215e-01 3.06202298e-01 3.77404249e-01 5.51381262e-01\n",
            " 6.57783800e-01 6.92559067e-01 7.40799088e-01 1.15386662e-01\n",
            " 7.19490785e-01 8.02745476e-01 4.86653157e-01 3.40906426e-01\n",
            " 2.23831317e-01 6.51260219e-01 7.12155155e-01 3.84206813e-01\n",
            " 3.55638717e-01 3.89338792e-01 7.10674386e-01 9.02209393e-02\n",
            " 5.27265239e-04 7.33814537e-01 7.85052026e-01 3.87625344e-01\n",
            " 6.80138822e-01 6.36376171e-01 6.51096140e-02 6.65854922e-01\n",
            " 6.81705878e-01 7.03203305e-01 1.87388765e-01 6.62637792e-01\n",
            " 2.56705572e-01 6.33031641e-01 7.00183851e-01 7.67523105e-01\n",
            " 3.74020803e-01 7.90596960e-02 7.75155267e-01 6.98667555e-01\n",
            " 6.76992503e-01 3.49055251e-01 7.82607837e-01 2.75000352e-01\n",
            " 2.66456808e-01 6.56158373e-01 5.86740009e-01 5.33481630e-01\n",
            " 1.26100559e-01 3.85914672e-01 6.27990819e-01 3.72333666e-01\n",
            " 3.96219572e-01 9.32250954e-02 7.73895694e-01 1.44648146e-01\n",
            " 3.91054977e-01 2.83711883e-01 2.15182404e-01 2.73564678e-01\n",
            " 5.29889834e-01 9.88592804e-02 2.52598698e-01 4.01407414e-01\n",
            " 6.19527708e-01 7.66233670e-01 8.27702668e-01 3.13916677e-01\n",
            " 5.98926218e-01 7.63639921e-01 3.70649632e-01 5.34780874e-02\n",
            " 6.02386344e-01 1.50085176e-01 3.32850564e-01 4.32961667e-01\n",
            " 6.70651753e-01 6.26304277e-01 5.63835049e-01 5.15495375e-01\n",
            " 6.14414378e-01 6.43025564e-01 4.50747282e-01 3.75711010e-01\n",
            " 2.88129600e-01 1.64414179e-01 6.10991328e-01 1.47345918e-01\n",
            " 6.61023539e-01 4.83050188e-01 5.04681319e-01 7.47663390e-01\n",
            " 7.72631135e-01 7.93449030e-01 1.88489534e-01 5.47810466e-01\n",
            " 4.88455184e-01 8.34784159e-01 2.09154699e-01 1.41991543e-01\n",
            " 8.10618022e-01 6.46329898e-01 3.26475210e-01 6.16121691e-01\n",
            " 4.57899551e-01 8.21443313e-01 1.36800522e-01 5.70916542e-01\n",
            " 3.97946322e-01 2.82248434e-01 4.93862882e-01 5.60284328e-01\n",
            " 5.53164699e-01 1.26897526e-01 1.60488931e-01 3.12365369e-01\n",
            " 5.67379237e-01 4.74051289e-01 5.01075160e-01 7.24966768e-02\n",
            " 4.40057830e-01 4.24130311e-01 9.69483171e-02 8.65895915e-01\n",
            " 4.99272015e-01 1.97474512e-01 4.45396242e-01 1.25307878e-01\n",
            " 6.17826147e-01 1.74564266e-01 7.09189110e-01 3.21735282e-01\n",
            " 2.26347396e-01 7.61026370e-01 3.45784802e-01 1.67408447e-01\n",
            " 6.04112600e-01 5.83237926e-01 1.84116156e-01 8.63363382e-01\n",
            " 7.92264474e-01 1.19877961e-01 5.76208836e-01 8.03885061e-01\n",
            " 2.22580765e-01 3.65616507e-01 8.19317692e-01 5.90233339e-01\n",
            " 5.38862707e-01 5.88259005e-02 8.35776516e-01 3.68968738e-01\n",
            " 7.18032811e-01 4.68659655e-01 1.57594999e-01 2.13966852e-01\n",
            " 1.30128543e-01 6.91021227e-01 5.20364071e-02 1.35106016e-01\n",
            " 2.95582642e-01 1.45542813e-01 3.18595524e-01 1.24519471e-01\n",
            " 7.62335618e-01 2.04422625e-01 5.26294940e-01 7.80143638e-01\n",
            " 1.11756371e-01 5.31686143e-01 9.14119938e-02 4.59690450e-01\n",
            " 4.84851475e-01 5.69148771e-01 8.59924176e-01 6.49620311e-01\n",
            " 8.07273923e-01 7.64735192e-02 4.81249341e-01 6.24614658e-01\n",
            " 7.15326763e-02 5.58506628e-01 2.30158897e-01 1.53802586e-01\n",
            " 1.23735322e-01 8.05019662e-01 6.86382335e-01 4.36506499e-01\n",
            " 5.10089528e-01 4.90257512e-01 1.41115100e-01 1.03449052e-01\n",
            " 2.91097380e-01 4.22369652e-01 7.04706423e-01 8.20382959e-01\n",
            " 8.06149281e-01 1.06155623e-01 1.85202082e-01 2.27612915e-01\n",
            " 8.06495443e-02 2.85179905e-01 2.41861487e-01 3.82501804e-01\n",
            " 7.39651461e-02 3.10818254e-01 1.37654462e-01 6.04436913e-02\n",
            " 4.18854289e-01 2.55331771e-01 8.18247508e-01 2.36610824e-01\n",
            " 1.05473186e-01 8.48244300e-01 2.79335321e-01 8.28728832e-01\n",
            " 4.41835823e-01 9.26171714e-02 6.87932838e-01 1.46442067e-01\n",
            " 2.48535557e-01 2.16402961e-01 2.03252114e-01 7.68807573e-01\n",
            " 5.84990040e-01 6.47976860e-01 4.72253343e-01 1.00151820e-01\n",
            " 5.91976618e-01 4.03141677e-01 8.33641977e-02 2.98594990e-01\n",
            " 3.34454126e-01 1.52866229e-01 1.22955418e-01 3.36061521e-01\n",
            " 8.43543539e-01 6.67457742e-01 1.51934549e-01 3.01624892e-01\n",
            " 1.99770570e-01 2.49885063e-01 2.31439351e-01 8.13917470e-01\n",
            " 1.40243184e-01 5.02878277e-01 2.40541417e-01 1.59519540e-01\n",
            " 2.06778654e-01 7.25276435e-01 1.95198406e-01 2.58084204e-01\n",
            " 1.27698794e-01 7.94628583e-01 2.53962809e-01 1.43758053e-01\n",
            " 7.23836990e-01 8.61652750e-01 3.47418227e-01 3.00107757e-01\n",
            " 1.35951044e-01 6.82511545e-02 3.60612566e-01 7.76409851e-01\n",
            " 1.79821765e-01 2.47190938e-01 3.92773861e-01 8.08393591e-01\n",
            " 1.11042402e-01 1.78760465e-01 4.47178578e-01 7.15103102e-01\n",
            " 4.04878364e-01 3.57293268e-01 2.62248971e-01 1.17613732e-01\n",
            " 9.56927242e-02 5.79727423e-01 2.21335206e-01 3.62277247e-01\n",
            " 1.68416171e-01 7.83832434e-01 5.49573941e-02 8.56412800e-01\n",
            " 2.67868936e-01 3.67291018e-01 7.32403323e-01 1.72495467e-01\n",
            " 2.86652483e-01 2.80789574e-01 3.52339973e-01 1.81959110e-01\n",
            " 1.00803706e-01 8.50326149e-02 2.35310517e-01 1.55689375e-01\n",
            " 2.12756305e-01 1.34265424e-01 1.58554900e-01 8.62510303e-01\n",
            " 3.04672184e-01 1.32597495e-01 6.77939106e-02 7.53067392e-01\n",
            " 2.30618111e-02 3.23311245e-01 1.48254379e-01 4.14716966e-02\n",
            " 1.14652494e-01 2.72133684e-01 2.94083101e-01 8.73042707e-02\n",
            " 2.07964174e-01 1.04119916e-01 1.29314289e-01 8.67312636e-02\n",
            " 1.66405546e-01 4.15347145e-01 8.81026575e-01 1.86292950e-01\n",
            " 3.92377151e-02 4.79287862e-02 2.44516392e-01 1.12474350e-01\n",
            " 2.39226279e-01 8.29750142e-01 8.78806992e-02 1.65407460e-01\n",
            " 2.59467655e-01 2.51239446e-01 2.77885689e-01 8.11722793e-01\n",
            " 8.38724852e-01 1.06841948e-01 1.38512877e-01 7.26711209e-01\n",
            " 2.02086602e-01 4.82589835e-02 1.71468367e-01 1.45563649e-02\n",
            " 7.43559314e-01 8.82530313e-01 1.09626434e-01 8.11859432e-02\n",
            " 4.41303159e-02 1.08226323e-01 3.34404021e-02 8.61616624e-02\n",
            " 8.40666560e-01 8.17255925e-02 1.63425695e-01 8.22498762e-01\n",
            " 8.45437922e-01 2.05598139e-01 8.37746853e-01 5.06315131e-02\n",
            " 6.29485767e-02 6.25244733e-02 8.23549312e-01 2.20094645e-01\n",
            " 3.97851461e-02 5.45839935e-02 8.55523587e-01 8.28147042e-02\n",
            " 1.31770133e-01 4.17593601e-02 8.52828467e-01 3.24891229e-01\n",
            " 1.13196353e-01 7.85361446e-02 1.02782014e-01 1.33429254e-01\n",
            " 1.54743631e-01 7.59656813e-02 1.41482655e-02 1.01459357e-01\n",
            " 8.01600903e-01 1.19119065e-01 6.59932074e-02 7.77659443e-01\n",
            " 1.89595260e-01 6.16842561e-02 1.02118788e-01 1.10332428e-01\n",
            " 1.75605979e-01 7.29831557e-02 7.64939274e-01 1.77704072e-01\n",
            " 2.45851214e-01 8.22685076e-02 8.39170037e-02 1.70446123e-01\n",
            " 8.69210801e-01 8.84605647e-02 9.75816127e-02 1.28504377e-01\n",
            " 5.42129844e-02 3.68624823e-02 5.68607395e-02 5.96296575e-02\n",
            " 1.04794623e-01 2.38884361e-02 8.42589277e-01 7.87476198e-01\n",
            " 9.82185953e-02 3.18464044e-02 7.05805188e-02 7.57069015e-01\n",
            " 1.51007535e-01 8.33786999e-01 4.99426019e-02 7.96972682e-01\n",
            " 2.92588007e-01 7.91074913e-01 1.94067828e-01 8.09508289e-01\n",
            " 9.08147090e-02 8.46378063e-01 4.63097465e-02 8.90438827e-02\n",
            " 8.39698085e-01 4.85913395e-02 6.91742267e-02 1.49167461e-01\n",
            " 4.44355656e-02 1.22179744e-01 8.44731375e-02 8.17172399e-01\n",
            " 1.16867266e-01 3.66072628e-02 8.01163805e-02 8.25635745e-01\n",
            " 8.80268480e-01 2.63596859e-02 8.96306691e-02 6.87112549e-02\n",
            " 7.49592809e-02 4.06200396e-02 6.38048445e-02 8.85488394e-01\n",
            " 5.09793334e-02 5.60920788e-02 1.18364326e-01 7.20131886e-02\n",
            " 6.68879340e-02 3.27480398e-02 1.42872523e-01 6.46719559e-02\n",
            " 7.95864362e-02 1.08924404e-01 8.47313519e-01 1.07532176e-01\n",
            " 9.95036835e-02 7.69844691e-02 6.73395087e-02 8.59053129e-01\n",
            " 7.80157665e-02 8.36764077e-01 5.53331995e-02 3.89667159e-02\n",
            " 3.53564629e-02 5.64751797e-02 6.96400847e-02 6.12681138e-02\n",
            " 1.13922396e-01 7.81378238e-01 4.72748180e-02 9.38365970e-02\n",
            " 8.66731234e-01 8.51008703e-01 5.27525967e-02 9.44516920e-02\n",
            " 8.55954513e-02 8.31778230e-01 6.55500263e-02 1.16124914e-01\n",
            " 6.08545970e-02 5.80323088e-02 3.71194126e-02 5.84278409e-02\n",
            " 6.64391717e-02 1.94675368e-02 2.88760241e-02 2.80779003e-02\n",
            " 1.62441998e-01 6.33753623e-02 2.61752069e-02 5.38443535e-02\n",
            " 5.76392903e-02 3.63537437e-02 6.42370375e-02 3.46258510e-02\n",
            " 6.00353829e-02 7.44606879e-02 3.41468857e-02 1.60781171e-02\n",
            " 8.57297454e-01 7.34726404e-02 2.43982125e-02 3.76384476e-02\n",
            " 5.31141728e-02 8.54629801e-01 5.02859402e-02 4.89258668e-02\n",
            " 5.13294139e-02 2.69207441e-02 2.67324463e-02 3.20695369e-02\n",
            " 8.53731432e-01 3.51112903e-02 3.86975129e-02 3.95105215e-02\n",
            " 5.72487718e-02 3.29772745e-02 4.92625778e-02 8.79506216e-01\n",
            " 8.96009549e-01 8.65056176e-01 8.30766606e-01 5.23933458e-02\n",
            " 2.82753998e-02 8.74844253e-01 4.26338431e-02 8.78739767e-01\n",
            " 4.03398941e-02 3.05388193e-02 4.69510224e-02 3.32080587e-02\n",
            " 3.25203451e-02 4.66293360e-02 3.61019144e-02 4.53634379e-02\n",
            " 8.50091881e-01 4.56768096e-02 8.77194258e-01 4.09020477e-02\n",
            " 3.16247736e-02 4.38270669e-02 4.11859296e-02 2.65454297e-02\n",
            " 4.96014853e-02 4.23404218e-02 4.76007352e-02 2.84742479e-02\n",
            " 8.70841988e-01 7.54609403e-02 8.15007386e-01 3.11859799e-02\n",
            " 3.39098058e-02 2.50944406e-02 1.67772514e-02 2.74934071e-02\n",
            " 3.56032843e-02 4.59922418e-02 4.20489313e-02 2.96961417e-02\n",
            " 2.58100107e-02 5.92265014e-02 4.47428279e-02 1.90587694e-02\n",
            " 8.73256255e-01 3.81644526e-02 3.58517647e-02 5.57114233e-02\n",
            " 4.29292066e-02 8.49170417e-01 2.47439401e-02 8.41630287e-01\n",
            " 8.26671642e-01 8.58177559e-01 3.73780642e-02 8.64212002e-01\n",
            " 8.87664202e-01 3.09687983e-02 2.37208308e-02 4.35258068e-02\n",
            " 3.14046353e-02 3.79005735e-02 3.48677564e-02 2.49185898e-02\n",
            " 3.22941806e-02 3.01146246e-02 4.50521147e-02 2.04550299e-02\n",
            " 1.13457194e-02 4.00616000e-02 1.70168720e-02 2.40571964e-02\n",
            " 2.27390386e-02 2.01679886e-02 2.86744531e-02 2.52715002e-02\n",
            " 3.03260035e-02 2.14915157e-02 2.94890196e-02 3.84300954e-02\n",
            " 3.07530812e-02 2.99046737e-02 2.24206800e-02 3.43855641e-02\n",
            " 2.03110127e-02 8.72455816e-01 2.73012161e-02 2.19512925e-02\n",
            " 2.71103313e-02 8.71651065e-01 2.54497765e-02 1.27159239e-02\n",
            " 8.93976075e-01 2.42271194e-02 2.35543731e-02 1.86584217e-02\n",
            " 2.32248707e-02 1.82663270e-02 2.59919845e-02 2.92832986e-02\n",
            " 1.39484656e-02 8.44493084e-01 1.75062455e-02 2.78817406e-02\n",
            " 1.65409482e-02 1.89243929e-02 2.90789697e-02 1.81374345e-02\n",
            " 2.00259511e-02 4.32265239e-02]\n",
            "Unique values in OBS_30_CNT_SOCIAL_CIRCLE: [  2.   1.   0.   4.   8.  10.   7.   3.   6.   5.  12.   9.  13.  11.\n",
            "  14.  22.  16.  15.  17.  20.  25.  19.  18.  21.  24.  23.  28.  26.\n",
            "  29.  27.  47. 348.  30.]\n",
            "Unique values in DEF_30_CNT_SOCIAL_CIRCLE: [ 2.  0.  1.  3.  4.  5.  6.  7. 34.  8.]\n",
            "Unique values in OBS_60_CNT_SOCIAL_CIRCLE: [  2.   1.   0.   4.   8.  10.   7.   3.   6.   5.  12.   9.  13.  11.\n",
            "  14.  21.  15.  22.  16.  20.  25.  17.  19.  18.  24.  23.  28.  29.\n",
            "  27.  47. 344.  30.  26.]\n",
            "Unique values in DEF_60_CNT_SOCIAL_CIRCLE: [ 2.  0.  1.  3.  5.  4.  7. 24.  6.]\n",
            "Unique values in DAYS_LAST_PHONE_CHANGE: [-1134.  -828.  -815. ... -3988. -3899. -3538.]\n",
            "Unique values in FLAG_DOCUMENT_2: [0. 1.]\n",
            "Unique values in FLAG_DOCUMENT_3: [1. 0.]\n",
            "Unique values in FLAG_DOCUMENT_4: [0. 1.]\n",
            "Unique values in FLAG_DOCUMENT_5: [0. 1.]\n",
            "Unique values in FLAG_DOCUMENT_6: [0. 1.]\n",
            "Unique values in FLAG_DOCUMENT_7: [0. 1.]\n",
            "Unique values in FLAG_DOCUMENT_8: [0. 1.]\n",
            "Unique values in FLAG_DOCUMENT_9: [0. 1.]\n",
            "Unique values in FLAG_DOCUMENT_10: [0. 1.]\n",
            "Unique values in FLAG_DOCUMENT_11: [0. 1.]\n",
            "Unique values in FLAG_DOCUMENT_12: [0. 1.]\n",
            "Unique values in FLAG_DOCUMENT_13: [0. 1.]\n",
            "Unique values in FLAG_DOCUMENT_14: [0. 1.]\n",
            "Unique values in FLAG_DOCUMENT_15: [0. 1.]\n",
            "Unique values in FLAG_DOCUMENT_16: [0. 1.]\n",
            "Unique values in FLAG_DOCUMENT_17: [0. 1.]\n",
            "Unique values in FLAG_DOCUMENT_18: [0. 1.]\n",
            "Unique values in FLAG_DOCUMENT_19: [0. 1.]\n",
            "Unique values in FLAG_DOCUMENT_20: [0. 1.]\n",
            "Unique values in FLAG_DOCUMENT_21: [0. 1.]\n",
            "Unique values in AMT_REQ_CREDIT_BUREAU_HOUR: [0. 1. 2. 3. 4.]\n",
            "Unique values in AMT_REQ_CREDIT_BUREAU_DAY: [0. 1. 3. 2. 4. 5. 6. 9. 8.]\n",
            "Unique values in AMT_REQ_CREDIT_BUREAU_WEEK: [0. 1. 3. 2. 4. 5. 6. 8. 7.]\n",
            "Unique values in AMT_REQ_CREDIT_BUREAU_MON: [ 0.  1.  2.  6.  5.  3.  7.  9.  4. 11.  8. 16. 12. 14. 10. 13. 17. 24.\n",
            " 19. 15. 23. 18. 27. 22.]\n",
            "Unique values in AMT_REQ_CREDIT_BUREAU_QRT: [  0.   1.   2.   4.   3.   8.   5.   6.   7. 261.  19.]\n",
            "Unique values in AMT_REQ_CREDIT_BUREAU_YEAR: [ 1.  0.  2.  4.  5.  3.  8.  6.  9.  7. 10. 11. 13. 16. 12. 25. 23. 15.\n",
            " 14. 22. 17. 19. 18. 21. 20.]\n",
            "SK_ID_CURR                    float64\n",
            "TARGET                        float64\n",
            "CNT_CHILDREN                  float64\n",
            "AMT_INCOME_TOTAL              float64\n",
            "AMT_CREDIT                    float64\n",
            "                               ...   \n",
            "AMT_REQ_CREDIT_BUREAU_DAY     float64\n",
            "AMT_REQ_CREDIT_BUREAU_WEEK    float64\n",
            "AMT_REQ_CREDIT_BUREAU_MON     float64\n",
            "AMT_REQ_CREDIT_BUREAU_QRT     float64\n",
            "AMT_REQ_CREDIT_BUREAU_YEAR    float64\n",
            "Length: 61, dtype: object\n",
            "        SK_ID_CURR  TARGET  CNT_CHILDREN  AMT_INCOME_TOTAL  AMT_CREDIT  \\\n",
            "0         100002.0     1.0           0.0          202500.0    406597.5   \n",
            "1         100003.0     0.0           0.0          270000.0   1293502.5   \n",
            "2         100004.0     0.0           0.0           67500.0    135000.0   \n",
            "3         100006.0     0.0           0.0          135000.0    312682.5   \n",
            "4         100007.0     0.0           0.0          121500.0    513000.0   \n",
            "...            ...     ...           ...               ...         ...   \n",
            "307506    456251.0     0.0           0.0          157500.0    254700.0   \n",
            "307507    456252.0     0.0           0.0           72000.0    269550.0   \n",
            "307508    456253.0     0.0           0.0          153000.0    677664.0   \n",
            "307509    456254.0     1.0           0.0          171000.0    370107.0   \n",
            "307510    456255.0     0.0           0.0          157500.0    675000.0   \n",
            "\n",
            "        AMT_ANNUITY  AMT_GOODS_PRICE  REGION_POPULATION_RELATIVE  DAYS_BIRTH  \\\n",
            "0           24700.5         351000.0                    0.018801     -9461.0   \n",
            "1           35698.5        1129500.0                    0.003541    -16765.0   \n",
            "2            6750.0         135000.0                    0.010032    -19046.0   \n",
            "3           29686.5         297000.0                    0.008019    -19005.0   \n",
            "4           21865.5         513000.0                    0.028663    -19932.0   \n",
            "...             ...              ...                         ...         ...   \n",
            "307506      27558.0         225000.0                    0.032561     -9327.0   \n",
            "307507      12001.5         225000.0                    0.025164    -20775.0   \n",
            "307508      29979.0         585000.0                    0.005002    -14966.0   \n",
            "307509      20205.0         319500.0                    0.005313    -11961.0   \n",
            "307510      49117.5         675000.0                    0.046220    -16856.0   \n",
            "\n",
            "        DAYS_EMPLOYED  ...  FLAG_DOCUMENT_18  FLAG_DOCUMENT_19  \\\n",
            "0              -637.0  ...               0.0               0.0   \n",
            "1             -1188.0  ...               0.0               0.0   \n",
            "2              -225.0  ...               0.0               0.0   \n",
            "3             -3039.0  ...               0.0               0.0   \n",
            "4             -3038.0  ...               0.0               0.0   \n",
            "...               ...  ...               ...               ...   \n",
            "307506         -236.0  ...               0.0               0.0   \n",
            "307507       365243.0  ...               0.0               0.0   \n",
            "307508        -7921.0  ...               0.0               0.0   \n",
            "307509        -4786.0  ...               0.0               0.0   \n",
            "307510        -1262.0  ...               0.0               0.0   \n",
            "\n",
            "        FLAG_DOCUMENT_20  FLAG_DOCUMENT_21  AMT_REQ_CREDIT_BUREAU_HOUR  \\\n",
            "0                    0.0               0.0                         0.0   \n",
            "1                    0.0               0.0                         0.0   \n",
            "2                    0.0               0.0                         0.0   \n",
            "3                    0.0               0.0                         0.0   \n",
            "4                    0.0               0.0                         0.0   \n",
            "...                  ...               ...                         ...   \n",
            "307506               0.0               0.0                         0.0   \n",
            "307507               0.0               0.0                         0.0   \n",
            "307508               0.0               0.0                         1.0   \n",
            "307509               0.0               0.0                         0.0   \n",
            "307510               0.0               0.0                         0.0   \n",
            "\n",
            "        AMT_REQ_CREDIT_BUREAU_DAY  AMT_REQ_CREDIT_BUREAU_WEEK  \\\n",
            "0                             0.0                         0.0   \n",
            "1                             0.0                         0.0   \n",
            "2                             0.0                         0.0   \n",
            "3                             0.0                         0.0   \n",
            "4                             0.0                         0.0   \n",
            "...                           ...                         ...   \n",
            "307506                        0.0                         0.0   \n",
            "307507                        0.0                         0.0   \n",
            "307508                        0.0                         0.0   \n",
            "307509                        0.0                         0.0   \n",
            "307510                        0.0                         0.0   \n",
            "\n",
            "        AMT_REQ_CREDIT_BUREAU_MON  AMT_REQ_CREDIT_BUREAU_QRT  \\\n",
            "0                             0.0                        0.0   \n",
            "1                             0.0                        0.0   \n",
            "2                             0.0                        0.0   \n",
            "3                             0.0                        0.0   \n",
            "4                             0.0                        0.0   \n",
            "...                           ...                        ...   \n",
            "307506                        0.0                        0.0   \n",
            "307507                        0.0                        0.0   \n",
            "307508                        1.0                        0.0   \n",
            "307509                        0.0                        0.0   \n",
            "307510                        2.0                        0.0   \n",
            "\n",
            "        AMT_REQ_CREDIT_BUREAU_YEAR  \n",
            "0                              1.0  \n",
            "1                              0.0  \n",
            "2                              0.0  \n",
            "3                              0.0  \n",
            "4                              0.0  \n",
            "...                            ...  \n",
            "307506                         0.0  \n",
            "307507                         0.0  \n",
            "307508                         1.0  \n",
            "307509                         0.0  \n",
            "307510                         1.0  \n",
            "\n",
            "[307511 rows x 61 columns]\n"
          ]
        }
      ],
      "source": [
        "# Filling missing values in numeric columns with mode\n",
        "numeric_imputer = SimpleImputer(strategy='most_frequent')\n",
        "df2[numeric_cols] = numeric_imputer.fit_transform(df2[numeric_cols])\n",
        "df2[numeric_cols]=df2[numeric_cols].apply(pd.to_numeric,errors='coerce')  # non-numeric value will be converted to NaN by coerce'\n",
        "# Print the unique values in the numeric columns\n",
        "for col in numeric_cols:\n",
        "    unique_values = df2[col].unique()\n",
        "    print(f\"Unique values in {col}: {unique_values}\")\n",
        "# Print the data types of the numeric columns\n",
        "print(df2[numeric_cols].dtypes)\n",
        " #Display the imputed values for the numeric columns\n",
        "print(df2[numeric_cols])"
      ]
    },
    {
      "cell_type": "code",
      "execution_count": null,
      "metadata": {
        "id": "8DD63FLz7A0N"
      },
      "outputs": [],
      "source": []
    },
    {
      "cell_type": "code",
      "execution_count": 31,
      "metadata": {
        "colab": {
          "base_uri": "https://localhost:8080/"
        },
        "id": "C0_XSkWf6-bM",
        "outputId": "f12b2fff-7e55-4edc-9825-7317d57ca662"
      },
      "outputs": [
        {
          "output_type": "stream",
          "name": "stdout",
          "text": [
            "(0,)\n"
          ]
        }
      ],
      "source": [
        "object_cols = df2[numeric_cols].select_dtypes(include='object').columns\n",
        "\n",
        "# Printing the column names with the object data type\n",
        "print(object_cols.shape)"
      ]
    },
    {
      "cell_type": "code",
      "execution_count": 32,
      "metadata": {
        "colab": {
          "base_uri": "https://localhost:8080/"
        },
        "id": "nIbEAHXgSlvB",
        "outputId": "12058b79-31ab-4426-c2fe-c4ba48c0373b"
      },
      "outputs": [
        {
          "output_type": "stream",
          "name": "stdout",
          "text": [
            "       NAME_CONTRACT_TYPE CODE_GENDER FLAG_OWN_CAR FLAG_OWN_REALTY  \\\n",
            "0              Cash loans           M            N               Y   \n",
            "1              Cash loans           F            N               N   \n",
            "2         Revolving loans           M            Y               Y   \n",
            "3              Cash loans           F            N               Y   \n",
            "4              Cash loans           M            N               Y   \n",
            "...                   ...         ...          ...             ...   \n",
            "307506         Cash loans           M            N               N   \n",
            "307507         Cash loans           F            N               Y   \n",
            "307508         Cash loans           F            N               Y   \n",
            "307509         Cash loans           F            N               Y   \n",
            "307510         Cash loans           F            N               N   \n",
            "\n",
            "       NAME_TYPE_SUITE      NAME_INCOME_TYPE            NAME_EDUCATION_TYPE  \\\n",
            "0        Unaccompanied               Working  Secondary / secondary special   \n",
            "1               Family         State servant               Higher education   \n",
            "2        Unaccompanied               Working  Secondary / secondary special   \n",
            "3        Unaccompanied               Working  Secondary / secondary special   \n",
            "4        Unaccompanied               Working  Secondary / secondary special   \n",
            "...                ...                   ...                            ...   \n",
            "307506   Unaccompanied               Working  Secondary / secondary special   \n",
            "307507   Unaccompanied             Pensioner  Secondary / secondary special   \n",
            "307508   Unaccompanied               Working               Higher education   \n",
            "307509   Unaccompanied  Commercial associate  Secondary / secondary special   \n",
            "307510   Unaccompanied  Commercial associate               Higher education   \n",
            "\n",
            "          NAME_FAMILY_STATUS  NAME_HOUSING_TYPE WEEKDAY_APPR_PROCESS_START  \\\n",
            "0       Single / not married  House / apartment                  WEDNESDAY   \n",
            "1                    Married  House / apartment                     MONDAY   \n",
            "2       Single / not married  House / apartment                     MONDAY   \n",
            "3             Civil marriage  House / apartment                  WEDNESDAY   \n",
            "4       Single / not married  House / apartment                   THURSDAY   \n",
            "...                      ...                ...                        ...   \n",
            "307506             Separated       With parents                   THURSDAY   \n",
            "307507                 Widow  House / apartment                     MONDAY   \n",
            "307508             Separated  House / apartment                   THURSDAY   \n",
            "307509               Married  House / apartment                  WEDNESDAY   \n",
            "307510               Married  House / apartment                   THURSDAY   \n",
            "\n",
            "             ORGANIZATION_TYPE  \n",
            "0       Business Entity Type 3  \n",
            "1                       School  \n",
            "2                   Government  \n",
            "3       Business Entity Type 3  \n",
            "4                     Religion  \n",
            "...                        ...  \n",
            "307506                Services  \n",
            "307507                     XNA  \n",
            "307508                  School  \n",
            "307509  Business Entity Type 1  \n",
            "307510  Business Entity Type 3  \n",
            "\n",
            "[307511 rows x 11 columns]\n"
          ]
        }
      ],
      "source": [
        "# Identify non-numeric columns\n",
        "non_numeric_cols = df2.select_dtypes(exclude=['number']).columns.tolist()\n",
        "# Filling missing values in non-numeric columns with mode\n",
        "categorical_imputer = SimpleImputer(strategy='most_frequent')\n",
        "df2[non_numeric_cols] = categorical_imputer.fit_transform(df2[non_numeric_cols])\n",
        "print(df2[non_numeric_cols])"
      ]
    },
    {
      "cell_type": "code",
      "execution_count": 33,
      "metadata": {
        "colab": {
          "base_uri": "https://localhost:8080/"
        },
        "id": "2Hb_TrO9G0vy",
        "outputId": "075c5dbf-9daa-4ac4-c1e7-d709f68556e5"
      },
      "outputs": [
        {
          "output_type": "stream",
          "name": "stdout",
          "text": [
            "        NAME_CONTRACT_TYPE_Cash loans  NAME_CONTRACT_TYPE_Revolving loans  \\\n",
            "0                                   1                                   0   \n",
            "1                                   1                                   0   \n",
            "2                                   0                                   1   \n",
            "3                                   1                                   0   \n",
            "4                                   1                                   0   \n",
            "...                               ...                                 ...   \n",
            "307506                              1                                   0   \n",
            "307507                              1                                   0   \n",
            "307508                              1                                   0   \n",
            "307509                              1                                   0   \n",
            "307510                              1                                   0   \n",
            "\n",
            "        CODE_GENDER_F  CODE_GENDER_M  CODE_GENDER_XNA  FLAG_OWN_CAR_N  \\\n",
            "0                   0              1                0               1   \n",
            "1                   1              0                0               1   \n",
            "2                   0              1                0               0   \n",
            "3                   1              0                0               1   \n",
            "4                   0              1                0               1   \n",
            "...               ...            ...              ...             ...   \n",
            "307506              0              1                0               1   \n",
            "307507              1              0                0               1   \n",
            "307508              1              0                0               1   \n",
            "307509              1              0                0               1   \n",
            "307510              1              0                0               1   \n",
            "\n",
            "        FLAG_OWN_CAR_Y  FLAG_OWN_REALTY_N  FLAG_OWN_REALTY_Y  \\\n",
            "0                    0                  0                  1   \n",
            "1                    0                  1                  0   \n",
            "2                    1                  0                  1   \n",
            "3                    0                  0                  1   \n",
            "4                    0                  0                  1   \n",
            "...                ...                ...                ...   \n",
            "307506               0                  1                  0   \n",
            "307507               0                  0                  1   \n",
            "307508               0                  0                  1   \n",
            "307509               0                  0                  1   \n",
            "307510               0                  1                  0   \n",
            "\n",
            "        NAME_TYPE_SUITE_Children  ...  ORGANIZATION_TYPE_Trade: type 4  \\\n",
            "0                              0  ...                                0   \n",
            "1                              0  ...                                0   \n",
            "2                              0  ...                                0   \n",
            "3                              0  ...                                0   \n",
            "4                              0  ...                                0   \n",
            "...                          ...  ...                              ...   \n",
            "307506                         0  ...                                0   \n",
            "307507                         0  ...                                0   \n",
            "307508                         0  ...                                0   \n",
            "307509                         0  ...                                0   \n",
            "307510                         0  ...                                0   \n",
            "\n",
            "        ORGANIZATION_TYPE_Trade: type 5  ORGANIZATION_TYPE_Trade: type 6  \\\n",
            "0                                     0                                0   \n",
            "1                                     0                                0   \n",
            "2                                     0                                0   \n",
            "3                                     0                                0   \n",
            "4                                     0                                0   \n",
            "...                                 ...                              ...   \n",
            "307506                                0                                0   \n",
            "307507                                0                                0   \n",
            "307508                                0                                0   \n",
            "307509                                0                                0   \n",
            "307510                                0                                0   \n",
            "\n",
            "        ORGANIZATION_TYPE_Trade: type 7  ORGANIZATION_TYPE_Transport: type 1  \\\n",
            "0                                     0                                    0   \n",
            "1                                     0                                    0   \n",
            "2                                     0                                    0   \n",
            "3                                     0                                    0   \n",
            "4                                     0                                    0   \n",
            "...                                 ...                                  ...   \n",
            "307506                                0                                    0   \n",
            "307507                                0                                    0   \n",
            "307508                                0                                    0   \n",
            "307509                                0                                    0   \n",
            "307510                                0                                    0   \n",
            "\n",
            "        ORGANIZATION_TYPE_Transport: type 2  \\\n",
            "0                                         0   \n",
            "1                                         0   \n",
            "2                                         0   \n",
            "3                                         0   \n",
            "4                                         0   \n",
            "...                                     ...   \n",
            "307506                                    0   \n",
            "307507                                    0   \n",
            "307508                                    0   \n",
            "307509                                    0   \n",
            "307510                                    0   \n",
            "\n",
            "        ORGANIZATION_TYPE_Transport: type 3  \\\n",
            "0                                         0   \n",
            "1                                         0   \n",
            "2                                         0   \n",
            "3                                         0   \n",
            "4                                         0   \n",
            "...                                     ...   \n",
            "307506                                    0   \n",
            "307507                                    0   \n",
            "307508                                    0   \n",
            "307509                                    0   \n",
            "307510                                    0   \n",
            "\n",
            "        ORGANIZATION_TYPE_Transport: type 4  ORGANIZATION_TYPE_University  \\\n",
            "0                                         0                             0   \n",
            "1                                         0                             0   \n",
            "2                                         0                             0   \n",
            "3                                         0                             0   \n",
            "4                                         0                             0   \n",
            "...                                     ...                           ...   \n",
            "307506                                    0                             0   \n",
            "307507                                    0                             0   \n",
            "307508                                    0                             0   \n",
            "307509                                    0                             0   \n",
            "307510                                    0                             0   \n",
            "\n",
            "        ORGANIZATION_TYPE_XNA  \n",
            "0                           0  \n",
            "1                           0  \n",
            "2                           0  \n",
            "3                           0  \n",
            "4                           0  \n",
            "...                       ...  \n",
            "307506                      0  \n",
            "307507                      1  \n",
            "307508                      0  \n",
            "307509                      0  \n",
            "307510                      0  \n",
            "\n",
            "[307511 rows x 106 columns]\n"
          ]
        }
      ],
      "source": [
        "# Preprocessing non-numeric columns\n",
        "non_numeric_data = pd.get_dummies(df2[non_numeric_cols])\n",
        "print(non_numeric_data)\n"
      ]
    },
    {
      "cell_type": "code",
      "execution_count": 34,
      "metadata": {
        "colab": {
          "base_uri": "https://localhost:8080/"
        },
        "id": "4YYTGtvJ_5Ds",
        "outputId": "1e493bb3-d912-4cb7-dd55-93ebe5038835"
      },
      "outputs": [
        {
          "output_type": "stream",
          "name": "stdout",
          "text": [
            "(11,)\n"
          ]
        }
      ],
      "source": [
        "object_cols = df2[non_numeric_data].select_dtypes(include='object').columns\n",
        "\n",
        "# Printing the column names with the object data type\n",
        "print(object_cols.shape)"
      ]
    },
    {
      "cell_type": "code",
      "execution_count": 35,
      "metadata": {
        "colab": {
          "base_uri": "https://localhost:8080/"
        },
        "id": "ntKcC6LEG8K7",
        "outputId": "254abe18-fff9-4256-d24d-0fa784a39c86"
      },
      "outputs": [
        {
          "output_type": "stream",
          "name": "stdout",
          "text": [
            "        SK_ID_CURR  TARGET  CNT_CHILDREN  AMT_INCOME_TOTAL  AMT_CREDIT  \\\n",
            "0         100002.0     1.0           0.0          202500.0    406597.5   \n",
            "1         100003.0     0.0           0.0          270000.0   1293502.5   \n",
            "2         100004.0     0.0           0.0           67500.0    135000.0   \n",
            "3         100006.0     0.0           0.0          135000.0    312682.5   \n",
            "4         100007.0     0.0           0.0          121500.0    513000.0   \n",
            "...            ...     ...           ...               ...         ...   \n",
            "307506    456251.0     0.0           0.0          157500.0    254700.0   \n",
            "307507    456252.0     0.0           0.0           72000.0    269550.0   \n",
            "307508    456253.0     0.0           0.0          153000.0    677664.0   \n",
            "307509    456254.0     1.0           0.0          171000.0    370107.0   \n",
            "307510    456255.0     0.0           0.0          157500.0    675000.0   \n",
            "\n",
            "        AMT_ANNUITY  AMT_GOODS_PRICE  REGION_POPULATION_RELATIVE  DAYS_BIRTH  \\\n",
            "0           24700.5         351000.0                    0.018801     -9461.0   \n",
            "1           35698.5        1129500.0                    0.003541    -16765.0   \n",
            "2            6750.0         135000.0                    0.010032    -19046.0   \n",
            "3           29686.5         297000.0                    0.008019    -19005.0   \n",
            "4           21865.5         513000.0                    0.028663    -19932.0   \n",
            "...             ...              ...                         ...         ...   \n",
            "307506      27558.0         225000.0                    0.032561     -9327.0   \n",
            "307507      12001.5         225000.0                    0.025164    -20775.0   \n",
            "307508      29979.0         585000.0                    0.005002    -14966.0   \n",
            "307509      20205.0         319500.0                    0.005313    -11961.0   \n",
            "307510      49117.5         675000.0                    0.046220    -16856.0   \n",
            "\n",
            "        DAYS_EMPLOYED  ...  ORGANIZATION_TYPE_Trade: type 4  \\\n",
            "0              -637.0  ...                                0   \n",
            "1             -1188.0  ...                                0   \n",
            "2              -225.0  ...                                0   \n",
            "3             -3039.0  ...                                0   \n",
            "4             -3038.0  ...                                0   \n",
            "...               ...  ...                              ...   \n",
            "307506         -236.0  ...                                0   \n",
            "307507       365243.0  ...                                0   \n",
            "307508        -7921.0  ...                                0   \n",
            "307509        -4786.0  ...                                0   \n",
            "307510        -1262.0  ...                                0   \n",
            "\n",
            "        ORGANIZATION_TYPE_Trade: type 5  ORGANIZATION_TYPE_Trade: type 6  \\\n",
            "0                                     0                                0   \n",
            "1                                     0                                0   \n",
            "2                                     0                                0   \n",
            "3                                     0                                0   \n",
            "4                                     0                                0   \n",
            "...                                 ...                              ...   \n",
            "307506                                0                                0   \n",
            "307507                                0                                0   \n",
            "307508                                0                                0   \n",
            "307509                                0                                0   \n",
            "307510                                0                                0   \n",
            "\n",
            "        ORGANIZATION_TYPE_Trade: type 7  ORGANIZATION_TYPE_Transport: type 1  \\\n",
            "0                                     0                                    0   \n",
            "1                                     0                                    0   \n",
            "2                                     0                                    0   \n",
            "3                                     0                                    0   \n",
            "4                                     0                                    0   \n",
            "...                                 ...                                  ...   \n",
            "307506                                0                                    0   \n",
            "307507                                0                                    0   \n",
            "307508                                0                                    0   \n",
            "307509                                0                                    0   \n",
            "307510                                0                                    0   \n",
            "\n",
            "        ORGANIZATION_TYPE_Transport: type 2  \\\n",
            "0                                         0   \n",
            "1                                         0   \n",
            "2                                         0   \n",
            "3                                         0   \n",
            "4                                         0   \n",
            "...                                     ...   \n",
            "307506                                    0   \n",
            "307507                                    0   \n",
            "307508                                    0   \n",
            "307509                                    0   \n",
            "307510                                    0   \n",
            "\n",
            "        ORGANIZATION_TYPE_Transport: type 3  \\\n",
            "0                                         0   \n",
            "1                                         0   \n",
            "2                                         0   \n",
            "3                                         0   \n",
            "4                                         0   \n",
            "...                                     ...   \n",
            "307506                                    0   \n",
            "307507                                    0   \n",
            "307508                                    0   \n",
            "307509                                    0   \n",
            "307510                                    0   \n",
            "\n",
            "        ORGANIZATION_TYPE_Transport: type 4  ORGANIZATION_TYPE_University  \\\n",
            "0                                         0                             0   \n",
            "1                                         0                             0   \n",
            "2                                         0                             0   \n",
            "3                                         0                             0   \n",
            "4                                         0                             0   \n",
            "...                                     ...                           ...   \n",
            "307506                                    0                             0   \n",
            "307507                                    0                             0   \n",
            "307508                                    0                             0   \n",
            "307509                                    0                             0   \n",
            "307510                                    0                             0   \n",
            "\n",
            "        ORGANIZATION_TYPE_XNA  \n",
            "0                           0  \n",
            "1                           0  \n",
            "2                           0  \n",
            "3                           0  \n",
            "4                           0  \n",
            "...                       ...  \n",
            "307506                      0  \n",
            "307507                      1  \n",
            "307508                      0  \n",
            "307509                      0  \n",
            "307510                      0  \n",
            "\n",
            "[307511 rows x 167 columns]\n"
          ]
        }
      ],
      "source": [
        "# Concatenating processed numeric and non-numeric data\n",
        "preprocessed_data = pd.concat([df2[numeric_cols], non_numeric_data], axis=1)\n",
        "print(preprocessed_data)\n"
      ]
    },
    {
      "cell_type": "code",
      "execution_count": null,
      "metadata": {
        "id": "pb9FQ4SABgSe"
      },
      "outputs": [],
      "source": [
        " # apply Random Forest, ANN,KNN,SVM and logistic regression and compare results using a bar chart for each model"
      ]
    },
    {
      "cell_type": "code",
      "execution_count": 36,
      "metadata": {
        "id": "84ApkdGhB7L8"
      },
      "outputs": [],
      "source": [
        "from sklearn.model_selection import train_test_split\n",
        "from sklearn.ensemble import RandomForestClassifier\n",
        "from sklearn.neural_network import MLPClassifier\n",
        "from sklearn.neighbors import KNeighborsClassifier\n",
        "from sklearn.svm import SVC\n",
        "from sklearn.linear_model import LogisticRegression\n",
        "from sklearn.metrics import accuracy_score"
      ]
    },
    {
      "cell_type": "code",
      "execution_count": null,
      "metadata": {
        "id": "lWfEtvtyCwQm"
      },
      "outputs": [],
      "source": []
    },
    {
      "cell_type": "code",
      "execution_count": 37,
      "metadata": {
        "colab": {
          "base_uri": "https://localhost:8080/"
        },
        "id": "F5bGyT23LZnA",
        "outputId": "59e22063-6d79-4240-c524-e55d6dcac175"
      },
      "outputs": [
        {
          "output_type": "stream",
          "name": "stdout",
          "text": [
            "        SK_ID_CURR  CNT_CHILDREN  AMT_INCOME_TOTAL  AMT_CREDIT  AMT_ANNUITY  \\\n",
            "0         100002.0           0.0          202500.0    406597.5      24700.5   \n",
            "1         100003.0           0.0          270000.0   1293502.5      35698.5   \n",
            "2         100004.0           0.0           67500.0    135000.0       6750.0   \n",
            "3         100006.0           0.0          135000.0    312682.5      29686.5   \n",
            "4         100007.0           0.0          121500.0    513000.0      21865.5   \n",
            "...            ...           ...               ...         ...          ...   \n",
            "307506    456251.0           0.0          157500.0    254700.0      27558.0   \n",
            "307507    456252.0           0.0           72000.0    269550.0      12001.5   \n",
            "307508    456253.0           0.0          153000.0    677664.0      29979.0   \n",
            "307509    456254.0           0.0          171000.0    370107.0      20205.0   \n",
            "307510    456255.0           0.0          157500.0    675000.0      49117.5   \n",
            "\n",
            "        AMT_GOODS_PRICE  REGION_POPULATION_RELATIVE  DAYS_BIRTH  \\\n",
            "0              351000.0                    0.018801     -9461.0   \n",
            "1             1129500.0                    0.003541    -16765.0   \n",
            "2              135000.0                    0.010032    -19046.0   \n",
            "3              297000.0                    0.008019    -19005.0   \n",
            "4              513000.0                    0.028663    -19932.0   \n",
            "...                 ...                         ...         ...   \n",
            "307506         225000.0                    0.032561     -9327.0   \n",
            "307507         225000.0                    0.025164    -20775.0   \n",
            "307508         585000.0                    0.005002    -14966.0   \n",
            "307509         319500.0                    0.005313    -11961.0   \n",
            "307510         675000.0                    0.046220    -16856.0   \n",
            "\n",
            "        DAYS_EMPLOYED  DAYS_REGISTRATION  ...  \\\n",
            "0              -637.0            -3648.0  ...   \n",
            "1             -1188.0            -1186.0  ...   \n",
            "2              -225.0            -4260.0  ...   \n",
            "3             -3039.0            -9833.0  ...   \n",
            "4             -3038.0            -4311.0  ...   \n",
            "...               ...                ...  ...   \n",
            "307506         -236.0            -8456.0  ...   \n",
            "307507       365243.0            -4388.0  ...   \n",
            "307508        -7921.0            -6737.0  ...   \n",
            "307509        -4786.0            -2562.0  ...   \n",
            "307510        -1262.0            -5128.0  ...   \n",
            "\n",
            "        ORGANIZATION_TYPE_Trade: type 4  ORGANIZATION_TYPE_Trade: type 5  \\\n",
            "0                                     0                                0   \n",
            "1                                     0                                0   \n",
            "2                                     0                                0   \n",
            "3                                     0                                0   \n",
            "4                                     0                                0   \n",
            "...                                 ...                              ...   \n",
            "307506                                0                                0   \n",
            "307507                                0                                0   \n",
            "307508                                0                                0   \n",
            "307509                                0                                0   \n",
            "307510                                0                                0   \n",
            "\n",
            "        ORGANIZATION_TYPE_Trade: type 6  ORGANIZATION_TYPE_Trade: type 7  \\\n",
            "0                                     0                                0   \n",
            "1                                     0                                0   \n",
            "2                                     0                                0   \n",
            "3                                     0                                0   \n",
            "4                                     0                                0   \n",
            "...                                 ...                              ...   \n",
            "307506                                0                                0   \n",
            "307507                                0                                0   \n",
            "307508                                0                                0   \n",
            "307509                                0                                0   \n",
            "307510                                0                                0   \n",
            "\n",
            "        ORGANIZATION_TYPE_Transport: type 1  \\\n",
            "0                                         0   \n",
            "1                                         0   \n",
            "2                                         0   \n",
            "3                                         0   \n",
            "4                                         0   \n",
            "...                                     ...   \n",
            "307506                                    0   \n",
            "307507                                    0   \n",
            "307508                                    0   \n",
            "307509                                    0   \n",
            "307510                                    0   \n",
            "\n",
            "        ORGANIZATION_TYPE_Transport: type 2  \\\n",
            "0                                         0   \n",
            "1                                         0   \n",
            "2                                         0   \n",
            "3                                         0   \n",
            "4                                         0   \n",
            "...                                     ...   \n",
            "307506                                    0   \n",
            "307507                                    0   \n",
            "307508                                    0   \n",
            "307509                                    0   \n",
            "307510                                    0   \n",
            "\n",
            "        ORGANIZATION_TYPE_Transport: type 3  \\\n",
            "0                                         0   \n",
            "1                                         0   \n",
            "2                                         0   \n",
            "3                                         0   \n",
            "4                                         0   \n",
            "...                                     ...   \n",
            "307506                                    0   \n",
            "307507                                    0   \n",
            "307508                                    0   \n",
            "307509                                    0   \n",
            "307510                                    0   \n",
            "\n",
            "        ORGANIZATION_TYPE_Transport: type 4  ORGANIZATION_TYPE_University  \\\n",
            "0                                         0                             0   \n",
            "1                                         0                             0   \n",
            "2                                         0                             0   \n",
            "3                                         0                             0   \n",
            "4                                         0                             0   \n",
            "...                                     ...                           ...   \n",
            "307506                                    0                             0   \n",
            "307507                                    0                             0   \n",
            "307508                                    0                             0   \n",
            "307509                                    0                             0   \n",
            "307510                                    0                             0   \n",
            "\n",
            "        ORGANIZATION_TYPE_XNA  \n",
            "0                           0  \n",
            "1                           0  \n",
            "2                           0  \n",
            "3                           0  \n",
            "4                           0  \n",
            "...                       ...  \n",
            "307506                      0  \n",
            "307507                      1  \n",
            "307508                      0  \n",
            "307509                      0  \n",
            "307510                      0  \n",
            "\n",
            "[307511 rows x 166 columns]\n",
            "0         1.0\n",
            "1         0.0\n",
            "2         0.0\n",
            "3         0.0\n",
            "4         0.0\n",
            "         ... \n",
            "307506    0.0\n",
            "307507    0.0\n",
            "307508    0.0\n",
            "307509    1.0\n",
            "307510    0.0\n",
            "Name: TARGET, Length: 307511, dtype: float64\n"
          ]
        }
      ],
      "source": [
        "X=preprocessed_data.drop(columns=['TARGET'])\n",
        "print(X)\n",
        "y=preprocessed_data['TARGET']\n",
        "print(y)"
      ]
    },
    {
      "cell_type": "code",
      "execution_count": null,
      "metadata": {
        "id": "94qKs1wvLeQa"
      },
      "outputs": [],
      "source": []
    },
    {
      "cell_type": "code",
      "execution_count": 38,
      "metadata": {
        "id": "K54S3t6cB930"
      },
      "outputs": [],
      "source": [
        "# Split the data into training and testing sets\n",
        "X_train, X_test, y_train, y_test = train_test_split(X, y, test_size=0.3, random_state=42)"
      ]
    },
    {
      "cell_type": "code",
      "execution_count": null,
      "metadata": {
        "id": "9ZVOoxZrLc9z"
      },
      "outputs": [],
      "source": []
    },
    {
      "cell_type": "code",
      "execution_count": 39,
      "metadata": {
        "colab": {
          "base_uri": "https://localhost:8080/"
        },
        "id": "b_K-vy38IzV-",
        "outputId": "a5c61503-e098-4b5c-9e14-14b1ccd1260c"
      },
      "outputs": [
        {
          "output_type": "stream",
          "name": "stdout",
          "text": [
            "X_train:\n",
            "(215257, 166)\n",
            "\n",
            "X_test:\n",
            "(92254, 166)\n"
          ]
        }
      ],
      "source": [
        "# Print the preprocessed datasets\n",
        "print(\"X_train:\")\n",
        "print(X_train.shape)\n",
        "print(\"\\nX_test:\")\n",
        "print(X_test.shape)"
      ]
    },
    {
      "cell_type": "code",
      "execution_count": 40,
      "metadata": {
        "id": "sCPkHZ3-C-xR"
      },
      "outputs": [],
      "source": [
        "#training the models\n",
        "rf = RandomForestClassifier()\n",
        "ann = MLPClassifier()\n",
        "knn = KNeighborsClassifier()\n",
        "lr = LogisticRegression()\n"
      ]
    },
    {
      "cell_type": "code",
      "execution_count": 41,
      "metadata": {
        "colab": {
          "base_uri": "https://localhost:8080/",
          "height": 74
        },
        "id": "xBU0ci0sDcKo",
        "outputId": "e0d14e6f-af40-4656-f9e5-9926d916d249"
      },
      "outputs": [
        {
          "output_type": "execute_result",
          "data": {
            "text/plain": [
              "RandomForestClassifier()"
            ],
            "text/html": [
              "<style>#sk-container-id-1 {color: black;background-color: white;}#sk-container-id-1 pre{padding: 0;}#sk-container-id-1 div.sk-toggleable {background-color: white;}#sk-container-id-1 label.sk-toggleable__label {cursor: pointer;display: block;width: 100%;margin-bottom: 0;padding: 0.3em;box-sizing: border-box;text-align: center;}#sk-container-id-1 label.sk-toggleable__label-arrow:before {content: \"▸\";float: left;margin-right: 0.25em;color: #696969;}#sk-container-id-1 label.sk-toggleable__label-arrow:hover:before {color: black;}#sk-container-id-1 div.sk-estimator:hover label.sk-toggleable__label-arrow:before {color: black;}#sk-container-id-1 div.sk-toggleable__content {max-height: 0;max-width: 0;overflow: hidden;text-align: left;background-color: #f0f8ff;}#sk-container-id-1 div.sk-toggleable__content pre {margin: 0.2em;color: black;border-radius: 0.25em;background-color: #f0f8ff;}#sk-container-id-1 input.sk-toggleable__control:checked~div.sk-toggleable__content {max-height: 200px;max-width: 100%;overflow: auto;}#sk-container-id-1 input.sk-toggleable__control:checked~label.sk-toggleable__label-arrow:before {content: \"▾\";}#sk-container-id-1 div.sk-estimator input.sk-toggleable__control:checked~label.sk-toggleable__label {background-color: #d4ebff;}#sk-container-id-1 div.sk-label input.sk-toggleable__control:checked~label.sk-toggleable__label {background-color: #d4ebff;}#sk-container-id-1 input.sk-hidden--visually {border: 0;clip: rect(1px 1px 1px 1px);clip: rect(1px, 1px, 1px, 1px);height: 1px;margin: -1px;overflow: hidden;padding: 0;position: absolute;width: 1px;}#sk-container-id-1 div.sk-estimator {font-family: monospace;background-color: #f0f8ff;border: 1px dotted black;border-radius: 0.25em;box-sizing: border-box;margin-bottom: 0.5em;}#sk-container-id-1 div.sk-estimator:hover {background-color: #d4ebff;}#sk-container-id-1 div.sk-parallel-item::after {content: \"\";width: 100%;border-bottom: 1px solid gray;flex-grow: 1;}#sk-container-id-1 div.sk-label:hover label.sk-toggleable__label {background-color: #d4ebff;}#sk-container-id-1 div.sk-serial::before {content: \"\";position: absolute;border-left: 1px solid gray;box-sizing: border-box;top: 0;bottom: 0;left: 50%;z-index: 0;}#sk-container-id-1 div.sk-serial {display: flex;flex-direction: column;align-items: center;background-color: white;padding-right: 0.2em;padding-left: 0.2em;position: relative;}#sk-container-id-1 div.sk-item {position: relative;z-index: 1;}#sk-container-id-1 div.sk-parallel {display: flex;align-items: stretch;justify-content: center;background-color: white;position: relative;}#sk-container-id-1 div.sk-item::before, #sk-container-id-1 div.sk-parallel-item::before {content: \"\";position: absolute;border-left: 1px solid gray;box-sizing: border-box;top: 0;bottom: 0;left: 50%;z-index: -1;}#sk-container-id-1 div.sk-parallel-item {display: flex;flex-direction: column;z-index: 1;position: relative;background-color: white;}#sk-container-id-1 div.sk-parallel-item:first-child::after {align-self: flex-end;width: 50%;}#sk-container-id-1 div.sk-parallel-item:last-child::after {align-self: flex-start;width: 50%;}#sk-container-id-1 div.sk-parallel-item:only-child::after {width: 0;}#sk-container-id-1 div.sk-dashed-wrapped {border: 1px dashed gray;margin: 0 0.4em 0.5em 0.4em;box-sizing: border-box;padding-bottom: 0.4em;background-color: white;}#sk-container-id-1 div.sk-label label {font-family: monospace;font-weight: bold;display: inline-block;line-height: 1.2em;}#sk-container-id-1 div.sk-label-container {text-align: center;}#sk-container-id-1 div.sk-container {/* jupyter's `normalize.less` sets `[hidden] { display: none; }` but bootstrap.min.css set `[hidden] { display: none !important; }` so we also need the `!important` here to be able to override the default hidden behavior on the sphinx rendered scikit-learn.org. See: https://github.com/scikit-learn/scikit-learn/issues/21755 */display: inline-block !important;position: relative;}#sk-container-id-1 div.sk-text-repr-fallback {display: none;}</style><div id=\"sk-container-id-1\" class=\"sk-top-container\"><div class=\"sk-text-repr-fallback\"><pre>RandomForestClassifier()</pre><b>In a Jupyter environment, please rerun this cell to show the HTML representation or trust the notebook. <br />On GitHub, the HTML representation is unable to render, please try loading this page with nbviewer.org.</b></div><div class=\"sk-container\" hidden><div class=\"sk-item\"><div class=\"sk-estimator sk-toggleable\"><input class=\"sk-toggleable__control sk-hidden--visually\" id=\"sk-estimator-id-1\" type=\"checkbox\" checked><label for=\"sk-estimator-id-1\" class=\"sk-toggleable__label sk-toggleable__label-arrow\">RandomForestClassifier</label><div class=\"sk-toggleable__content\"><pre>RandomForestClassifier()</pre></div></div></div></div></div>"
            ]
          },
          "metadata": {},
          "execution_count": 41
        }
      ],
      "source": [
        "rf.fit(X_train, y_train)\n"
      ]
    },
    {
      "cell_type": "code",
      "source": [
        "ann.fit(X_train, y_train)"
      ],
      "metadata": {
        "colab": {
          "base_uri": "https://localhost:8080/",
          "height": 109
        },
        "id": "l8Qo3uZxCe8q",
        "outputId": "876b79aa-831d-4360-ccad-90fea1a1ee3a"
      },
      "execution_count": 42,
      "outputs": [
        {
          "output_type": "stream",
          "name": "stderr",
          "text": [
            "/usr/local/lib/python3.10/dist-packages/sklearn/neural_network/_multilayer_perceptron.py:693: UserWarning: Training interrupted by user.\n",
            "  warnings.warn(\"Training interrupted by user.\")\n"
          ]
        },
        {
          "output_type": "execute_result",
          "data": {
            "text/plain": [
              "MLPClassifier()"
            ],
            "text/html": [
              "<style>#sk-container-id-2 {color: black;background-color: white;}#sk-container-id-2 pre{padding: 0;}#sk-container-id-2 div.sk-toggleable {background-color: white;}#sk-container-id-2 label.sk-toggleable__label {cursor: pointer;display: block;width: 100%;margin-bottom: 0;padding: 0.3em;box-sizing: border-box;text-align: center;}#sk-container-id-2 label.sk-toggleable__label-arrow:before {content: \"▸\";float: left;margin-right: 0.25em;color: #696969;}#sk-container-id-2 label.sk-toggleable__label-arrow:hover:before {color: black;}#sk-container-id-2 div.sk-estimator:hover label.sk-toggleable__label-arrow:before {color: black;}#sk-container-id-2 div.sk-toggleable__content {max-height: 0;max-width: 0;overflow: hidden;text-align: left;background-color: #f0f8ff;}#sk-container-id-2 div.sk-toggleable__content pre {margin: 0.2em;color: black;border-radius: 0.25em;background-color: #f0f8ff;}#sk-container-id-2 input.sk-toggleable__control:checked~div.sk-toggleable__content {max-height: 200px;max-width: 100%;overflow: auto;}#sk-container-id-2 input.sk-toggleable__control:checked~label.sk-toggleable__label-arrow:before {content: \"▾\";}#sk-container-id-2 div.sk-estimator input.sk-toggleable__control:checked~label.sk-toggleable__label {background-color: #d4ebff;}#sk-container-id-2 div.sk-label input.sk-toggleable__control:checked~label.sk-toggleable__label {background-color: #d4ebff;}#sk-container-id-2 input.sk-hidden--visually {border: 0;clip: rect(1px 1px 1px 1px);clip: rect(1px, 1px, 1px, 1px);height: 1px;margin: -1px;overflow: hidden;padding: 0;position: absolute;width: 1px;}#sk-container-id-2 div.sk-estimator {font-family: monospace;background-color: #f0f8ff;border: 1px dotted black;border-radius: 0.25em;box-sizing: border-box;margin-bottom: 0.5em;}#sk-container-id-2 div.sk-estimator:hover {background-color: #d4ebff;}#sk-container-id-2 div.sk-parallel-item::after {content: \"\";width: 100%;border-bottom: 1px solid gray;flex-grow: 1;}#sk-container-id-2 div.sk-label:hover label.sk-toggleable__label {background-color: #d4ebff;}#sk-container-id-2 div.sk-serial::before {content: \"\";position: absolute;border-left: 1px solid gray;box-sizing: border-box;top: 0;bottom: 0;left: 50%;z-index: 0;}#sk-container-id-2 div.sk-serial {display: flex;flex-direction: column;align-items: center;background-color: white;padding-right: 0.2em;padding-left: 0.2em;position: relative;}#sk-container-id-2 div.sk-item {position: relative;z-index: 1;}#sk-container-id-2 div.sk-parallel {display: flex;align-items: stretch;justify-content: center;background-color: white;position: relative;}#sk-container-id-2 div.sk-item::before, #sk-container-id-2 div.sk-parallel-item::before {content: \"\";position: absolute;border-left: 1px solid gray;box-sizing: border-box;top: 0;bottom: 0;left: 50%;z-index: -1;}#sk-container-id-2 div.sk-parallel-item {display: flex;flex-direction: column;z-index: 1;position: relative;background-color: white;}#sk-container-id-2 div.sk-parallel-item:first-child::after {align-self: flex-end;width: 50%;}#sk-container-id-2 div.sk-parallel-item:last-child::after {align-self: flex-start;width: 50%;}#sk-container-id-2 div.sk-parallel-item:only-child::after {width: 0;}#sk-container-id-2 div.sk-dashed-wrapped {border: 1px dashed gray;margin: 0 0.4em 0.5em 0.4em;box-sizing: border-box;padding-bottom: 0.4em;background-color: white;}#sk-container-id-2 div.sk-label label {font-family: monospace;font-weight: bold;display: inline-block;line-height: 1.2em;}#sk-container-id-2 div.sk-label-container {text-align: center;}#sk-container-id-2 div.sk-container {/* jupyter's `normalize.less` sets `[hidden] { display: none; }` but bootstrap.min.css set `[hidden] { display: none !important; }` so we also need the `!important` here to be able to override the default hidden behavior on the sphinx rendered scikit-learn.org. See: https://github.com/scikit-learn/scikit-learn/issues/21755 */display: inline-block !important;position: relative;}#sk-container-id-2 div.sk-text-repr-fallback {display: none;}</style><div id=\"sk-container-id-2\" class=\"sk-top-container\"><div class=\"sk-text-repr-fallback\"><pre>MLPClassifier()</pre><b>In a Jupyter environment, please rerun this cell to show the HTML representation or trust the notebook. <br />On GitHub, the HTML representation is unable to render, please try loading this page with nbviewer.org.</b></div><div class=\"sk-container\" hidden><div class=\"sk-item\"><div class=\"sk-estimator sk-toggleable\"><input class=\"sk-toggleable__control sk-hidden--visually\" id=\"sk-estimator-id-2\" type=\"checkbox\" checked><label for=\"sk-estimator-id-2\" class=\"sk-toggleable__label sk-toggleable__label-arrow\">MLPClassifier</label><div class=\"sk-toggleable__content\"><pre>MLPClassifier()</pre></div></div></div></div></div>"
            ]
          },
          "metadata": {},
          "execution_count": 42
        }
      ]
    },
    {
      "cell_type": "code",
      "source": [
        "knn.fit(X_train, y_train)"
      ],
      "metadata": {
        "colab": {
          "base_uri": "https://localhost:8080/",
          "height": 74
        },
        "id": "5LJXrhu4Cl1S",
        "outputId": "3fd6c4c3-1a55-4d44-fe96-75d6dd66e716"
      },
      "execution_count": 43,
      "outputs": [
        {
          "output_type": "execute_result",
          "data": {
            "text/plain": [
              "KNeighborsClassifier()"
            ],
            "text/html": [
              "<style>#sk-container-id-3 {color: black;background-color: white;}#sk-container-id-3 pre{padding: 0;}#sk-container-id-3 div.sk-toggleable {background-color: white;}#sk-container-id-3 label.sk-toggleable__label {cursor: pointer;display: block;width: 100%;margin-bottom: 0;padding: 0.3em;box-sizing: border-box;text-align: center;}#sk-container-id-3 label.sk-toggleable__label-arrow:before {content: \"▸\";float: left;margin-right: 0.25em;color: #696969;}#sk-container-id-3 label.sk-toggleable__label-arrow:hover:before {color: black;}#sk-container-id-3 div.sk-estimator:hover label.sk-toggleable__label-arrow:before {color: black;}#sk-container-id-3 div.sk-toggleable__content {max-height: 0;max-width: 0;overflow: hidden;text-align: left;background-color: #f0f8ff;}#sk-container-id-3 div.sk-toggleable__content pre {margin: 0.2em;color: black;border-radius: 0.25em;background-color: #f0f8ff;}#sk-container-id-3 input.sk-toggleable__control:checked~div.sk-toggleable__content {max-height: 200px;max-width: 100%;overflow: auto;}#sk-container-id-3 input.sk-toggleable__control:checked~label.sk-toggleable__label-arrow:before {content: \"▾\";}#sk-container-id-3 div.sk-estimator input.sk-toggleable__control:checked~label.sk-toggleable__label {background-color: #d4ebff;}#sk-container-id-3 div.sk-label input.sk-toggleable__control:checked~label.sk-toggleable__label {background-color: #d4ebff;}#sk-container-id-3 input.sk-hidden--visually {border: 0;clip: rect(1px 1px 1px 1px);clip: rect(1px, 1px, 1px, 1px);height: 1px;margin: -1px;overflow: hidden;padding: 0;position: absolute;width: 1px;}#sk-container-id-3 div.sk-estimator {font-family: monospace;background-color: #f0f8ff;border: 1px dotted black;border-radius: 0.25em;box-sizing: border-box;margin-bottom: 0.5em;}#sk-container-id-3 div.sk-estimator:hover {background-color: #d4ebff;}#sk-container-id-3 div.sk-parallel-item::after {content: \"\";width: 100%;border-bottom: 1px solid gray;flex-grow: 1;}#sk-container-id-3 div.sk-label:hover label.sk-toggleable__label {background-color: #d4ebff;}#sk-container-id-3 div.sk-serial::before {content: \"\";position: absolute;border-left: 1px solid gray;box-sizing: border-box;top: 0;bottom: 0;left: 50%;z-index: 0;}#sk-container-id-3 div.sk-serial {display: flex;flex-direction: column;align-items: center;background-color: white;padding-right: 0.2em;padding-left: 0.2em;position: relative;}#sk-container-id-3 div.sk-item {position: relative;z-index: 1;}#sk-container-id-3 div.sk-parallel {display: flex;align-items: stretch;justify-content: center;background-color: white;position: relative;}#sk-container-id-3 div.sk-item::before, #sk-container-id-3 div.sk-parallel-item::before {content: \"\";position: absolute;border-left: 1px solid gray;box-sizing: border-box;top: 0;bottom: 0;left: 50%;z-index: -1;}#sk-container-id-3 div.sk-parallel-item {display: flex;flex-direction: column;z-index: 1;position: relative;background-color: white;}#sk-container-id-3 div.sk-parallel-item:first-child::after {align-self: flex-end;width: 50%;}#sk-container-id-3 div.sk-parallel-item:last-child::after {align-self: flex-start;width: 50%;}#sk-container-id-3 div.sk-parallel-item:only-child::after {width: 0;}#sk-container-id-3 div.sk-dashed-wrapped {border: 1px dashed gray;margin: 0 0.4em 0.5em 0.4em;box-sizing: border-box;padding-bottom: 0.4em;background-color: white;}#sk-container-id-3 div.sk-label label {font-family: monospace;font-weight: bold;display: inline-block;line-height: 1.2em;}#sk-container-id-3 div.sk-label-container {text-align: center;}#sk-container-id-3 div.sk-container {/* jupyter's `normalize.less` sets `[hidden] { display: none; }` but bootstrap.min.css set `[hidden] { display: none !important; }` so we also need the `!important` here to be able to override the default hidden behavior on the sphinx rendered scikit-learn.org. See: https://github.com/scikit-learn/scikit-learn/issues/21755 */display: inline-block !important;position: relative;}#sk-container-id-3 div.sk-text-repr-fallback {display: none;}</style><div id=\"sk-container-id-3\" class=\"sk-top-container\"><div class=\"sk-text-repr-fallback\"><pre>KNeighborsClassifier()</pre><b>In a Jupyter environment, please rerun this cell to show the HTML representation or trust the notebook. <br />On GitHub, the HTML representation is unable to render, please try loading this page with nbviewer.org.</b></div><div class=\"sk-container\" hidden><div class=\"sk-item\"><div class=\"sk-estimator sk-toggleable\"><input class=\"sk-toggleable__control sk-hidden--visually\" id=\"sk-estimator-id-3\" type=\"checkbox\" checked><label for=\"sk-estimator-id-3\" class=\"sk-toggleable__label sk-toggleable__label-arrow\">KNeighborsClassifier</label><div class=\"sk-toggleable__content\"><pre>KNeighborsClassifier()</pre></div></div></div></div></div>"
            ]
          },
          "metadata": {},
          "execution_count": 43
        }
      ]
    },
    {
      "cell_type": "code",
      "source": [
        "lr.fit(X_train, y_train)"
      ],
      "metadata": {
        "colab": {
          "base_uri": "https://localhost:8080/",
          "height": 213
        },
        "id": "JJQeuuunCmqQ",
        "outputId": "534b7b54-0c6b-4091-8caa-2d8d8408f689"
      },
      "execution_count": 44,
      "outputs": [
        {
          "output_type": "stream",
          "name": "stderr",
          "text": [
            "/usr/local/lib/python3.10/dist-packages/sklearn/linear_model/_logistic.py:458: ConvergenceWarning: lbfgs failed to converge (status=1):\n",
            "STOP: TOTAL NO. of ITERATIONS REACHED LIMIT.\n",
            "\n",
            "Increase the number of iterations (max_iter) or scale the data as shown in:\n",
            "    https://scikit-learn.org/stable/modules/preprocessing.html\n",
            "Please also refer to the documentation for alternative solver options:\n",
            "    https://scikit-learn.org/stable/modules/linear_model.html#logistic-regression\n",
            "  n_iter_i = _check_optimize_result(\n"
          ]
        },
        {
          "output_type": "execute_result",
          "data": {
            "text/plain": [
              "LogisticRegression()"
            ],
            "text/html": [
              "<style>#sk-container-id-4 {color: black;background-color: white;}#sk-container-id-4 pre{padding: 0;}#sk-container-id-4 div.sk-toggleable {background-color: white;}#sk-container-id-4 label.sk-toggleable__label {cursor: pointer;display: block;width: 100%;margin-bottom: 0;padding: 0.3em;box-sizing: border-box;text-align: center;}#sk-container-id-4 label.sk-toggleable__label-arrow:before {content: \"▸\";float: left;margin-right: 0.25em;color: #696969;}#sk-container-id-4 label.sk-toggleable__label-arrow:hover:before {color: black;}#sk-container-id-4 div.sk-estimator:hover label.sk-toggleable__label-arrow:before {color: black;}#sk-container-id-4 div.sk-toggleable__content {max-height: 0;max-width: 0;overflow: hidden;text-align: left;background-color: #f0f8ff;}#sk-container-id-4 div.sk-toggleable__content pre {margin: 0.2em;color: black;border-radius: 0.25em;background-color: #f0f8ff;}#sk-container-id-4 input.sk-toggleable__control:checked~div.sk-toggleable__content {max-height: 200px;max-width: 100%;overflow: auto;}#sk-container-id-4 input.sk-toggleable__control:checked~label.sk-toggleable__label-arrow:before {content: \"▾\";}#sk-container-id-4 div.sk-estimator input.sk-toggleable__control:checked~label.sk-toggleable__label {background-color: #d4ebff;}#sk-container-id-4 div.sk-label input.sk-toggleable__control:checked~label.sk-toggleable__label {background-color: #d4ebff;}#sk-container-id-4 input.sk-hidden--visually {border: 0;clip: rect(1px 1px 1px 1px);clip: rect(1px, 1px, 1px, 1px);height: 1px;margin: -1px;overflow: hidden;padding: 0;position: absolute;width: 1px;}#sk-container-id-4 div.sk-estimator {font-family: monospace;background-color: #f0f8ff;border: 1px dotted black;border-radius: 0.25em;box-sizing: border-box;margin-bottom: 0.5em;}#sk-container-id-4 div.sk-estimator:hover {background-color: #d4ebff;}#sk-container-id-4 div.sk-parallel-item::after {content: \"\";width: 100%;border-bottom: 1px solid gray;flex-grow: 1;}#sk-container-id-4 div.sk-label:hover label.sk-toggleable__label {background-color: #d4ebff;}#sk-container-id-4 div.sk-serial::before {content: \"\";position: absolute;border-left: 1px solid gray;box-sizing: border-box;top: 0;bottom: 0;left: 50%;z-index: 0;}#sk-container-id-4 div.sk-serial {display: flex;flex-direction: column;align-items: center;background-color: white;padding-right: 0.2em;padding-left: 0.2em;position: relative;}#sk-container-id-4 div.sk-item {position: relative;z-index: 1;}#sk-container-id-4 div.sk-parallel {display: flex;align-items: stretch;justify-content: center;background-color: white;position: relative;}#sk-container-id-4 div.sk-item::before, #sk-container-id-4 div.sk-parallel-item::before {content: \"\";position: absolute;border-left: 1px solid gray;box-sizing: border-box;top: 0;bottom: 0;left: 50%;z-index: -1;}#sk-container-id-4 div.sk-parallel-item {display: flex;flex-direction: column;z-index: 1;position: relative;background-color: white;}#sk-container-id-4 div.sk-parallel-item:first-child::after {align-self: flex-end;width: 50%;}#sk-container-id-4 div.sk-parallel-item:last-child::after {align-self: flex-start;width: 50%;}#sk-container-id-4 div.sk-parallel-item:only-child::after {width: 0;}#sk-container-id-4 div.sk-dashed-wrapped {border: 1px dashed gray;margin: 0 0.4em 0.5em 0.4em;box-sizing: border-box;padding-bottom: 0.4em;background-color: white;}#sk-container-id-4 div.sk-label label {font-family: monospace;font-weight: bold;display: inline-block;line-height: 1.2em;}#sk-container-id-4 div.sk-label-container {text-align: center;}#sk-container-id-4 div.sk-container {/* jupyter's `normalize.less` sets `[hidden] { display: none; }` but bootstrap.min.css set `[hidden] { display: none !important; }` so we also need the `!important` here to be able to override the default hidden behavior on the sphinx rendered scikit-learn.org. See: https://github.com/scikit-learn/scikit-learn/issues/21755 */display: inline-block !important;position: relative;}#sk-container-id-4 div.sk-text-repr-fallback {display: none;}</style><div id=\"sk-container-id-4\" class=\"sk-top-container\"><div class=\"sk-text-repr-fallback\"><pre>LogisticRegression()</pre><b>In a Jupyter environment, please rerun this cell to show the HTML representation or trust the notebook. <br />On GitHub, the HTML representation is unable to render, please try loading this page with nbviewer.org.</b></div><div class=\"sk-container\" hidden><div class=\"sk-item\"><div class=\"sk-estimator sk-toggleable\"><input class=\"sk-toggleable__control sk-hidden--visually\" id=\"sk-estimator-id-4\" type=\"checkbox\" checked><label for=\"sk-estimator-id-4\" class=\"sk-toggleable__label sk-toggleable__label-arrow\">LogisticRegression</label><div class=\"sk-toggleable__content\"><pre>LogisticRegression()</pre></div></div></div></div></div>"
            ]
          },
          "metadata": {},
          "execution_count": 44
        }
      ]
    },
    {
      "cell_type": "code",
      "execution_count": 45,
      "metadata": {
        "id": "qj7v3MVS-UCT",
        "colab": {
          "base_uri": "https://localhost:8080/"
        },
        "outputId": "28b1a495-8453-457b-f74d-9ea359418a52"
      },
      "outputs": [
        {
          "output_type": "stream",
          "name": "stdout",
          "text": [
            "[0. 0. 0. ... 0. 0. 0.]\n"
          ]
        }
      ],
      "source": [
        "#predict on the test data\n",
        "\n",
        "rf_pred=rf.predict(X_test)\n",
        "print(rf_pred)"
      ]
    },
    {
      "cell_type": "code",
      "source": [
        "ann_pred=ann.predict(X_test)\n",
        "print(ann_pred)"
      ],
      "metadata": {
        "colab": {
          "base_uri": "https://localhost:8080/"
        },
        "id": "TiBvrMONBszP",
        "outputId": "c3b5af8e-f5d2-4403-c575-ca8fcd499dfa"
      },
      "execution_count": 46,
      "outputs": [
        {
          "output_type": "stream",
          "name": "stdout",
          "text": [
            "[0. 0. 0. ... 0. 0. 0.]\n"
          ]
        }
      ]
    },
    {
      "cell_type": "code",
      "source": [
        "knn_pred=knn.predict(X_test)\n",
        "print(knn_pred)"
      ],
      "metadata": {
        "colab": {
          "base_uri": "https://localhost:8080/"
        },
        "id": "JeDkbfEMB-vk",
        "outputId": "41e386b4-6c75-438b-f393-69516b4332d3"
      },
      "execution_count": 57,
      "outputs": [
        {
          "output_type": "stream",
          "name": "stdout",
          "text": [
            "[0. 0. 0. ... 0. 0. 0.]\n"
          ]
        }
      ]
    },
    {
      "cell_type": "code",
      "source": [
        "lr_pred=lr.predict(X_test)\n",
        "print(lr_pred)"
      ],
      "metadata": {
        "colab": {
          "base_uri": "https://localhost:8080/"
        },
        "id": "QenjaEXXCEub",
        "outputId": "022f7a59-9815-4658-ec05-d0692eb4f99c"
      },
      "execution_count": 52,
      "outputs": [
        {
          "output_type": "stream",
          "name": "stdout",
          "text": [
            "[0. 0. 0. ... 0. 0. 0.]\n"
          ]
        }
      ]
    },
    {
      "cell_type": "code",
      "execution_count": 51,
      "metadata": {
        "id": "88KXEIR7016n",
        "colab": {
          "base_uri": "https://localhost:8080/"
        },
        "outputId": "8fcde72e-e632-4c22-863e-fa7bea7e3d0d"
      },
      "outputs": [
        {
          "output_type": "stream",
          "name": "stdout",
          "text": [
            "0.9197107984477638\n"
          ]
        }
      ],
      "source": [
        "\n",
        "# Calculate accuracies\n",
        "rf_accuracy = accuracy_score(y_test, rf_pred)\n",
        "print(rf_accuracy)"
      ]
    },
    {
      "cell_type": "code",
      "source": [
        "ann_accuracy = accuracy_score(y_test, ann_pred)\n",
        "print(ann_accuracy)"
      ],
      "metadata": {
        "colab": {
          "base_uri": "https://localhost:8080/"
        },
        "id": "s1_f0GgICfOH",
        "outputId": "c62e57d2-bb49-47e9-f16d-95a993102923"
      },
      "execution_count": 53,
      "outputs": [
        {
          "output_type": "stream",
          "name": "stdout",
          "text": [
            "0.9196457606174258\n"
          ]
        }
      ]
    },
    {
      "cell_type": "code",
      "source": [
        "knn_accuracy = accuracy_score(y_test, knn_pred)\n",
        "print(knn_accuracy)"
      ],
      "metadata": {
        "colab": {
          "base_uri": "https://localhost:8080/"
        },
        "id": "0IpER4XCCjl5",
        "outputId": "91f2a41e-e99d-4f23-9824-5e95c46ca47c"
      },
      "execution_count": 58,
      "outputs": [
        {
          "output_type": "stream",
          "name": "stdout",
          "text": [
            "0.9145402909358944\n"
          ]
        }
      ]
    },
    {
      "cell_type": "code",
      "source": [
        "#svm_accuracy = accuracy_score(y_test, svm_pred)\n",
        "lr_accuracy = accuracy_score(y_test, lr_pred)\n",
        "print(lr_accuracy)"
      ],
      "metadata": {
        "colab": {
          "base_uri": "https://localhost:8080/"
        },
        "id": "SUzgpHZZCmL9",
        "outputId": "89789d73-7225-4256-b1e8-6d749ccf23ab"
      },
      "execution_count": 55,
      "outputs": [
        {
          "output_type": "stream",
          "name": "stdout",
          "text": [
            "0.9196349209790361\n"
          ]
        }
      ]
    },
    {
      "cell_type": "code",
      "execution_count": 59,
      "metadata": {
        "id": "6gIv-V6U080w",
        "colab": {
          "base_uri": "https://localhost:8080/",
          "height": 472
        },
        "outputId": "8df15396-64b1-4921-8ed1-d4d6dc97ce5f"
      },
      "outputs": [
        {
          "output_type": "display_data",
          "data": {
            "text/plain": [
              "<Figure size 640x480 with 1 Axes>"
            ],
            "image/png": "[encoded data removed]"
          },
          "metadata": {}
        }
      ],
      "source": [
        "#Creating a bar plot\n",
        "models = ['Random Forest', 'ANN', 'KNN','Logistic Regression']\n",
        "accuracies = [rf_accuracy, ann_accuracy, knn_accuracy,lr_accuracy]\n",
        "plt.bar(models, accuracies)\n",
        "plt.xlabel('Models')\n",
        "plt.ylabel('Accuracy')\n",
        "plt.title('Model Comparison')\n",
        "plt.show()"
      ]
    },
    {
      "cell_type": "code",
      "execution_count": null,
      "metadata": {
        "id": "pmpSbGE-1Cot"
      },
      "outputs": [],
      "source": []
    }
  ],
  "metadata": {
    "colab": {
      "provenance": []
    },
    "kernelspec": {
      "display_name": "Python 3",
      "name": "python3"
    },
    "language_info": {
      "name": "python"
    }
  },
  "nbformat": 4,
  "nbformat_minor": 0
}